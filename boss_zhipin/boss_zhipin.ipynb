{
 "cells": [
  {
   "cell_type": "markdown",
   "metadata": {},
   "source": [
    "### 全国14个热门城市，搜索数据分析岗位的结果条目，共4087条"
   ]
  },
  {
   "cell_type": "code",
   "execution_count": 25,
   "metadata": {},
   "outputs": [],
   "source": [
    "import numpy as np\n",
    "import pandas as pd\n",
    "import matplotlib.pyplot as plt\n",
    "plt.rcParams['font.sans-serif']=['SimHei'] \n",
    "plt.rcParams['axes.unicode_minus'] = False"
   ]
  },
  {
   "cell_type": "code",
   "execution_count": 5,
   "metadata": {},
   "outputs": [],
   "source": [
    "data = pd.read_excel(r'C:\\Users\\lee\\Desktop\\boss_zhipin.xls',sheet_name='boss_res')"
   ]
  },
  {
   "cell_type": "code",
   "execution_count": 9,
   "metadata": {},
   "outputs": [
    {
     "data": {
      "text/html": [
       "<div>\n",
       "<style scoped>\n",
       "    .dataframe tbody tr th:only-of-type {\n",
       "        vertical-align: middle;\n",
       "    }\n",
       "\n",
       "    .dataframe tbody tr th {\n",
       "        vertical-align: top;\n",
       "    }\n",
       "\n",
       "    .dataframe thead th {\n",
       "        text-align: right;\n",
       "    }\n",
       "</style>\n",
       "<table border=\"1\" class=\"dataframe\">\n",
       "  <thead>\n",
       "    <tr style=\"text-align: right;\">\n",
       "      <th></th>\n",
       "      <th>id</th>\n",
       "      <th>job_title</th>\n",
       "      <th>experience</th>\n",
       "      <th>education</th>\n",
       "      <th>company_name</th>\n",
       "      <th>industry</th>\n",
       "      <th>situation</th>\n",
       "      <th>scale</th>\n",
       "      <th>city</th>\n",
       "      <th>area</th>\n",
       "      <th>salary_min</th>\n",
       "      <th>salary_max</th>\n",
       "      <th>full_time</th>\n",
       "      <th>month</th>\n",
       "    </tr>\n",
       "  </thead>\n",
       "  <tbody>\n",
       "    <tr>\n",
       "      <th>0</th>\n",
       "      <td>1</td>\n",
       "      <td>数据分析</td>\n",
       "      <td>1年以内</td>\n",
       "      <td>本科</td>\n",
       "      <td>捷越联合</td>\n",
       "      <td>互联网</td>\n",
       "      <td>不需要融资</td>\n",
       "      <td>1000-9999人</td>\n",
       "      <td>北京</td>\n",
       "      <td>东城区</td>\n",
       "      <td>6</td>\n",
       "      <td>10</td>\n",
       "      <td>是</td>\n",
       "      <td>12</td>\n",
       "    </tr>\n",
       "    <tr>\n",
       "      <th>1</th>\n",
       "      <td>2</td>\n",
       "      <td>数据分析师</td>\n",
       "      <td>1-3年</td>\n",
       "      <td>大专</td>\n",
       "      <td>小泽文化</td>\n",
       "      <td>培训机构</td>\n",
       "      <td>未融资</td>\n",
       "      <td>500-999人</td>\n",
       "      <td>北京</td>\n",
       "      <td>NaN</td>\n",
       "      <td>8</td>\n",
       "      <td>12</td>\n",
       "      <td>是</td>\n",
       "      <td>12</td>\n",
       "    </tr>\n",
       "    <tr>\n",
       "      <th>2</th>\n",
       "      <td>3</td>\n",
       "      <td>数据分析师（项目管理方向）</td>\n",
       "      <td>1-3年</td>\n",
       "      <td>本科</td>\n",
       "      <td>北京博万管理咨询</td>\n",
       "      <td>汽车生产</td>\n",
       "      <td>A轮</td>\n",
       "      <td>100-499人</td>\n",
       "      <td>北京</td>\n",
       "      <td>NaN</td>\n",
       "      <td>6</td>\n",
       "      <td>8</td>\n",
       "      <td>是</td>\n",
       "      <td>12</td>\n",
       "    </tr>\n",
       "    <tr>\n",
       "      <th>3</th>\n",
       "      <td>4</td>\n",
       "      <td>商业化数据分析师</td>\n",
       "      <td>经验不限</td>\n",
       "      <td>本科</td>\n",
       "      <td>茄子快传</td>\n",
       "      <td>互联网</td>\n",
       "      <td>B轮</td>\n",
       "      <td>100-499人</td>\n",
       "      <td>北京</td>\n",
       "      <td>海淀区</td>\n",
       "      <td>15</td>\n",
       "      <td>30</td>\n",
       "      <td>是</td>\n",
       "      <td>12</td>\n",
       "    </tr>\n",
       "    <tr>\n",
       "      <th>4</th>\n",
       "      <td>5</td>\n",
       "      <td>数据分析师（车贷业务）</td>\n",
       "      <td>1-3年</td>\n",
       "      <td>本科</td>\n",
       "      <td>北京恒昌利通</td>\n",
       "      <td>互联网金融</td>\n",
       "      <td>未融资</td>\n",
       "      <td>10000人以上</td>\n",
       "      <td>北京</td>\n",
       "      <td>朝阳区</td>\n",
       "      <td>9</td>\n",
       "      <td>14</td>\n",
       "      <td>是</td>\n",
       "      <td>12</td>\n",
       "    </tr>\n",
       "  </tbody>\n",
       "</table>\n",
       "</div>"
      ],
      "text/plain": [
       "   id      job_title experience education company_name industry situation  \\\n",
       "0   1           数据分析       1年以内        本科         捷越联合      互联网     不需要融资   \n",
       "1   2          数据分析师       1-3年        大专         小泽文化     培训机构       未融资   \n",
       "2   3  数据分析师（项目管理方向）       1-3年        本科     北京博万管理咨询     汽车生产        A轮   \n",
       "3   4       商业化数据分析师       经验不限        本科         茄子快传      互联网        B轮   \n",
       "4   5    数据分析师（车贷业务）       1-3年        本科       北京恒昌利通    互联网金融       未融资   \n",
       "\n",
       "        scale city area  salary_min salary_max full_time  month  \n",
       "0  1000-9999人   北京  东城区           6         10         是     12  \n",
       "1    500-999人   北京  NaN           8         12         是     12  \n",
       "2    100-499人   北京  NaN           6          8         是     12  \n",
       "3    100-499人   北京  海淀区          15         30         是     12  \n",
       "4    10000人以上   北京  朝阳区           9         14         是     12  "
      ]
     },
     "execution_count": 9,
     "metadata": {},
     "output_type": "execute_result"
    }
   ],
   "source": [
    "data.head()"
   ]
  },
  {
   "cell_type": "markdown",
   "metadata": {},
   "source": [
    "### 将id列设为索引"
   ]
  },
  {
   "cell_type": "code",
   "execution_count": 10,
   "metadata": {},
   "outputs": [],
   "source": [
    "data1 = data.set_index('id')"
   ]
  },
  {
   "cell_type": "code",
   "execution_count": 11,
   "metadata": {},
   "outputs": [
    {
     "name": "stdout",
     "output_type": "stream",
     "text": [
      "<class 'pandas.core.frame.DataFrame'>\n",
      "Int64Index: 4087 entries, 1 to 4087\n",
      "Data columns (total 13 columns):\n",
      "job_title       4087 non-null object\n",
      "experience      4087 non-null object\n",
      "education       4087 non-null object\n",
      "company_name    4087 non-null object\n",
      "industry        4087 non-null object\n",
      "situation       4087 non-null object\n",
      "scale           4087 non-null object\n",
      "city            4087 non-null object\n",
      "area            3510 non-null object\n",
      "salary_min      4087 non-null int64\n",
      "salary_max      4087 non-null object\n",
      "full_time       4087 non-null object\n",
      "month           4087 non-null int64\n",
      "dtypes: int64(2), object(11)\n",
      "memory usage: 447.0+ KB\n"
     ]
    }
   ],
   "source": [
    "data1.info()"
   ]
  },
  {
   "cell_type": "markdown",
   "metadata": {},
   "source": [
    "### 去除是实习工作的行，只保留全职工作"
   ]
  },
  {
   "cell_type": "code",
   "execution_count": 12,
   "metadata": {},
   "outputs": [],
   "source": [
    "drop_lt = data1[data1['full_time']=='否'].index"
   ]
  },
  {
   "cell_type": "code",
   "execution_count": 13,
   "metadata": {},
   "outputs": [],
   "source": [
    "data2 = data1.drop(drop_lt,axis=0)"
   ]
  },
  {
   "cell_type": "code",
   "execution_count": 14,
   "metadata": {},
   "outputs": [
    {
     "name": "stdout",
     "output_type": "stream",
     "text": [
      "<class 'pandas.core.frame.DataFrame'>\n",
      "Int64Index: 4011 entries, 1 to 4087\n",
      "Data columns (total 13 columns):\n",
      "job_title       4011 non-null object\n",
      "experience      4011 non-null object\n",
      "education       4011 non-null object\n",
      "company_name    4011 non-null object\n",
      "industry        4011 non-null object\n",
      "situation       4011 non-null object\n",
      "scale           4011 non-null object\n",
      "city            4011 non-null object\n",
      "area            3443 non-null object\n",
      "salary_min      4011 non-null int64\n",
      "salary_max      4011 non-null object\n",
      "full_time       4011 non-null object\n",
      "month           4011 non-null int64\n",
      "dtypes: int64(2), object(11)\n",
      "memory usage: 438.7+ KB\n"
     ]
    }
   ],
   "source": [
    "data2.info() #删除后还剩4011行，一共删除了76行"
   ]
  },
  {
   "cell_type": "markdown",
   "metadata": {},
   "source": [
    "### 增加平均年薪列"
   ]
  },
  {
   "cell_type": "code",
   "execution_count": 16,
   "metadata": {},
   "outputs": [],
   "source": [
    "data2['salary_max']=data2['salary_max'].astype('int64')"
   ]
  },
  {
   "cell_type": "code",
   "execution_count": 18,
   "metadata": {},
   "outputs": [],
   "source": [
    "data2['salary_year_avg'] = ((data2['salary_min']+data2['salary_max'])/2)*data2['month']"
   ]
  },
  {
   "cell_type": "markdown",
   "metadata": {},
   "source": [
    "### 增加平均工资列"
   ]
  },
  {
   "cell_type": "code",
   "execution_count": 21,
   "metadata": {},
   "outputs": [],
   "source": [
    "data2['salary_avg'] = data2['salary_year_avg']/12"
   ]
  },
  {
   "cell_type": "code",
   "execution_count": 22,
   "metadata": {},
   "outputs": [
    {
     "data": {
      "text/html": [
       "<div>\n",
       "<style scoped>\n",
       "    .dataframe tbody tr th:only-of-type {\n",
       "        vertical-align: middle;\n",
       "    }\n",
       "\n",
       "    .dataframe tbody tr th {\n",
       "        vertical-align: top;\n",
       "    }\n",
       "\n",
       "    .dataframe thead th {\n",
       "        text-align: right;\n",
       "    }\n",
       "</style>\n",
       "<table border=\"1\" class=\"dataframe\">\n",
       "  <thead>\n",
       "    <tr style=\"text-align: right;\">\n",
       "      <th></th>\n",
       "      <th>job_title</th>\n",
       "      <th>experience</th>\n",
       "      <th>education</th>\n",
       "      <th>company_name</th>\n",
       "      <th>industry</th>\n",
       "      <th>situation</th>\n",
       "      <th>scale</th>\n",
       "      <th>city</th>\n",
       "      <th>area</th>\n",
       "      <th>salary_min</th>\n",
       "      <th>salary_max</th>\n",
       "      <th>full_time</th>\n",
       "      <th>month</th>\n",
       "      <th>salary_year_avg</th>\n",
       "      <th>salary_avg</th>\n",
       "    </tr>\n",
       "    <tr>\n",
       "      <th>id</th>\n",
       "      <th></th>\n",
       "      <th></th>\n",
       "      <th></th>\n",
       "      <th></th>\n",
       "      <th></th>\n",
       "      <th></th>\n",
       "      <th></th>\n",
       "      <th></th>\n",
       "      <th></th>\n",
       "      <th></th>\n",
       "      <th></th>\n",
       "      <th></th>\n",
       "      <th></th>\n",
       "      <th></th>\n",
       "      <th></th>\n",
       "    </tr>\n",
       "  </thead>\n",
       "  <tbody>\n",
       "    <tr>\n",
       "      <th>1</th>\n",
       "      <td>数据分析</td>\n",
       "      <td>1年以内</td>\n",
       "      <td>本科</td>\n",
       "      <td>捷越联合</td>\n",
       "      <td>互联网</td>\n",
       "      <td>不需要融资</td>\n",
       "      <td>1000-9999人</td>\n",
       "      <td>北京</td>\n",
       "      <td>东城区</td>\n",
       "      <td>6</td>\n",
       "      <td>10</td>\n",
       "      <td>是</td>\n",
       "      <td>12</td>\n",
       "      <td>96.0</td>\n",
       "      <td>8.0</td>\n",
       "    </tr>\n",
       "    <tr>\n",
       "      <th>2</th>\n",
       "      <td>数据分析师</td>\n",
       "      <td>1-3年</td>\n",
       "      <td>大专</td>\n",
       "      <td>小泽文化</td>\n",
       "      <td>培训机构</td>\n",
       "      <td>未融资</td>\n",
       "      <td>500-999人</td>\n",
       "      <td>北京</td>\n",
       "      <td>NaN</td>\n",
       "      <td>8</td>\n",
       "      <td>12</td>\n",
       "      <td>是</td>\n",
       "      <td>12</td>\n",
       "      <td>120.0</td>\n",
       "      <td>10.0</td>\n",
       "    </tr>\n",
       "    <tr>\n",
       "      <th>3</th>\n",
       "      <td>数据分析师（项目管理方向）</td>\n",
       "      <td>1-3年</td>\n",
       "      <td>本科</td>\n",
       "      <td>北京博万管理咨询</td>\n",
       "      <td>汽车生产</td>\n",
       "      <td>A轮</td>\n",
       "      <td>100-499人</td>\n",
       "      <td>北京</td>\n",
       "      <td>NaN</td>\n",
       "      <td>6</td>\n",
       "      <td>8</td>\n",
       "      <td>是</td>\n",
       "      <td>12</td>\n",
       "      <td>84.0</td>\n",
       "      <td>7.0</td>\n",
       "    </tr>\n",
       "    <tr>\n",
       "      <th>4</th>\n",
       "      <td>商业化数据分析师</td>\n",
       "      <td>经验不限</td>\n",
       "      <td>本科</td>\n",
       "      <td>茄子快传</td>\n",
       "      <td>互联网</td>\n",
       "      <td>B轮</td>\n",
       "      <td>100-499人</td>\n",
       "      <td>北京</td>\n",
       "      <td>海淀区</td>\n",
       "      <td>15</td>\n",
       "      <td>30</td>\n",
       "      <td>是</td>\n",
       "      <td>12</td>\n",
       "      <td>270.0</td>\n",
       "      <td>22.5</td>\n",
       "    </tr>\n",
       "    <tr>\n",
       "      <th>5</th>\n",
       "      <td>数据分析师（车贷业务）</td>\n",
       "      <td>1-3年</td>\n",
       "      <td>本科</td>\n",
       "      <td>北京恒昌利通</td>\n",
       "      <td>互联网金融</td>\n",
       "      <td>未融资</td>\n",
       "      <td>10000人以上</td>\n",
       "      <td>北京</td>\n",
       "      <td>朝阳区</td>\n",
       "      <td>9</td>\n",
       "      <td>14</td>\n",
       "      <td>是</td>\n",
       "      <td>12</td>\n",
       "      <td>138.0</td>\n",
       "      <td>11.5</td>\n",
       "    </tr>\n",
       "  </tbody>\n",
       "</table>\n",
       "</div>"
      ],
      "text/plain": [
       "        job_title experience education company_name industry situation  \\\n",
       "id                                                                       \n",
       "1            数据分析       1年以内        本科         捷越联合      互联网     不需要融资   \n",
       "2           数据分析师       1-3年        大专         小泽文化     培训机构       未融资   \n",
       "3   数据分析师（项目管理方向）       1-3年        本科     北京博万管理咨询     汽车生产        A轮   \n",
       "4        商业化数据分析师       经验不限        本科         茄子快传      互联网        B轮   \n",
       "5     数据分析师（车贷业务）       1-3年        本科       北京恒昌利通    互联网金融       未融资   \n",
       "\n",
       "         scale city area  salary_min  salary_max full_time  month  \\\n",
       "id                                                                  \n",
       "1   1000-9999人   北京  东城区           6          10         是     12   \n",
       "2     500-999人   北京  NaN           8          12         是     12   \n",
       "3     100-499人   北京  NaN           6           8         是     12   \n",
       "4     100-499人   北京  海淀区          15          30         是     12   \n",
       "5     10000人以上   北京  朝阳区           9          14         是     12   \n",
       "\n",
       "    salary_year_avg  salary_avg  \n",
       "id                               \n",
       "1              96.0         8.0  \n",
       "2             120.0        10.0  \n",
       "3              84.0         7.0  \n",
       "4             270.0        22.5  \n",
       "5             138.0        11.5  "
      ]
     },
     "execution_count": 22,
     "metadata": {},
     "output_type": "execute_result"
    }
   ],
   "source": [
    "data2.head()"
   ]
  },
  {
   "cell_type": "markdown",
   "metadata": {},
   "source": [
    "### 14城总体工资分布情况"
   ]
  },
  {
   "cell_type": "code",
   "execution_count": 42,
   "metadata": {},
   "outputs": [
    {
     "data": {
      "text/plain": [
       "count    4011.000000\n",
       "mean       10.660870\n",
       "std         7.668183\n",
       "min         1.500000\n",
       "25%         5.958333\n",
       "50%         8.000000\n",
       "75%        12.500000\n",
       "max        95.000000\n",
       "Name: salary_avg, dtype: float64"
      ]
     },
     "execution_count": 42,
     "metadata": {},
     "output_type": "execute_result"
    }
   ],
   "source": [
    "data2['salary_avg'].describe()"
   ]
  },
  {
   "cell_type": "code",
   "execution_count": 41,
   "metadata": {},
   "outputs": [
    {
     "data": {
      "image/png": "[encoded data removed]",
      "text/plain": [
       "<Figure size 432x288 with 1 Axes>"
      ]
     },
     "metadata": {
      "needs_background": "light"
     },
     "output_type": "display_data"
    }
   ],
   "source": [
    "data2['salary_avg'].plot(kind='box')\n",
    "plt.show()"
   ]
  },
  {
   "cell_type": "markdown",
   "metadata": {},
   "source": [
    "### 工资的中位数为8k，最低工资1.5k,最高工资95k"
   ]
  },
  {
   "cell_type": "code",
   "execution_count": 47,
   "metadata": {},
   "outputs": [
    {
     "data": {
      "text/html": [
       "<div>\n",
       "<style scoped>\n",
       "    .dataframe tbody tr th:only-of-type {\n",
       "        vertical-align: middle;\n",
       "    }\n",
       "\n",
       "    .dataframe tbody tr th {\n",
       "        vertical-align: top;\n",
       "    }\n",
       "\n",
       "    .dataframe thead th {\n",
       "        text-align: right;\n",
       "    }\n",
       "</style>\n",
       "<table border=\"1\" class=\"dataframe\">\n",
       "  <thead>\n",
       "    <tr style=\"text-align: right;\">\n",
       "      <th></th>\n",
       "      <th>job_title</th>\n",
       "      <th>experience</th>\n",
       "      <th>education</th>\n",
       "      <th>company_name</th>\n",
       "      <th>industry</th>\n",
       "      <th>situation</th>\n",
       "      <th>scale</th>\n",
       "      <th>city</th>\n",
       "      <th>area</th>\n",
       "      <th>salary_min</th>\n",
       "      <th>salary_max</th>\n",
       "      <th>full_time</th>\n",
       "      <th>month</th>\n",
       "      <th>salary_year_avg</th>\n",
       "      <th>salary_avg</th>\n",
       "    </tr>\n",
       "    <tr>\n",
       "      <th>id</th>\n",
       "      <th></th>\n",
       "      <th></th>\n",
       "      <th></th>\n",
       "      <th></th>\n",
       "      <th></th>\n",
       "      <th></th>\n",
       "      <th></th>\n",
       "      <th></th>\n",
       "      <th></th>\n",
       "      <th></th>\n",
       "      <th></th>\n",
       "      <th></th>\n",
       "      <th></th>\n",
       "      <th></th>\n",
       "      <th></th>\n",
       "    </tr>\n",
       "  </thead>\n",
       "  <tbody>\n",
       "    <tr>\n",
       "      <th>1712</th>\n",
       "      <td>实习助理（在校生）</td>\n",
       "      <td>经验不限</td>\n",
       "      <td>本科</td>\n",
       "      <td>凤凰房产</td>\n",
       "      <td>互联网</td>\n",
       "      <td>不需要融资</td>\n",
       "      <td>1000-9999人</td>\n",
       "      <td>天津</td>\n",
       "      <td>南开区</td>\n",
       "      <td>1</td>\n",
       "      <td>2</td>\n",
       "      <td>是</td>\n",
       "      <td>12</td>\n",
       "      <td>18.0</td>\n",
       "      <td>1.5</td>\n",
       "    </tr>\n",
       "    <tr>\n",
       "      <th>3256</th>\n",
       "      <td>买手</td>\n",
       "      <td>1年以内</td>\n",
       "      <td>学历不限</td>\n",
       "      <td>华宇星空</td>\n",
       "      <td>广播/影视</td>\n",
       "      <td>未融资</td>\n",
       "      <td>20-99人</td>\n",
       "      <td>长沙</td>\n",
       "      <td>开福区</td>\n",
       "      <td>1</td>\n",
       "      <td>2</td>\n",
       "      <td>是</td>\n",
       "      <td>12</td>\n",
       "      <td>18.0</td>\n",
       "      <td>1.5</td>\n",
       "    </tr>\n",
       "    <tr>\n",
       "      <th>3555</th>\n",
       "      <td>外贸专员(兼职)</td>\n",
       "      <td>1-3年</td>\n",
       "      <td>本科</td>\n",
       "      <td>搜腾数控</td>\n",
       "      <td>贸易/进出口</td>\n",
       "      <td>未融资</td>\n",
       "      <td>0-20人</td>\n",
       "      <td>成都</td>\n",
       "      <td>武侯区</td>\n",
       "      <td>1</td>\n",
       "      <td>2</td>\n",
       "      <td>是</td>\n",
       "      <td>12</td>\n",
       "      <td>18.0</td>\n",
       "      <td>1.5</td>\n",
       "    </tr>\n",
       "    <tr>\n",
       "      <th>3919</th>\n",
       "      <td>电商运营学徒</td>\n",
       "      <td>应届生</td>\n",
       "      <td>学历不限</td>\n",
       "      <td>港潮实业</td>\n",
       "      <td>服装/纺织/皮革</td>\n",
       "      <td>未融资</td>\n",
       "      <td>0-20人</td>\n",
       "      <td>重庆</td>\n",
       "      <td>九龙坡区</td>\n",
       "      <td>1</td>\n",
       "      <td>2</td>\n",
       "      <td>是</td>\n",
       "      <td>12</td>\n",
       "      <td>18.0</td>\n",
       "      <td>1.5</td>\n",
       "    </tr>\n",
       "    <tr>\n",
       "      <th>4053</th>\n",
       "      <td>产品运营</td>\n",
       "      <td>应届生</td>\n",
       "      <td>本科</td>\n",
       "      <td>犇天科技</td>\n",
       "      <td>电子商务</td>\n",
       "      <td>不需要融资</td>\n",
       "      <td>20-99人</td>\n",
       "      <td>重庆</td>\n",
       "      <td>渝中区</td>\n",
       "      <td>80</td>\n",
       "      <td>110</td>\n",
       "      <td>是</td>\n",
       "      <td>12</td>\n",
       "      <td>1140.0</td>\n",
       "      <td>95.0</td>\n",
       "    </tr>\n",
       "    <tr>\n",
       "      <th>4066</th>\n",
       "      <td>实习生</td>\n",
       "      <td>经验不限</td>\n",
       "      <td>学历不限</td>\n",
       "      <td>盈佳同享</td>\n",
       "      <td>其他服务业</td>\n",
       "      <td>100-499人</td>\n",
       "      <td>100-499人</td>\n",
       "      <td>重庆</td>\n",
       "      <td>江北区</td>\n",
       "      <td>1</td>\n",
       "      <td>2</td>\n",
       "      <td>是</td>\n",
       "      <td>12</td>\n",
       "      <td>18.0</td>\n",
       "      <td>1.5</td>\n",
       "    </tr>\n",
       "  </tbody>\n",
       "</table>\n",
       "</div>"
      ],
      "text/plain": [
       "      job_title experience education company_name  industry situation  \\\n",
       "id                                                                      \n",
       "1712  实习助理（在校生）       经验不限        本科         凤凰房产       互联网     不需要融资   \n",
       "3256         买手       1年以内      学历不限         华宇星空     广播/影视       未融资   \n",
       "3555   外贸专员(兼职)       1-3年        本科         搜腾数控    贸易/进出口       未融资   \n",
       "3919     电商运营学徒        应届生      学历不限         港潮实业  服装/纺织/皮革       未融资   \n",
       "4053       产品运营        应届生        本科         犇天科技      电子商务     不需要融资   \n",
       "4066        实习生       经验不限      学历不限         盈佳同享     其他服务业  100-499人   \n",
       "\n",
       "           scale city  area  salary_min  salary_max full_time  month  \\\n",
       "id                                                                     \n",
       "1712  1000-9999人   天津   南开区           1           2         是     12   \n",
       "3256      20-99人   长沙   开福区           1           2         是     12   \n",
       "3555       0-20人   成都   武侯区           1           2         是     12   \n",
       "3919       0-20人   重庆  九龙坡区           1           2         是     12   \n",
       "4053      20-99人   重庆   渝中区          80         110         是     12   \n",
       "4066    100-499人   重庆   江北区           1           2         是     12   \n",
       "\n",
       "      salary_year_avg  salary_avg  \n",
       "id                                 \n",
       "1712             18.0         1.5  \n",
       "3256             18.0         1.5  \n",
       "3555             18.0         1.5  \n",
       "3919             18.0         1.5  \n",
       "4053           1140.0        95.0  \n",
       "4066             18.0         1.5  "
      ]
     },
     "execution_count": 47,
     "metadata": {},
     "output_type": "execute_result"
    }
   ],
   "source": [
    "data2[data2['salary_avg'].isin([1.5,95])]"
   ]
  },
  {
   "cell_type": "markdown",
   "metadata": {},
   "source": [
    "### 发现其中并没有数据分析岗，而是其他的岗位，与这些公司发布职位的分类有关"
   ]
  },
  {
   "cell_type": "code",
   "execution_count": 54,
   "metadata": {},
   "outputs": [
    {
     "data": {
      "image/png": "[encoded data removed]",
      "text/plain": [
       "<Figure size 576x432 with 1 Axes>"
      ]
     },
     "metadata": {
      "needs_background": "light"
     },
     "output_type": "display_data"
    }
   ],
   "source": [
    "fig,ax = plt.subplots(1,1,figsize=(8,6))\n",
    "ax.hist(data2['salary_avg'],bins=20,density=True)\n",
    "#data2['salary_avg'].plot(ax=ax,kind='kde')\n",
    "ax.set_xticks(range(5,100,5))\n",
    "ax.grid(True)\n",
    "plt.show()"
   ]
  },
  {
   "cell_type": "markdown",
   "metadata": {},
   "source": [
    "### 多数工资为6k-11k左右，其次为3k-6k"
   ]
  },
  {
   "cell_type": "markdown",
   "metadata": {},
   "source": [
    "### 不同城市的工资情况"
   ]
  },
  {
   "cell_type": "code",
   "execution_count": 55,
   "metadata": {},
   "outputs": [
    {
     "data": {
      "text/plain": [
       "苏州    298\n",
       "天津    298\n",
       "深圳    298\n",
       "厦门    297\n",
       "成都    295\n",
       "重庆    295\n",
       "武汉    295\n",
       "广州    292\n",
       "杭州    288\n",
       "北京    287\n",
       "西安    284\n",
       "长沙    283\n",
       "上海    281\n",
       "郑州    220\n",
       "Name: city, dtype: int64"
      ]
     },
     "execution_count": 55,
     "metadata": {},
     "output_type": "execute_result"
    }
   ],
   "source": [
    "data2.city.value_counts()"
   ]
  },
  {
   "cell_type": "code",
   "execution_count": 75,
   "metadata": {},
   "outputs": [
    {
     "data": {
      "text/plain": [
       "<matplotlib.legend.Legend at 0x2361f611a58>"
      ]
     },
     "execution_count": 75,
     "metadata": {},
     "output_type": "execute_result"
    },
    {
     "data": {
      "image/png": "[encoded data removed]",
      "text/plain": [
       "<Figure size 864x432 with 1 Axes>"
      ]
     },
     "metadata": {
      "needs_background": "light"
     },
     "output_type": "display_data"
    }
   ],
   "source": [
    "ser = data2.groupby('city')['salary_avg'].median()\n",
    "\n",
    "fig,a = plt.subplots(1,1,figsize=(12,6))\n",
    "ser.plot(kind='bar',ax=a,width=0.8,color='gold',label='各城市平均工资')\n",
    "a.plot(ser.index,np.array(np.random.randint(8,9,14)),linestyle='--',label='全国平均工资')\n",
    "plt.legend(loc='best')"
   ]
  },
  {
   "cell_type": "markdown",
   "metadata": {},
   "source": [
    "### 各城市的平均工资都高于6k,其中高于全国平均线的为北京、上海、杭州、深圳、广州"
   ]
  },
  {
   "cell_type": "code",
   "execution_count": 76,
   "metadata": {},
   "outputs": [
    {
     "data": {
      "text/html": [
       "<div>\n",
       "<style scoped>\n",
       "    .dataframe tbody tr th:only-of-type {\n",
       "        vertical-align: middle;\n",
       "    }\n",
       "\n",
       "    .dataframe tbody tr th {\n",
       "        vertical-align: top;\n",
       "    }\n",
       "\n",
       "    .dataframe thead th {\n",
       "        text-align: right;\n",
       "    }\n",
       "</style>\n",
       "<table border=\"1\" class=\"dataframe\">\n",
       "  <thead>\n",
       "    <tr style=\"text-align: right;\">\n",
       "      <th></th>\n",
       "      <th>job_title</th>\n",
       "      <th>experience</th>\n",
       "      <th>education</th>\n",
       "      <th>company_name</th>\n",
       "      <th>industry</th>\n",
       "      <th>situation</th>\n",
       "      <th>scale</th>\n",
       "      <th>city</th>\n",
       "      <th>area</th>\n",
       "      <th>salary_min</th>\n",
       "      <th>salary_max</th>\n",
       "      <th>full_time</th>\n",
       "      <th>month</th>\n",
       "      <th>salary_year_avg</th>\n",
       "      <th>salary_avg</th>\n",
       "    </tr>\n",
       "    <tr>\n",
       "      <th>id</th>\n",
       "      <th></th>\n",
       "      <th></th>\n",
       "      <th></th>\n",
       "      <th></th>\n",
       "      <th></th>\n",
       "      <th></th>\n",
       "      <th></th>\n",
       "      <th></th>\n",
       "      <th></th>\n",
       "      <th></th>\n",
       "      <th></th>\n",
       "      <th></th>\n",
       "      <th></th>\n",
       "      <th></th>\n",
       "      <th></th>\n",
       "    </tr>\n",
       "  </thead>\n",
       "  <tbody>\n",
       "    <tr>\n",
       "      <th>1</th>\n",
       "      <td>数据分析</td>\n",
       "      <td>1年以内</td>\n",
       "      <td>本科</td>\n",
       "      <td>捷越联合</td>\n",
       "      <td>互联网</td>\n",
       "      <td>不需要融资</td>\n",
       "      <td>1000-9999人</td>\n",
       "      <td>北京</td>\n",
       "      <td>东城区</td>\n",
       "      <td>6</td>\n",
       "      <td>10</td>\n",
       "      <td>是</td>\n",
       "      <td>12</td>\n",
       "      <td>96.0</td>\n",
       "      <td>8.0</td>\n",
       "    </tr>\n",
       "    <tr>\n",
       "      <th>2</th>\n",
       "      <td>数据分析师</td>\n",
       "      <td>1-3年</td>\n",
       "      <td>大专</td>\n",
       "      <td>小泽文化</td>\n",
       "      <td>培训机构</td>\n",
       "      <td>未融资</td>\n",
       "      <td>500-999人</td>\n",
       "      <td>北京</td>\n",
       "      <td>NaN</td>\n",
       "      <td>8</td>\n",
       "      <td>12</td>\n",
       "      <td>是</td>\n",
       "      <td>12</td>\n",
       "      <td>120.0</td>\n",
       "      <td>10.0</td>\n",
       "    </tr>\n",
       "    <tr>\n",
       "      <th>3</th>\n",
       "      <td>数据分析师（项目管理方向）</td>\n",
       "      <td>1-3年</td>\n",
       "      <td>本科</td>\n",
       "      <td>北京博万管理咨询</td>\n",
       "      <td>汽车生产</td>\n",
       "      <td>A轮</td>\n",
       "      <td>100-499人</td>\n",
       "      <td>北京</td>\n",
       "      <td>NaN</td>\n",
       "      <td>6</td>\n",
       "      <td>8</td>\n",
       "      <td>是</td>\n",
       "      <td>12</td>\n",
       "      <td>84.0</td>\n",
       "      <td>7.0</td>\n",
       "    </tr>\n",
       "    <tr>\n",
       "      <th>4</th>\n",
       "      <td>商业化数据分析师</td>\n",
       "      <td>经验不限</td>\n",
       "      <td>本科</td>\n",
       "      <td>茄子快传</td>\n",
       "      <td>互联网</td>\n",
       "      <td>B轮</td>\n",
       "      <td>100-499人</td>\n",
       "      <td>北京</td>\n",
       "      <td>海淀区</td>\n",
       "      <td>15</td>\n",
       "      <td>30</td>\n",
       "      <td>是</td>\n",
       "      <td>12</td>\n",
       "      <td>270.0</td>\n",
       "      <td>22.5</td>\n",
       "    </tr>\n",
       "    <tr>\n",
       "      <th>5</th>\n",
       "      <td>数据分析师（车贷业务）</td>\n",
       "      <td>1-3年</td>\n",
       "      <td>本科</td>\n",
       "      <td>北京恒昌利通</td>\n",
       "      <td>互联网金融</td>\n",
       "      <td>未融资</td>\n",
       "      <td>10000人以上</td>\n",
       "      <td>北京</td>\n",
       "      <td>朝阳区</td>\n",
       "      <td>9</td>\n",
       "      <td>14</td>\n",
       "      <td>是</td>\n",
       "      <td>12</td>\n",
       "      <td>138.0</td>\n",
       "      <td>11.5</td>\n",
       "    </tr>\n",
       "  </tbody>\n",
       "</table>\n",
       "</div>"
      ],
      "text/plain": [
       "        job_title experience education company_name industry situation  \\\n",
       "id                                                                       \n",
       "1            数据分析       1年以内        本科         捷越联合      互联网     不需要融资   \n",
       "2           数据分析师       1-3年        大专         小泽文化     培训机构       未融资   \n",
       "3   数据分析师（项目管理方向）       1-3年        本科     北京博万管理咨询     汽车生产        A轮   \n",
       "4        商业化数据分析师       经验不限        本科         茄子快传      互联网        B轮   \n",
       "5     数据分析师（车贷业务）       1-3年        本科       北京恒昌利通    互联网金融       未融资   \n",
       "\n",
       "         scale city area  salary_min  salary_max full_time  month  \\\n",
       "id                                                                  \n",
       "1   1000-9999人   北京  东城区           6          10         是     12   \n",
       "2     500-999人   北京  NaN           8          12         是     12   \n",
       "3     100-499人   北京  NaN           6           8         是     12   \n",
       "4     100-499人   北京  海淀区          15          30         是     12   \n",
       "5     10000人以上   北京  朝阳区           9          14         是     12   \n",
       "\n",
       "    salary_year_avg  salary_avg  \n",
       "id                               \n",
       "1              96.0         8.0  \n",
       "2             120.0        10.0  \n",
       "3              84.0         7.0  \n",
       "4             270.0        22.5  \n",
       "5             138.0        11.5  "
      ]
     },
     "execution_count": 76,
     "metadata": {},
     "output_type": "execute_result"
    }
   ],
   "source": [
    "data2.head()"
   ]
  },
  {
   "cell_type": "markdown",
   "metadata": {},
   "source": [
    "### 各学历分布情况"
   ]
  },
  {
   "cell_type": "code",
   "execution_count": 95,
   "metadata": {},
   "outputs": [
    {
     "data": {
      "text/plain": [
       "本科       2401\n",
       "大专       1112\n",
       "学历不限      299\n",
       "硕士         88\n",
       "高中         57\n",
       "中专/中技      46\n",
       "初中及以下       4\n",
       "博士          4\n",
       "Name: education, dtype: int64"
      ]
     },
     "execution_count": 95,
     "metadata": {},
     "output_type": "execute_result"
    }
   ],
   "source": [
    "data2['education'].value_counts()"
   ]
  },
  {
   "cell_type": "markdown",
   "metadata": {},
   "source": [
    "### 要求博士学历的很少，看一下是哪些职位要求博士的"
   ]
  },
  {
   "cell_type": "code",
   "execution_count": 106,
   "metadata": {},
   "outputs": [
    {
     "data": {
      "text/html": [
       "<div>\n",
       "<style scoped>\n",
       "    .dataframe tbody tr th:only-of-type {\n",
       "        vertical-align: middle;\n",
       "    }\n",
       "\n",
       "    .dataframe tbody tr th {\n",
       "        vertical-align: top;\n",
       "    }\n",
       "\n",
       "    .dataframe thead th {\n",
       "        text-align: right;\n",
       "    }\n",
       "</style>\n",
       "<table border=\"1\" class=\"dataframe\">\n",
       "  <thead>\n",
       "    <tr style=\"text-align: right;\">\n",
       "      <th></th>\n",
       "      <th>job_title</th>\n",
       "      <th>experience</th>\n",
       "      <th>education</th>\n",
       "      <th>company_name</th>\n",
       "      <th>industry</th>\n",
       "      <th>situation</th>\n",
       "      <th>scale</th>\n",
       "      <th>city</th>\n",
       "      <th>area</th>\n",
       "      <th>salary_min</th>\n",
       "      <th>salary_max</th>\n",
       "      <th>full_time</th>\n",
       "      <th>month</th>\n",
       "      <th>salary_year_avg</th>\n",
       "      <th>salary_avg</th>\n",
       "    </tr>\n",
       "    <tr>\n",
       "      <th>id</th>\n",
       "      <th></th>\n",
       "      <th></th>\n",
       "      <th></th>\n",
       "      <th></th>\n",
       "      <th></th>\n",
       "      <th></th>\n",
       "      <th></th>\n",
       "      <th></th>\n",
       "      <th></th>\n",
       "      <th></th>\n",
       "      <th></th>\n",
       "      <th></th>\n",
       "      <th></th>\n",
       "      <th></th>\n",
       "      <th></th>\n",
       "    </tr>\n",
       "  </thead>\n",
       "  <tbody>\n",
       "    <tr>\n",
       "      <th>2613</th>\n",
       "      <td>医学总监</td>\n",
       "      <td>1年以内</td>\n",
       "      <td>博士</td>\n",
       "      <td>亿粲健康</td>\n",
       "      <td>医疗/护理/卫生</td>\n",
       "      <td>不需要融资</td>\n",
       "      <td>0-20人</td>\n",
       "      <td>武汉</td>\n",
       "      <td>武昌区</td>\n",
       "      <td>25</td>\n",
       "      <td>30</td>\n",
       "      <td>是</td>\n",
       "      <td>12</td>\n",
       "      <td>330.0</td>\n",
       "      <td>27.5</td>\n",
       "    </tr>\n",
       "    <tr>\n",
       "      <th>2669</th>\n",
       "      <td>博士后</td>\n",
       "      <td>经验不限</td>\n",
       "      <td>博士</td>\n",
       "      <td>武大计算机学院</td>\n",
       "      <td>计算机软件</td>\n",
       "      <td>100-499人</td>\n",
       "      <td>100-499人</td>\n",
       "      <td>武汉</td>\n",
       "      <td>武昌区</td>\n",
       "      <td>10</td>\n",
       "      <td>12</td>\n",
       "      <td>是</td>\n",
       "      <td>12</td>\n",
       "      <td>132.0</td>\n",
       "      <td>11.0</td>\n",
       "    </tr>\n",
       "    <tr>\n",
       "      <th>3964</th>\n",
       "      <td>人工智能研发</td>\n",
       "      <td>3-5年</td>\n",
       "      <td>博士</td>\n",
       "      <td>名医在线</td>\n",
       "      <td>互联网</td>\n",
       "      <td>不需要融资</td>\n",
       "      <td>20-99人</td>\n",
       "      <td>重庆</td>\n",
       "      <td>渝北区</td>\n",
       "      <td>15</td>\n",
       "      <td>30</td>\n",
       "      <td>是</td>\n",
       "      <td>12</td>\n",
       "      <td>270.0</td>\n",
       "      <td>22.5</td>\n",
       "    </tr>\n",
       "    <tr>\n",
       "      <th>3969</th>\n",
       "      <td>人工智能研发</td>\n",
       "      <td>经验不限</td>\n",
       "      <td>博士</td>\n",
       "      <td>重庆名医在线信息技术</td>\n",
       "      <td>互联网</td>\n",
       "      <td>未融资</td>\n",
       "      <td>20-99人</td>\n",
       "      <td>重庆</td>\n",
       "      <td>渝北区</td>\n",
       "      <td>20</td>\n",
       "      <td>30</td>\n",
       "      <td>是</td>\n",
       "      <td>12</td>\n",
       "      <td>300.0</td>\n",
       "      <td>25.0</td>\n",
       "    </tr>\n",
       "  </tbody>\n",
       "</table>\n",
       "</div>"
      ],
      "text/plain": [
       "     job_title experience education company_name  industry situation  \\\n",
       "id                                                                     \n",
       "2613      医学总监       1年以内        博士         亿粲健康  医疗/护理/卫生     不需要融资   \n",
       "2669       博士后       经验不限        博士      武大计算机学院     计算机软件  100-499人   \n",
       "3964    人工智能研发       3-5年        博士         名医在线       互联网     不需要融资   \n",
       "3969    人工智能研发       经验不限        博士   重庆名医在线信息技术       互联网       未融资   \n",
       "\n",
       "         scale city area  salary_min  salary_max full_time  month  \\\n",
       "id                                                                  \n",
       "2613     0-20人   武汉  武昌区          25          30         是     12   \n",
       "2669  100-499人   武汉  武昌区          10          12         是     12   \n",
       "3964    20-99人   重庆  渝北区          15          30         是     12   \n",
       "3969    20-99人   重庆  渝北区          20          30         是     12   \n",
       "\n",
       "      salary_year_avg  salary_avg  \n",
       "id                                 \n",
       "2613            330.0        27.5  \n",
       "2669            132.0        11.0  \n",
       "3964            270.0        22.5  \n",
       "3969            300.0        25.0  "
      ]
     },
     "execution_count": 106,
     "metadata": {},
     "output_type": "execute_result"
    }
   ],
   "source": [
    "data2[data2['education']=='博士']"
   ]
  },
  {
   "cell_type": "markdown",
   "metadata": {},
   "source": [
    "### 学历与工资的关系"
   ]
  },
  {
   "cell_type": "code",
   "execution_count": 100,
   "metadata": {},
   "outputs": [
    {
     "data": {
      "text/plain": [
       "education\n",
       "中专/中技     5.750\n",
       "初中及以下    10.500\n",
       "博士       23.750\n",
       "大专        6.500\n",
       "学历不限      6.000\n",
       "本科       10.500\n",
       "硕士       11.375\n",
       "高中        6.000\n",
       "Name: salary_avg, dtype: float64"
      ]
     },
     "execution_count": 100,
     "metadata": {},
     "output_type": "execute_result"
    }
   ],
   "source": [
    "se = data2.groupby('education')['salary_avg'].median()\n",
    "se"
   ]
  },
  {
   "cell_type": "code",
   "execution_count": 101,
   "metadata": {},
   "outputs": [],
   "source": [
    "se = se.sort_values(ascending=False)"
   ]
  },
  {
   "cell_type": "code",
   "execution_count": 105,
   "metadata": {},
   "outputs": [
    {
     "data": {
      "image/png": "[encoded data removed]",
      "text/plain": [
       "<Figure size 576x432 with 1 Axes>"
      ]
     },
     "metadata": {
      "needs_background": "light"
     },
     "output_type": "display_data"
    }
   ],
   "source": [
    "fig,aa = plt.subplots(1,1,figsize=(8,6))\n",
    "se.plot(kind='bar',color='green')\n",
    "plt.title('学历与工资的关系')\n",
    "plt.show()"
   ]
  },
  {
   "cell_type": "markdown",
   "metadata": {},
   "source": [
    "### 总体而言，学历越高，工资越高"
   ]
  },
  {
   "cell_type": "code",
   "execution_count": 103,
   "metadata": {},
   "outputs": [
    {
     "data": {
      "text/html": [
       "<div>\n",
       "<style scoped>\n",
       "    .dataframe tbody tr th:only-of-type {\n",
       "        vertical-align: middle;\n",
       "    }\n",
       "\n",
       "    .dataframe tbody tr th {\n",
       "        vertical-align: top;\n",
       "    }\n",
       "\n",
       "    .dataframe thead th {\n",
       "        text-align: right;\n",
       "    }\n",
       "</style>\n",
       "<table border=\"1\" class=\"dataframe\">\n",
       "  <thead>\n",
       "    <tr style=\"text-align: right;\">\n",
       "      <th></th>\n",
       "      <th>job_title</th>\n",
       "      <th>experience</th>\n",
       "      <th>education</th>\n",
       "      <th>company_name</th>\n",
       "      <th>industry</th>\n",
       "      <th>situation</th>\n",
       "      <th>scale</th>\n",
       "      <th>city</th>\n",
       "      <th>area</th>\n",
       "      <th>salary_min</th>\n",
       "      <th>salary_max</th>\n",
       "      <th>full_time</th>\n",
       "      <th>month</th>\n",
       "      <th>salary_year_avg</th>\n",
       "      <th>salary_avg</th>\n",
       "    </tr>\n",
       "    <tr>\n",
       "      <th>id</th>\n",
       "      <th></th>\n",
       "      <th></th>\n",
       "      <th></th>\n",
       "      <th></th>\n",
       "      <th></th>\n",
       "      <th></th>\n",
       "      <th></th>\n",
       "      <th></th>\n",
       "      <th></th>\n",
       "      <th></th>\n",
       "      <th></th>\n",
       "      <th></th>\n",
       "      <th></th>\n",
       "      <th></th>\n",
       "      <th></th>\n",
       "    </tr>\n",
       "  </thead>\n",
       "  <tbody>\n",
       "    <tr>\n",
       "      <th>2814</th>\n",
       "      <td>python java c++</td>\n",
       "      <td>1-3年</td>\n",
       "      <td>初中及以下</td>\n",
       "      <td>纳川</td>\n",
       "      <td>移动互联网</td>\n",
       "      <td>0-20人</td>\n",
       "      <td>0-20人</td>\n",
       "      <td>厦门</td>\n",
       "      <td>同安区</td>\n",
       "      <td>9</td>\n",
       "      <td>14</td>\n",
       "      <td>是</td>\n",
       "      <td>12</td>\n",
       "      <td>138.0</td>\n",
       "      <td>11.5</td>\n",
       "    </tr>\n",
       "    <tr>\n",
       "      <th>2975</th>\n",
       "      <td>阿里巴巴运营</td>\n",
       "      <td>5-10年</td>\n",
       "      <td>初中及以下</td>\n",
       "      <td>惠生活餐具</td>\n",
       "      <td>餐饮</td>\n",
       "      <td>不需要融资</td>\n",
       "      <td>0-20人</td>\n",
       "      <td>厦门</td>\n",
       "      <td>翔安区</td>\n",
       "      <td>7</td>\n",
       "      <td>12</td>\n",
       "      <td>是</td>\n",
       "      <td>12</td>\n",
       "      <td>114.0</td>\n",
       "      <td>9.5</td>\n",
       "    </tr>\n",
       "    <tr>\n",
       "      <th>3678</th>\n",
       "      <td>产品经理</td>\n",
       "      <td>经验不限</td>\n",
       "      <td>初中及以下</td>\n",
       "      <td>春之翼</td>\n",
       "      <td>通信/网络设备</td>\n",
       "      <td>未融资</td>\n",
       "      <td>100-499人</td>\n",
       "      <td>郑州</td>\n",
       "      <td>二七区</td>\n",
       "      <td>4</td>\n",
       "      <td>6</td>\n",
       "      <td>是</td>\n",
       "      <td>12</td>\n",
       "      <td>60.0</td>\n",
       "      <td>5.0</td>\n",
       "    </tr>\n",
       "    <tr>\n",
       "      <th>3993</th>\n",
       "      <td>新开工作室直招手游推广员</td>\n",
       "      <td>应届生</td>\n",
       "      <td>初中及以下</td>\n",
       "      <td>子夜网络</td>\n",
       "      <td>游戏</td>\n",
       "      <td>不需要融资</td>\n",
       "      <td>0-20人</td>\n",
       "      <td>重庆</td>\n",
       "      <td>沙坪坝区</td>\n",
       "      <td>17</td>\n",
       "      <td>18</td>\n",
       "      <td>是</td>\n",
       "      <td>12</td>\n",
       "      <td>210.0</td>\n",
       "      <td>17.5</td>\n",
       "    </tr>\n",
       "  </tbody>\n",
       "</table>\n",
       "</div>"
      ],
      "text/plain": [
       "            job_title experience education company_name industry situation  \\\n",
       "id                                                                           \n",
       "2814  python java c++       1-3年     初中及以下           纳川    移动互联网     0-20人   \n",
       "2975           阿里巴巴运营      5-10年     初中及以下        惠生活餐具       餐饮     不需要融资   \n",
       "3678             产品经理       经验不限     初中及以下          春之翼  通信/网络设备       未融资   \n",
       "3993     新开工作室直招手游推广员        应届生     初中及以下         子夜网络       游戏     不需要融资   \n",
       "\n",
       "         scale city  area  salary_min  salary_max full_time  month  \\\n",
       "id                                                                   \n",
       "2814     0-20人   厦门   同安区           9          14         是     12   \n",
       "2975     0-20人   厦门   翔安区           7          12         是     12   \n",
       "3678  100-499人   郑州   二七区           4           6         是     12   \n",
       "3993     0-20人   重庆  沙坪坝区          17          18         是     12   \n",
       "\n",
       "      salary_year_avg  salary_avg  \n",
       "id                                 \n",
       "2814            138.0        11.5  \n",
       "2975            114.0         9.5  \n",
       "3678             60.0         5.0  \n",
       "3993            210.0        17.5  "
      ]
     },
     "execution_count": 103,
     "metadata": {},
     "output_type": "execute_result"
    }
   ],
   "source": [
    "data2[data2['education']=='初中及以下']"
   ]
  },
  {
   "cell_type": "markdown",
   "metadata": {},
   "source": [
    "### 发现初中及以下学历的平均工资与本科一样，高过大专，查询出来的招聘信息如上，可能是这些公司为了在招聘时博得求职者关注，第2814条可能是培训机构"
   ]
  },
  {
   "cell_type": "markdown",
   "metadata": {},
   "source": [
    "### 工作经验与工资的关系"
   ]
  },
  {
   "cell_type": "code",
   "execution_count": 114,
   "metadata": {},
   "outputs": [],
   "source": [
    "ss = data2.groupby('experience')['salary_avg'].median()\n",
    "ss = ss.sort_values()"
   ]
  },
  {
   "cell_type": "code",
   "execution_count": 120,
   "metadata": {},
   "outputs": [
    {
     "data": {
      "image/png": "[encoded data removed]",
      "text/plain": [
       "<Figure size 720x432 with 1 Axes>"
      ]
     },
     "metadata": {
      "needs_background": "light"
     },
     "output_type": "display_data"
    }
   ],
   "source": [
    "ss.plot(kind= 'bar',figsize=(10,6))\n",
    "ss.plot(color='orange')\n",
    "plt.show()"
   ]
  },
  {
   "cell_type": "markdown",
   "metadata": {},
   "source": [
    "#### 由图可见，工作经验越高，相应的工资越高。经验为一年以内的与经验不限的工资水平基本一样。可以理解为‘1年以内’的意思其实就是经验不限。\n",
    "#### 从折线斜率看，新人在参加工作的前1-2年工资平稳增长，但越往后，则越值钱，可见数据分析是越老越吃香，与吃青春饭的程序员不一样。"
   ]
  },
  {
   "cell_type": "markdown",
   "metadata": {},
   "source": [
    "### 行业与工资的关系"
   ]
  },
  {
   "cell_type": "code",
   "execution_count": 133,
   "metadata": {
    "scrolled": true
   },
   "outputs": [
    {
     "data": {
      "text/plain": [
       "互联网            764\n",
       "电子商务           481\n",
       "计算机软件          327\n",
       "移动互联网          291\n",
       "互联网金融          183\n",
       "数据服务           161\n",
       "生活服务           117\n",
       "贸易/进出口         107\n",
       "企业服务           104\n",
       "医疗健康           102\n",
       "在线教育           102\n",
       "游戏              87\n",
       "广告营销            65\n",
       "其他行业            64\n",
       "物流/仓储           58\n",
       "培训机构            53\n",
       "咨询              52\n",
       "O2O             50\n",
       "批发/零售           49\n",
       "服装/纺织/皮革        45\n",
       "工程施工            37\n",
       "广告/公关/会展        36\n",
       "通信/网络设备         32\n",
       "新零售             30\n",
       "餐饮              30\n",
       "旅游              29\n",
       "音乐/视频/阅读        29\n",
       "信息安全            28\n",
       "智能硬件            28\n",
       "其他服务业           27\n",
       "              ... \n",
       "制药               5\n",
       "美容/美发            5\n",
       "电力/热力/燃气/水利      5\n",
       "办公用品及设备          5\n",
       "汽车零部件            5\n",
       "农/林/牧/渔          5\n",
       "印刷/包装/造纸         4\n",
       "专利/商标/知识产权       4\n",
       "院校               4\n",
       "法律               4\n",
       "石油/石化            4\n",
       "珠宝/首饰            4\n",
       "基金               4\n",
       "计算机硬件            3\n",
       "证券/期货            3\n",
       "新闻/出版            3\n",
       "日化               3\n",
       "玩具/礼品            3\n",
       "房地产开发            3\n",
       "分类信息             3\n",
       "船舶/航空/航天         2\n",
       "财务/审计/税务         2\n",
       "矿产/地质            2\n",
       "学前教育             2\n",
       "租赁/拍卖/典当/担保      2\n",
       "建筑设计             2\n",
       "物业服务             1\n",
       "化工               1\n",
       "翻译               1\n",
       "非盈利机构            1\n",
       "Name: industry, Length: 89, dtype: int64"
      ]
     },
     "execution_count": 133,
     "metadata": {},
     "output_type": "execute_result"
    }
   ],
   "source": [
    "data2['industry'].value_counts()"
   ]
  },
  {
   "cell_type": "markdown",
   "metadata": {},
   "source": [
    "### 招聘信息共来自于89个行业，其中最多的是互联网"
   ]
  },
  {
   "cell_type": "markdown",
   "metadata": {},
   "source": [
    "### 绘制一个以地图为背景的行业分布词云图"
   ]
  },
  {
   "cell_type": "code",
   "execution_count": 204,
   "metadata": {},
   "outputs": [
    {
     "data": {
      "text/plain": [
       "<matplotlib.image.AxesImage at 0x23621af7240>"
      ]
     },
     "execution_count": 204,
     "metadata": {},
     "output_type": "execute_result"
    },
    {
     "data": {
      "image/png": "[encoded data removed]",
      "text/plain": [
       "<Figure size 432x288 with 1 Axes>"
      ]
     },
     "metadata": {
      "needs_background": "light"
     },
     "output_type": "display_data"
    }
   ],
   "source": [
    "import jieba\n",
    "import wordcloud\n",
    "from imageio import imread\n",
    "mask=imread('Chinamap.jpg')\n",
    "w = wordcloud.WordCloud(width=1000,height=700,font_path='msyh.ttf',background_color='white',max_words=20,mask=mask)\n",
    "txt = ','.join(data2['industry'])\n",
    "ls = jieba.lcut(txt)\n",
    "txt = ' '.join(ls)\n",
    "res = w.generate(txt)\n",
    "plt.axis('off')\n",
    "plt.imshow(res)"
   ]
  },
  {
   "cell_type": "code",
   "execution_count": null,
   "metadata": {},
   "outputs": [],
   "source": [
    "#挑选前10个热门行业作分析"
   ]
  },
  {
   "cell_type": "code",
   "execution_count": 138,
   "metadata": {},
   "outputs": [
    {
     "data": {
      "text/plain": [
       "['互联网',\n",
       " '电子商务',\n",
       " '计算机软件',\n",
       " '移动互联网',\n",
       " '互联网金融',\n",
       " '数据服务',\n",
       " '生活服务',\n",
       " '贸易/进出口',\n",
       " '企业服务',\n",
       " '医疗健康']"
      ]
     },
     "execution_count": 138,
     "metadata": {},
     "output_type": "execute_result"
    }
   ],
   "source": [
    "industry_lt = data2['industry'].value_counts().head(10).index.tolist()\n",
    "industry_lt"
   ]
  },
  {
   "cell_type": "code",
   "execution_count": 142,
   "metadata": {
    "scrolled": true
   },
   "outputs": [],
   "source": [
    "industry_data = data2[data2['industry'].isin(industry_lt)]"
   ]
  },
  {
   "cell_type": "code",
   "execution_count": 152,
   "metadata": {
    "scrolled": true
   },
   "outputs": [
    {
     "data": {
      "text/html": [
       "<div>\n",
       "<style scoped>\n",
       "    .dataframe tbody tr th:only-of-type {\n",
       "        vertical-align: middle;\n",
       "    }\n",
       "\n",
       "    .dataframe tbody tr th {\n",
       "        vertical-align: top;\n",
       "    }\n",
       "\n",
       "    .dataframe thead th {\n",
       "        text-align: right;\n",
       "    }\n",
       "</style>\n",
       "<table border=\"1\" class=\"dataframe\">\n",
       "  <thead>\n",
       "    <tr style=\"text-align: right;\">\n",
       "      <th>education</th>\n",
       "      <th>中专/中技</th>\n",
       "      <th>初中及以下</th>\n",
       "      <th>博士</th>\n",
       "      <th>大专</th>\n",
       "      <th>学历不限</th>\n",
       "      <th>本科</th>\n",
       "      <th>硕士</th>\n",
       "      <th>高中</th>\n",
       "    </tr>\n",
       "    <tr>\n",
       "      <th>industry</th>\n",
       "      <th></th>\n",
       "      <th></th>\n",
       "      <th></th>\n",
       "      <th></th>\n",
       "      <th></th>\n",
       "      <th></th>\n",
       "      <th></th>\n",
       "      <th></th>\n",
       "    </tr>\n",
       "  </thead>\n",
       "  <tbody>\n",
       "    <tr>\n",
       "      <th>互联网</th>\n",
       "      <td>8.0</td>\n",
       "      <td>NaN</td>\n",
       "      <td>17.5</td>\n",
       "      <td>5.0</td>\n",
       "      <td>5.0</td>\n",
       "      <td>10.0</td>\n",
       "      <td>12.0</td>\n",
       "      <td>3.5</td>\n",
       "    </tr>\n",
       "    <tr>\n",
       "      <th>互联网金融</th>\n",
       "      <td>6.0</td>\n",
       "      <td>NaN</td>\n",
       "      <td>NaN</td>\n",
       "      <td>6.0</td>\n",
       "      <td>6.0</td>\n",
       "      <td>10.0</td>\n",
       "      <td>2.0</td>\n",
       "      <td>10.0</td>\n",
       "    </tr>\n",
       "    <tr>\n",
       "      <th>企业服务</th>\n",
       "      <td>10.0</td>\n",
       "      <td>NaN</td>\n",
       "      <td>NaN</td>\n",
       "      <td>4.0</td>\n",
       "      <td>5.0</td>\n",
       "      <td>8.0</td>\n",
       "      <td>7.0</td>\n",
       "      <td>3.0</td>\n",
       "    </tr>\n",
       "    <tr>\n",
       "      <th>医疗健康</th>\n",
       "      <td>4.0</td>\n",
       "      <td>NaN</td>\n",
       "      <td>NaN</td>\n",
       "      <td>4.0</td>\n",
       "      <td>8.0</td>\n",
       "      <td>6.0</td>\n",
       "      <td>6.0</td>\n",
       "      <td>5.0</td>\n",
       "    </tr>\n",
       "    <tr>\n",
       "      <th>数据服务</th>\n",
       "      <td>NaN</td>\n",
       "      <td>NaN</td>\n",
       "      <td>NaN</td>\n",
       "      <td>6.0</td>\n",
       "      <td>3.5</td>\n",
       "      <td>7.0</td>\n",
       "      <td>8.0</td>\n",
       "      <td>NaN</td>\n",
       "    </tr>\n",
       "    <tr>\n",
       "      <th>生活服务</th>\n",
       "      <td>4.0</td>\n",
       "      <td>NaN</td>\n",
       "      <td>NaN</td>\n",
       "      <td>4.0</td>\n",
       "      <td>4.0</td>\n",
       "      <td>6.0</td>\n",
       "      <td>20.0</td>\n",
       "      <td>4.0</td>\n",
       "    </tr>\n",
       "    <tr>\n",
       "      <th>电子商务</th>\n",
       "      <td>3.0</td>\n",
       "      <td>NaN</td>\n",
       "      <td>NaN</td>\n",
       "      <td>5.0</td>\n",
       "      <td>5.0</td>\n",
       "      <td>7.0</td>\n",
       "      <td>6.5</td>\n",
       "      <td>6.0</td>\n",
       "    </tr>\n",
       "    <tr>\n",
       "      <th>移动互联网</th>\n",
       "      <td>NaN</td>\n",
       "      <td>9.0</td>\n",
       "      <td>NaN</td>\n",
       "      <td>5.0</td>\n",
       "      <td>5.5</td>\n",
       "      <td>11.0</td>\n",
       "      <td>9.5</td>\n",
       "      <td>3.0</td>\n",
       "    </tr>\n",
       "    <tr>\n",
       "      <th>计算机软件</th>\n",
       "      <td>3.0</td>\n",
       "      <td>NaN</td>\n",
       "      <td>10.0</td>\n",
       "      <td>6.0</td>\n",
       "      <td>4.0</td>\n",
       "      <td>9.0</td>\n",
       "      <td>11.0</td>\n",
       "      <td>NaN</td>\n",
       "    </tr>\n",
       "    <tr>\n",
       "      <th>贸易/进出口</th>\n",
       "      <td>NaN</td>\n",
       "      <td>NaN</td>\n",
       "      <td>NaN</td>\n",
       "      <td>4.0</td>\n",
       "      <td>4.0</td>\n",
       "      <td>6.0</td>\n",
       "      <td>NaN</td>\n",
       "      <td>5.0</td>\n",
       "    </tr>\n",
       "  </tbody>\n",
       "</table>\n",
       "</div>"
      ],
      "text/plain": [
       "education  中专/中技  初中及以下    博士   大专  学历不限    本科    硕士    高中\n",
       "industry                                                  \n",
       "互联网          8.0    NaN  17.5  5.0   5.0  10.0  12.0   3.5\n",
       "互联网金融        6.0    NaN   NaN  6.0   6.0  10.0   2.0  10.0\n",
       "企业服务        10.0    NaN   NaN  4.0   5.0   8.0   7.0   3.0\n",
       "医疗健康         4.0    NaN   NaN  4.0   8.0   6.0   6.0   5.0\n",
       "数据服务         NaN    NaN   NaN  6.0   3.5   7.0   8.0   NaN\n",
       "生活服务         4.0    NaN   NaN  4.0   4.0   6.0  20.0   4.0\n",
       "电子商务         3.0    NaN   NaN  5.0   5.0   7.0   6.5   6.0\n",
       "移动互联网        NaN    9.0   NaN  5.0   5.5  11.0   9.5   3.0\n",
       "计算机软件        3.0    NaN  10.0  6.0   4.0   9.0  11.0   NaN\n",
       "贸易/进出口       NaN    NaN   NaN  4.0   4.0   6.0   NaN   5.0"
      ]
     },
     "execution_count": 152,
     "metadata": {},
     "output_type": "execute_result"
    }
   ],
   "source": [
    "res = industry_data.groupby(['industry','education'])['salary_min'].median()\n",
    "df = res.unstack(-1)\n",
    "df"
   ]
  },
  {
   "cell_type": "code",
   "execution_count": 172,
   "metadata": {},
   "outputs": [
    {
     "data": {
      "image/png": "[encoded data removed]",
      "text/plain": [
       "<Figure size 1080x720 with 1 Axes>"
      ]
     },
     "metadata": {
      "needs_background": "light"
     },
     "output_type": "display_data"
    }
   ],
   "source": [
    "df.plot(kind='bar',figsize=(15,10),width=1,color=['g','gold','c','m','wheat','cornflowerblue','tomato','y'])\n",
    "plt.show()"
   ]
  },
  {
   "cell_type": "markdown",
   "metadata": {},
   "source": [
    "### 可见平均工资较高的为生活服务行业的硕士，互联网行业的博士，互联网行业的硕士，移动互联网行业的本科，计算机软件行业的硕士"
   ]
  },
  {
   "cell_type": "code",
   "execution_count": 178,
   "metadata": {},
   "outputs": [
    {
     "data": {
      "text/plain": [
       "industry\n",
       "移动互联网     12.000000\n",
       "互联网金融     11.000000\n",
       "互联网       11.000000\n",
       "计算机软件     10.500000\n",
       "数据服务       9.208333\n",
       "企业服务       8.250000\n",
       "电子商务       7.500000\n",
       "医疗健康       7.000000\n",
       "贸易/进出口     6.500000\n",
       "生活服务       6.000000\n",
       "Name: salary_avg, dtype: float64"
      ]
     },
     "execution_count": 178,
     "metadata": {},
     "output_type": "execute_result"
    }
   ],
   "source": [
    "res1 = industry_data.groupby('industry')['salary_avg'].median()\n",
    "res1=res1.sort_values(ascending=False)\n",
    "res1"
   ]
  },
  {
   "cell_type": "code",
   "execution_count": 181,
   "metadata": {},
   "outputs": [
    {
     "data": {
      "image/png": "[encoded data removed]",
      "text/plain": [
       "<Figure size 576x432 with 1 Axes>"
      ]
     },
     "metadata": {
      "needs_background": "light"
     },
     "output_type": "display_data"
    }
   ],
   "source": [
    "res1.plot(kind='bar',figsize=(8,6))\n",
    "plt.show()"
   ]
  },
  {
   "cell_type": "markdown",
   "metadata": {},
   "source": [
    "### 整体平均工资最高前5名行业为：移动互联网，互联网金融，互联网，计算机软件、数据服务。因此在应聘数据分析工作时，需要注意这几个行业的表现较好。"
   ]
  },
  {
   "cell_type": "code",
   "execution_count": 208,
   "metadata": {},
   "outputs": [],
   "source": [
    "#data2.to_csv(r'C:\\Users\\lee\\Desktop\\boss_res.csv',index=False,encoding='utf_8_sig')"
   ]
  },
  {
   "cell_type": "markdown",
   "metadata": {},
   "source": [
    "### 什么规模的公司会有数据分析岗位招聘需求？"
   ]
  },
  {
   "cell_type": "code",
   "execution_count": 212,
   "metadata": {},
   "outputs": [
    {
     "data": {
      "text/plain": [
       "20-99人        1162\n",
       "100-499人      1048\n",
       "1000-9999人     623\n",
       "0-20人          497\n",
       "10000人以上       369\n",
       "500-999人       312\n",
       "Name: scale, dtype: int64"
      ]
     },
     "execution_count": 212,
     "metadata": {},
     "output_type": "execute_result"
    }
   ],
   "source": [
    "scale_part= data2['scale'].value_counts()\n",
    "scale_part"
   ]
  },
  {
   "cell_type": "code",
   "execution_count": 219,
   "metadata": {},
   "outputs": [
    {
     "data": {
      "text/plain": [
       "<matplotlib.axes._subplots.AxesSubplot at 0x23621b80ba8>"
      ]
     },
     "execution_count": 219,
     "metadata": {},
     "output_type": "execute_result"
    },
    {
     "data": {
      "image/png": "[encoded data removed]",
      "text/plain": [
       "<Figure size 432x288 with 1 Axes>"
      ]
     },
     "metadata": {},
     "output_type": "display_data"
    }
   ],
   "source": [
    "pic,axes = plt.subplots(1,1)\n",
    "scale_part.plot(kind='pie',autopct='%.2f%%',radius=2,fontsize=14)"
   ]
  },
  {
   "cell_type": "markdown",
   "metadata": {},
   "source": [
    "### 可见，招聘需求主要来自于100-499的中型公司和20-99的小型公司"
   ]
  },
  {
   "cell_type": "markdown",
   "metadata": {},
   "source": [
    "## <font color='red'>下面分析一下上海的情况</font>"
   ]
  },
  {
   "cell_type": "code",
   "execution_count": 222,
   "metadata": {},
   "outputs": [],
   "source": [
    "sh = data2[data2['city']=='上海']"
   ]
  },
  {
   "cell_type": "code",
   "execution_count": 223,
   "metadata": {},
   "outputs": [
    {
     "name": "stdout",
     "output_type": "stream",
     "text": [
      "<class 'pandas.core.frame.DataFrame'>\n",
      "Int64Index: 281 entries, 300 to 598\n",
      "Data columns (total 15 columns):\n",
      "job_title          281 non-null object\n",
      "experience         281 non-null object\n",
      "education          281 non-null object\n",
      "company_name       281 non-null object\n",
      "industry           281 non-null object\n",
      "situation          281 non-null object\n",
      "scale              281 non-null object\n",
      "city               281 non-null object\n",
      "area               275 non-null object\n",
      "salary_min         281 non-null int64\n",
      "salary_max         281 non-null int64\n",
      "full_time          281 non-null object\n",
      "month              281 non-null int64\n",
      "salary_year_avg    281 non-null float64\n",
      "salary_avg         281 non-null float64\n",
      "dtypes: float64(2), int64(3), object(10)\n",
      "memory usage: 35.1+ KB\n"
     ]
    }
   ],
   "source": [
    "sh.info()"
   ]
  },
  {
   "cell_type": "code",
   "execution_count": 227,
   "metadata": {},
   "outputs": [],
   "source": [
    "# area列有几个空值，进行补值\n",
    "sh.loc[:,'area'] = sh['area'].fillna(method='bfill')"
   ]
  },
  {
   "cell_type": "code",
   "execution_count": 228,
   "metadata": {},
   "outputs": [
    {
     "name": "stdout",
     "output_type": "stream",
     "text": [
      "<class 'pandas.core.frame.DataFrame'>\n",
      "Index: 282 entries, 300 to area\n",
      "Data columns (total 15 columns):\n",
      "job_title          281 non-null object\n",
      "experience         281 non-null object\n",
      "education          281 non-null object\n",
      "company_name       281 non-null object\n",
      "industry           281 non-null object\n",
      "situation          281 non-null object\n",
      "scale              281 non-null object\n",
      "city               281 non-null object\n",
      "area               281 non-null object\n",
      "salary_min         281 non-null float64\n",
      "salary_max         281 non-null float64\n",
      "full_time          281 non-null object\n",
      "month              281 non-null float64\n",
      "salary_year_avg    281 non-null float64\n",
      "salary_avg         281 non-null float64\n",
      "dtypes: float64(5), object(10)\n",
      "memory usage: 45.2+ KB\n"
     ]
    }
   ],
   "source": [
    "sh.info()"
   ]
  },
  {
   "cell_type": "markdown",
   "metadata": {},
   "source": [
    "### 上海各区职位分布情况"
   ]
  },
  {
   "cell_type": "code",
   "execution_count": 235,
   "metadata": {},
   "outputs": [
    {
     "data": {
      "text/plain": [
       "area\n",
       "嘉定区      7\n",
       "宝山区     14\n",
       "徐汇区     30\n",
       "普陀区     13\n",
       "杨浦区     18\n",
       "松江区      3\n",
       "浦东新区    47\n",
       "虹口区     32\n",
       "长宁区     28\n",
       "闵行区     16\n",
       "青浦区      4\n",
       "静安区     35\n",
       "黄浦区     34\n",
       "Name: job_title, dtype: int64"
      ]
     },
     "execution_count": 235,
     "metadata": {},
     "output_type": "execute_result"
    }
   ],
   "source": [
    "sc = sh.groupby('area')['job_title'].count()\n",
    "sc"
   ]
  },
  {
   "cell_type": "code",
   "execution_count": 241,
   "metadata": {},
   "outputs": [],
   "source": [
    "a =sc.index.tolist()\n",
    "b = sc.values.tolist()"
   ]
  },
  {
   "cell_type": "code",
   "execution_count": 242,
   "metadata": {},
   "outputs": [
    {
     "data": {
      "text/html": [
       "<script>\n",
       "    require.config({\n",
       "        paths: {\n",
       "            'echarts':'https://assets.pyecharts.org/assets/echarts.min', '上海':'https://assets.pyecharts.org/assets/maps/shanghai'\n",
       "        }\n",
       "    });\n",
       "</script>\n",
       "\n",
       "    <div id=\"4f811e8b21f245588077d757296784c7\" style=\"width:900px; height:500px;\"></div>\n",
       "\n",
       "\n",
       "<script>\n",
       "    require(['echarts', '上海'], function(echarts) {\n",
       "        var chart_4f811e8b21f245588077d757296784c7 = echarts.init(\n",
       "            document.getElementById('4f811e8b21f245588077d757296784c7'), 'white', {renderer: 'canvas'});\n",
       "        var option_4f811e8b21f245588077d757296784c7 = {\n",
       "    \"animation\": true,\n",
       "    \"animationThreshold\": 2000,\n",
       "    \"animationDuration\": 1000,\n",
       "    \"animationEasing\": \"cubicOut\",\n",
       "    \"animationDelay\": 0,\n",
       "    \"animationDurationUpdate\": 300,\n",
       "    \"animationEasingUpdate\": \"cubicOut\",\n",
       "    \"animationDelayUpdate\": 0,\n",
       "    \"color\": [\n",
       "        \"#c23531\",\n",
       "        \"#2f4554\",\n",
       "        \"#61a0a8\",\n",
       "        \"#d48265\",\n",
       "        \"#749f83\",\n",
       "        \"#ca8622\",\n",
       "        \"#bda29a\",\n",
       "        \"#6e7074\",\n",
       "        \"#546570\",\n",
       "        \"#c4ccd3\",\n",
       "        \"#f05b72\",\n",
       "        \"#ef5b9c\",\n",
       "        \"#f47920\",\n",
       "        \"#905a3d\",\n",
       "        \"#fab27b\",\n",
       "        \"#2a5caa\",\n",
       "        \"#444693\",\n",
       "        \"#726930\",\n",
       "        \"#b2d235\",\n",
       "        \"#6d8346\",\n",
       "        \"#ac6767\",\n",
       "        \"#1d953f\",\n",
       "        \"#6950a1\",\n",
       "        \"#918597\"\n",
       "    ],\n",
       "    \"series\": [\n",
       "        {\n",
       "            \"type\": \"map\",\n",
       "            \"name\": \"\\u5404\\u533a\\u804c\\u4f4d\\u6570\\u91cf\\u5206\\u5e03\",\n",
       "            \"label\": {\n",
       "                \"show\": true,\n",
       "                \"position\": \"top\",\n",
       "                \"margin\": 8\n",
       "            },\n",
       "            \"mapType\": \"\\u4e0a\\u6d77\",\n",
       "            \"data\": [\n",
       "                {\n",
       "                    \"name\": \"\\u5609\\u5b9a\\u533a\",\n",
       "                    \"value\": 7\n",
       "                },\n",
       "                {\n",
       "                    \"name\": \"\\u5b9d\\u5c71\\u533a\",\n",
       "                    \"value\": 14\n",
       "                },\n",
       "                {\n",
       "                    \"name\": \"\\u5f90\\u6c47\\u533a\",\n",
       "                    \"value\": 30\n",
       "                },\n",
       "                {\n",
       "                    \"name\": \"\\u666e\\u9640\\u533a\",\n",
       "                    \"value\": 13\n",
       "                },\n",
       "                {\n",
       "                    \"name\": \"\\u6768\\u6d66\\u533a\",\n",
       "                    \"value\": 18\n",
       "                },\n",
       "                {\n",
       "                    \"name\": \"\\u677e\\u6c5f\\u533a\",\n",
       "                    \"value\": 3\n",
       "                },\n",
       "                {\n",
       "                    \"name\": \"\\u6d66\\u4e1c\\u65b0\\u533a\",\n",
       "                    \"value\": 47\n",
       "                },\n",
       "                {\n",
       "                    \"name\": \"\\u8679\\u53e3\\u533a\",\n",
       "                    \"value\": 32\n",
       "                },\n",
       "                {\n",
       "                    \"name\": \"\\u957f\\u5b81\\u533a\",\n",
       "                    \"value\": 28\n",
       "                },\n",
       "                {\n",
       "                    \"name\": \"\\u95f5\\u884c\\u533a\",\n",
       "                    \"value\": 16\n",
       "                },\n",
       "                {\n",
       "                    \"name\": \"\\u9752\\u6d66\\u533a\",\n",
       "                    \"value\": 4\n",
       "                },\n",
       "                {\n",
       "                    \"name\": \"\\u9759\\u5b89\\u533a\",\n",
       "                    \"value\": 35\n",
       "                },\n",
       "                {\n",
       "                    \"name\": \"\\u9ec4\\u6d66\\u533a\",\n",
       "                    \"value\": 34\n",
       "                }\n",
       "            ],\n",
       "            \"roam\": true,\n",
       "            \"zoom\": 1,\n",
       "            \"showLegendSymbol\": true,\n",
       "            \"emphasis\": {}\n",
       "        }\n",
       "    ],\n",
       "    \"legend\": [\n",
       "        {\n",
       "            \"data\": [\n",
       "                \"\\u5404\\u533a\\u804c\\u4f4d\\u6570\\u91cf\\u5206\\u5e03\"\n",
       "            ],\n",
       "            \"selected\": {\n",
       "                \"\\u5404\\u533a\\u804c\\u4f4d\\u6570\\u91cf\\u5206\\u5e03\": true\n",
       "            },\n",
       "            \"show\": true\n",
       "        }\n",
       "    ],\n",
       "    \"tooltip\": {\n",
       "        \"show\": true,\n",
       "        \"trigger\": \"item\",\n",
       "        \"triggerOn\": \"mousemove|click\",\n",
       "        \"axisPointer\": {\n",
       "            \"type\": \"line\"\n",
       "        },\n",
       "        \"textStyle\": {\n",
       "            \"fontSize\": 14\n",
       "        },\n",
       "        \"borderWidth\": 0\n",
       "    },\n",
       "    \"title\": [\n",
       "        {\n",
       "            \"text\": \"Map-\\u4e0a\\u6d77\\u5730\\u56fe\"\n",
       "        }\n",
       "    ],\n",
       "    \"visualMap\": {\n",
       "        \"show\": true,\n",
       "        \"type\": \"continuous\",\n",
       "        \"min\": 0,\n",
       "        \"max\": 50,\n",
       "        \"inRange\": {\n",
       "            \"color\": [\n",
       "                \"oldlace\",\n",
       "                \"orange\"\n",
       "            ]\n",
       "        },\n",
       "        \"calculable\": true,\n",
       "        \"splitNumber\": 5,\n",
       "        \"orient\": \"vertical\",\n",
       "        \"showLabel\": true\n",
       "    }\n",
       "};\n",
       "        chart_4f811e8b21f245588077d757296784c7.setOption(option_4f811e8b21f245588077d757296784c7);\n",
       "    });\n",
       "</script>\n"
      ],
      "text/plain": [
       "<pyecharts.render.display.HTML at 0x236264559b0>"
      ]
     },
     "execution_count": 242,
     "metadata": {},
     "output_type": "execute_result"
    }
   ],
   "source": [
    "from pyecharts.charts import Map\n",
    "from pyecharts import options as opts\n",
    "\n",
    "c= Map()\n",
    "c.add(\"各区职位数量分布\", [list(z) for z in zip(a,b,)], \"上海\")\n",
    "c.set_global_opts(title_opts=opts.TitleOpts(title=\"Map-上海地图\"),visualmap_opts=opts.VisualMapOpts(max_= 50,range_color=['oldlace','orange']))\n",
    "c.render_notebook()\n"
   ]
  },
  {
   "cell_type": "code",
   "execution_count": 243,
   "metadata": {},
   "outputs": [
    {
     "data": {
      "text/html": [
       "<div>\n",
       "<style scoped>\n",
       "    .dataframe tbody tr th:only-of-type {\n",
       "        vertical-align: middle;\n",
       "    }\n",
       "\n",
       "    .dataframe tbody tr th {\n",
       "        vertical-align: top;\n",
       "    }\n",
       "\n",
       "    .dataframe thead th {\n",
       "        text-align: right;\n",
       "    }\n",
       "</style>\n",
       "<table border=\"1\" class=\"dataframe\">\n",
       "  <thead>\n",
       "    <tr style=\"text-align: right;\">\n",
       "      <th></th>\n",
       "      <th>job_title</th>\n",
       "      <th>experience</th>\n",
       "      <th>education</th>\n",
       "      <th>company_name</th>\n",
       "      <th>industry</th>\n",
       "      <th>situation</th>\n",
       "      <th>scale</th>\n",
       "      <th>city</th>\n",
       "      <th>area</th>\n",
       "      <th>salary_min</th>\n",
       "      <th>salary_max</th>\n",
       "      <th>full_time</th>\n",
       "      <th>month</th>\n",
       "      <th>salary_year_avg</th>\n",
       "      <th>salary_avg</th>\n",
       "    </tr>\n",
       "    <tr>\n",
       "      <th>id</th>\n",
       "      <th></th>\n",
       "      <th></th>\n",
       "      <th></th>\n",
       "      <th></th>\n",
       "      <th></th>\n",
       "      <th></th>\n",
       "      <th></th>\n",
       "      <th></th>\n",
       "      <th></th>\n",
       "      <th></th>\n",
       "      <th></th>\n",
       "      <th></th>\n",
       "      <th></th>\n",
       "      <th></th>\n",
       "      <th></th>\n",
       "    </tr>\n",
       "  </thead>\n",
       "  <tbody>\n",
       "    <tr>\n",
       "      <th>300</th>\n",
       "      <td>数据分析</td>\n",
       "      <td>3-5年</td>\n",
       "      <td>本科</td>\n",
       "      <td>北极绒</td>\n",
       "      <td>电子商务</td>\n",
       "      <td>B轮</td>\n",
       "      <td>100-499人</td>\n",
       "      <td>上海</td>\n",
       "      <td>杨浦区</td>\n",
       "      <td>8.0</td>\n",
       "      <td>12.0</td>\n",
       "      <td>是</td>\n",
       "      <td>12.0</td>\n",
       "      <td>120.0</td>\n",
       "      <td>10.000000</td>\n",
       "    </tr>\n",
       "    <tr>\n",
       "      <th>301</th>\n",
       "      <td>行业数据分析员</td>\n",
       "      <td>1-3年</td>\n",
       "      <td>大专</td>\n",
       "      <td>牛仁电商学院</td>\n",
       "      <td>电子商务</td>\n",
       "      <td>天使轮</td>\n",
       "      <td>20-99人</td>\n",
       "      <td>上海</td>\n",
       "      <td>静安区</td>\n",
       "      <td>3.0</td>\n",
       "      <td>8.0</td>\n",
       "      <td>是</td>\n",
       "      <td>12.0</td>\n",
       "      <td>66.0</td>\n",
       "      <td>5.500000</td>\n",
       "    </tr>\n",
       "    <tr>\n",
       "      <th>302</th>\n",
       "      <td>数据分析师</td>\n",
       "      <td>1-3年</td>\n",
       "      <td>本科</td>\n",
       "      <td>平安贷款</td>\n",
       "      <td>互联网金融</td>\n",
       "      <td>已上市</td>\n",
       "      <td>500-999人</td>\n",
       "      <td>上海</td>\n",
       "      <td>浦东新区</td>\n",
       "      <td>10.0</td>\n",
       "      <td>14.0</td>\n",
       "      <td>是</td>\n",
       "      <td>12.0</td>\n",
       "      <td>144.0</td>\n",
       "      <td>12.000000</td>\n",
       "    </tr>\n",
       "    <tr>\n",
       "      <th>303</th>\n",
       "      <td>数据分析实习生</td>\n",
       "      <td>经验不限</td>\n",
       "      <td>本科</td>\n",
       "      <td>晋展</td>\n",
       "      <td>游戏</td>\n",
       "      <td>不需要融资</td>\n",
       "      <td>100-499人</td>\n",
       "      <td>上海</td>\n",
       "      <td>嘉定区</td>\n",
       "      <td>4.0</td>\n",
       "      <td>6.0</td>\n",
       "      <td>是</td>\n",
       "      <td>14.0</td>\n",
       "      <td>70.0</td>\n",
       "      <td>5.833333</td>\n",
       "    </tr>\n",
       "    <tr>\n",
       "      <th>304</th>\n",
       "      <td>数据分析师</td>\n",
       "      <td>1-3年</td>\n",
       "      <td>本科</td>\n",
       "      <td>淘集集</td>\n",
       "      <td>电子商务</td>\n",
       "      <td>B轮</td>\n",
       "      <td>500-999人</td>\n",
       "      <td>上海</td>\n",
       "      <td>静安区</td>\n",
       "      <td>10.0</td>\n",
       "      <td>15.0</td>\n",
       "      <td>是</td>\n",
       "      <td>12.0</td>\n",
       "      <td>150.0</td>\n",
       "      <td>12.500000</td>\n",
       "    </tr>\n",
       "  </tbody>\n",
       "</table>\n",
       "</div>"
      ],
      "text/plain": [
       "    job_title experience education company_name industry situation     scale  \\\n",
       "id                                                                             \n",
       "300      数据分析       3-5年        本科          北极绒     电子商务        B轮  100-499人   \n",
       "301   行业数据分析员       1-3年        大专       牛仁电商学院     电子商务       天使轮    20-99人   \n",
       "302     数据分析师       1-3年        本科         平安贷款    互联网金融       已上市  500-999人   \n",
       "303   数据分析实习生       经验不限        本科           晋展       游戏     不需要融资  100-499人   \n",
       "304     数据分析师       1-3年        本科          淘集集     电子商务        B轮  500-999人   \n",
       "\n",
       "    city  area  salary_min  salary_max full_time  month  salary_year_avg  \\\n",
       "id                                                                         \n",
       "300   上海   杨浦区         8.0        12.0         是   12.0            120.0   \n",
       "301   上海   静安区         3.0         8.0         是   12.0             66.0   \n",
       "302   上海  浦东新区        10.0        14.0         是   12.0            144.0   \n",
       "303   上海   嘉定区         4.0         6.0         是   14.0             70.0   \n",
       "304   上海   静安区        10.0        15.0         是   12.0            150.0   \n",
       "\n",
       "     salary_avg  \n",
       "id               \n",
       "300   10.000000  \n",
       "301    5.500000  \n",
       "302   12.000000  \n",
       "303    5.833333  \n",
       "304   12.500000  "
      ]
     },
     "execution_count": 243,
     "metadata": {},
     "output_type": "execute_result"
    }
   ],
   "source": [
    "sh.head()"
   ]
  },
  {
   "cell_type": "code",
   "execution_count": 246,
   "metadata": {},
   "outputs": [
    {
     "data": {
      "text/plain": [
       "count    281.000000\n",
       "mean      15.159104\n",
       "std        8.932964\n",
       "min        3.500000\n",
       "25%        9.000000\n",
       "50%       12.500000\n",
       "75%       19.500000\n",
       "max       67.500000\n",
       "Name: salary_avg, dtype: float64"
      ]
     },
     "execution_count": 246,
     "metadata": {},
     "output_type": "execute_result"
    }
   ],
   "source": [
    "sh['salary_avg'].describe()"
   ]
  },
  {
   "cell_type": "code",
   "execution_count": 245,
   "metadata": {},
   "outputs": [
    {
     "data": {
      "text/plain": [
       "<matplotlib.axes._subplots.AxesSubplot at 0x23626b9bc18>"
      ]
     },
     "execution_count": 245,
     "metadata": {},
     "output_type": "execute_result"
    },
    {
     "data": {
      "image/png": "[encoded data removed]",
      "text/plain": [
       "<Figure size 432x288 with 1 Axes>"
      ]
     },
     "metadata": {
      "needs_background": "light"
     },
     "output_type": "display_data"
    }
   ],
   "source": [
    "sh['salary_avg'].plot(kind='box')"
   ]
  },
  {
   "cell_type": "markdown",
   "metadata": {},
   "source": [
    "### 上海市工资的中位数是12.5k，最大值67.5k,最小值3.5k"
   ]
  },
  {
   "cell_type": "code",
   "execution_count": 248,
   "metadata": {},
   "outputs": [
    {
     "data": {
      "text/html": [
       "<div>\n",
       "<style scoped>\n",
       "    .dataframe tbody tr th:only-of-type {\n",
       "        vertical-align: middle;\n",
       "    }\n",
       "\n",
       "    .dataframe tbody tr th {\n",
       "        vertical-align: top;\n",
       "    }\n",
       "\n",
       "    .dataframe thead th {\n",
       "        text-align: right;\n",
       "    }\n",
       "</style>\n",
       "<table border=\"1\" class=\"dataframe\">\n",
       "  <thead>\n",
       "    <tr style=\"text-align: right;\">\n",
       "      <th></th>\n",
       "      <th>job_title</th>\n",
       "      <th>experience</th>\n",
       "      <th>education</th>\n",
       "      <th>company_name</th>\n",
       "      <th>industry</th>\n",
       "      <th>situation</th>\n",
       "      <th>scale</th>\n",
       "      <th>city</th>\n",
       "      <th>area</th>\n",
       "      <th>salary_min</th>\n",
       "      <th>salary_max</th>\n",
       "      <th>full_time</th>\n",
       "      <th>month</th>\n",
       "      <th>salary_year_avg</th>\n",
       "      <th>salary_avg</th>\n",
       "    </tr>\n",
       "    <tr>\n",
       "      <th>id</th>\n",
       "      <th></th>\n",
       "      <th></th>\n",
       "      <th></th>\n",
       "      <th></th>\n",
       "      <th></th>\n",
       "      <th></th>\n",
       "      <th></th>\n",
       "      <th></th>\n",
       "      <th></th>\n",
       "      <th></th>\n",
       "      <th></th>\n",
       "      <th></th>\n",
       "      <th></th>\n",
       "      <th></th>\n",
       "      <th></th>\n",
       "    </tr>\n",
       "  </thead>\n",
       "  <tbody>\n",
       "    <tr>\n",
       "      <th>339</th>\n",
       "      <td>数据分析</td>\n",
       "      <td>经验不限</td>\n",
       "      <td>本科</td>\n",
       "      <td>趣头条</td>\n",
       "      <td>移动互联网</td>\n",
       "      <td>已上市</td>\n",
       "      <td>1000-9999人</td>\n",
       "      <td>上海</td>\n",
       "      <td>闵行区</td>\n",
       "      <td>45.0</td>\n",
       "      <td>90.0</td>\n",
       "      <td>是</td>\n",
       "      <td>12.0</td>\n",
       "      <td>810.0</td>\n",
       "      <td>67.5</td>\n",
       "    </tr>\n",
       "  </tbody>\n",
       "</table>\n",
       "</div>"
      ],
      "text/plain": [
       "    job_title experience education company_name industry situation  \\\n",
       "id                                                                   \n",
       "339      数据分析       经验不限        本科          趣头条    移动互联网       已上市   \n",
       "\n",
       "          scale city area  salary_min  salary_max full_time  month  \\\n",
       "id                                                                   \n",
       "339  1000-9999人   上海  闵行区        45.0        90.0         是   12.0   \n",
       "\n",
       "     salary_year_avg  salary_avg  \n",
       "id                                \n",
       "339            810.0        67.5  "
      ]
     },
     "execution_count": 248,
     "metadata": {},
     "output_type": "execute_result"
    }
   ],
   "source": [
    "sh[sh['salary_avg']==67.5]"
   ]
  },
  {
   "cell_type": "code",
   "execution_count": 249,
   "metadata": {},
   "outputs": [
    {
     "data": {
      "text/html": [
       "<div>\n",
       "<style scoped>\n",
       "    .dataframe tbody tr th:only-of-type {\n",
       "        vertical-align: middle;\n",
       "    }\n",
       "\n",
       "    .dataframe tbody tr th {\n",
       "        vertical-align: top;\n",
       "    }\n",
       "\n",
       "    .dataframe thead th {\n",
       "        text-align: right;\n",
       "    }\n",
       "</style>\n",
       "<table border=\"1\" class=\"dataframe\">\n",
       "  <thead>\n",
       "    <tr style=\"text-align: right;\">\n",
       "      <th></th>\n",
       "      <th>job_title</th>\n",
       "      <th>experience</th>\n",
       "      <th>education</th>\n",
       "      <th>company_name</th>\n",
       "      <th>industry</th>\n",
       "      <th>situation</th>\n",
       "      <th>scale</th>\n",
       "      <th>city</th>\n",
       "      <th>area</th>\n",
       "      <th>salary_min</th>\n",
       "      <th>salary_max</th>\n",
       "      <th>full_time</th>\n",
       "      <th>month</th>\n",
       "      <th>salary_year_avg</th>\n",
       "      <th>salary_avg</th>\n",
       "    </tr>\n",
       "    <tr>\n",
       "      <th>id</th>\n",
       "      <th></th>\n",
       "      <th></th>\n",
       "      <th></th>\n",
       "      <th></th>\n",
       "      <th></th>\n",
       "      <th></th>\n",
       "      <th></th>\n",
       "      <th></th>\n",
       "      <th></th>\n",
       "      <th></th>\n",
       "      <th></th>\n",
       "      <th></th>\n",
       "      <th></th>\n",
       "      <th></th>\n",
       "      <th></th>\n",
       "    </tr>\n",
       "  </thead>\n",
       "  <tbody>\n",
       "    <tr>\n",
       "      <th>503</th>\n",
       "      <td>数据分析实习生</td>\n",
       "      <td>经验不限</td>\n",
       "      <td>本科</td>\n",
       "      <td>QuantumOne</td>\n",
       "      <td>计算机服务</td>\n",
       "      <td>不需要融资</td>\n",
       "      <td>20-99人</td>\n",
       "      <td>上海</td>\n",
       "      <td>虹口区</td>\n",
       "      <td>3.0</td>\n",
       "      <td>4.0</td>\n",
       "      <td>是</td>\n",
       "      <td>12.0</td>\n",
       "      <td>42.0</td>\n",
       "      <td>3.5</td>\n",
       "    </tr>\n",
       "  </tbody>\n",
       "</table>\n",
       "</div>"
      ],
      "text/plain": [
       "    job_title experience education company_name industry situation   scale  \\\n",
       "id                                                                           \n",
       "503   数据分析实习生       经验不限        本科   QuantumOne    计算机服务     不需要融资  20-99人   \n",
       "\n",
       "    city area  salary_min  salary_max full_time  month  salary_year_avg  \\\n",
       "id                                                                        \n",
       "503   上海  虹口区         3.0         4.0         是   12.0             42.0   \n",
       "\n",
       "     salary_avg  \n",
       "id               \n",
       "503         3.5  "
      ]
     },
     "execution_count": 249,
     "metadata": {},
     "output_type": "execute_result"
    }
   ],
   "source": [
    "sh[sh['salary_avg']==3.5]"
   ]
  },
  {
   "cell_type": "markdown",
   "metadata": {},
   "source": [
    "#### 工资最高的是趣头条，最低的是某实习工作"
   ]
  },
  {
   "cell_type": "markdown",
   "metadata": {},
   "source": [
    "### 上海数据分析行业分布情况"
   ]
  },
  {
   "cell_type": "code",
   "execution_count": 268,
   "metadata": {
    "scrolled": true
   },
   "outputs": [
    {
     "data": {
      "text/plain": [
       "industry\n",
       "互联网      84\n",
       "电子商务     41\n",
       "计算机软件    29\n",
       "移动互联网    28\n",
       "数据服务     17\n",
       "互联网金融    12\n",
       "企业服务      9\n",
       "游戏        7\n",
       "医疗健康      6\n",
       "在线教育      5\n",
       "Name: job_title, dtype: int64"
      ]
     },
     "execution_count": 268,
     "metadata": {},
     "output_type": "execute_result"
    }
   ],
   "source": [
    "es= sh.groupby('industry')['job_title'].count()\n",
    "es1 = es.sort_values(ascending=False).head(10)\n",
    "es1"
   ]
  },
  {
   "cell_type": "code",
   "execution_count": 266,
   "metadata": {},
   "outputs": [
    {
     "data": {
      "text/plain": [
       "industry\n",
       "互联网      84\n",
       "电子商务     41\n",
       "计算机软件    29\n",
       "移动互联网    28\n",
       "数据服务     17\n",
       "互联网金融    12\n",
       "企业服务      9\n",
       "游戏        7\n",
       "医疗健康      6\n",
       "在线教育      5\n",
       "其他       38\n",
       "Name: job_title, dtype: int64"
      ]
     },
     "execution_count": 266,
     "metadata": {},
     "output_type": "execute_result"
    }
   ],
   "source": [
    "#es1['其他'] = es[es<5].sum()\n",
    "#es1"
   ]
  },
  {
   "cell_type": "code",
   "execution_count": 269,
   "metadata": {},
   "outputs": [
    {
     "data": {
      "text/plain": [
       "<matplotlib.axes._subplots.AxesSubplot at 0x2362812c438>"
      ]
     },
     "execution_count": 269,
     "metadata": {},
     "output_type": "execute_result"
    },
    {
     "data": {
      "image/png": "[encoded data removed]",
      "text/plain": [
       "<Figure size 432x288 with 1 Axes>"
      ]
     },
     "metadata": {},
     "output_type": "display_data"
    }
   ],
   "source": [
    "pic,axes = plt.subplots(1,1)\n",
    "es1.plot(kind='pie',autopct='%.2f%%',radius=2,fontsize=14)"
   ]
  },
  {
   "cell_type": "markdown",
   "metadata": {},
   "source": [
    "### 大部分来自于互联网，电子商务，计算机软件"
   ]
  },
  {
   "cell_type": "markdown",
   "metadata": {},
   "source": [
    "### 公司的融资情况及规模情况"
   ]
  },
  {
   "cell_type": "code",
   "execution_count": 291,
   "metadata": {},
   "outputs": [
    {
     "data": {
      "image/png": "[encoded data removed]",
      "text/plain": [
       "<Figure size 1152x432 with 2 Axes>"
      ]
     },
     "metadata": {
      "needs_background": "light"
     },
     "output_type": "display_data"
    }
   ],
   "source": [
    "fig,axe = plt.subplots(1,2,figsize=(16,6))\n",
    "sh.groupby('situation')['job_title'].count().plot(kind='bar',ax=axe[0],color='gold',width=0.8)\n",
    "sh.groupby('scale')['job_title'].count().plot(kind='bar',ax=axe[1],color='lightsalmon')\n",
    "plt.subplots_adjust(wspace=0.2,hspace=2)\n",
    "plt.show()"
   ]
  },
  {
   "cell_type": "markdown",
   "metadata": {},
   "source": [
    "### 上海的招聘需求主要来自于100-499的中型公司和20-99的小型公司，与全国一样，融资情况最多的是不需要融资和已上市"
   ]
  },
  {
   "cell_type": "code",
   "execution_count": null,
   "metadata": {},
   "outputs": [],
   "source": []
  }
 ],
 "metadata": {
  "kernelspec": {
   "display_name": "Python 3",
   "language": "python",
   "name": "python3"
  },
  "language_info": {
   "codemirror_mode": {
    "name": "ipython",
    "version": 3
   },
   "file_extension": ".py",
   "mimetype": "text/x-python",
   "name": "python",
   "nbconvert_exporter": "python",
   "pygments_lexer": "ipython3",
   "version": "3.7.3"
  }
 },
 "nbformat": 4,
 "nbformat_minor": 2
}
