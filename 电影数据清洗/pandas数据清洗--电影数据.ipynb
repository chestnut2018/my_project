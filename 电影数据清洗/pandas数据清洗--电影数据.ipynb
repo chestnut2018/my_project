{
 "cells": [
  {
   "cell_type": "markdown",
   "metadata": {
    "toc": true
   },
   "source": [
    "<h1>Table of Contents<span class=\"tocSkip\"></span></h1>\n",
    "<div class=\"toc\"><ul class=\"toc-item\"><li><span><a href=\"#编好需要重复使用的函数\" data-toc-modified-id=\"编好需要重复使用的函数-1\"><span class=\"toc-item-num\">1&nbsp;&nbsp;</span>编好需要重复使用的函数</a></span><ul class=\"toc-item\"><li><span><a href=\"#自动利用拉格朗日补值、就近补值的函数（补出浮点数或整数）\" data-toc-modified-id=\"自动利用拉格朗日补值、就近补值的函数（补出浮点数或整数）-1.1\"><span class=\"toc-item-num\">1.1&nbsp;&nbsp;</span><font color=\"red\">自动利用拉格朗日补值、就近补值的函数（补出浮点数或整数）</font></a></span></li><li><span><a href=\"#自动利用拉格朗日补值、就近补值的函数（仅补出整数，符合业务逻辑）\" data-toc-modified-id=\"自动利用拉格朗日补值、就近补值的函数（仅补出整数，符合业务逻辑）-1.2\"><span class=\"toc-item-num\">1.2&nbsp;&nbsp;</span><font color=\"red\">自动利用拉格朗日补值、就近补值的函数（仅补出整数，符合业务逻辑）</font></a></span></li><li><span><a href=\"#判断是否有必要进行补值操作\" data-toc-modified-id=\"判断是否有必要进行补值操作-1.3\"><span class=\"toc-item-num\">1.3&nbsp;&nbsp;</span><font color=\"red\">判断是否有必要进行补值操作</font></a></span></li><li><span><a href=\"#查看离散情况，选择补值方法\" data-toc-modified-id=\"查看离散情况，选择补值方法-1.4\"><span class=\"toc-item-num\">1.4&nbsp;&nbsp;</span><font color=\"red\">查看离散情况，选择补值方法</font></a></span></li><li><span><a href=\"#空值行的所有索引列表\" data-toc-modified-id=\"空值行的所有索引列表-1.5\"><span class=\"toc-item-num\">1.5&nbsp;&nbsp;</span><font color=\"red\">空值行的所有索引列表</font></a></span></li><li><span><a href=\"#就近补值函数\" data-toc-modified-id=\"就近补值函数-1.6\"><span class=\"toc-item-num\">1.6&nbsp;&nbsp;</span><font color=\"red\">就近补值函数</font></a></span></li></ul></li><li><span><a href=\"#对各列进行处理\" data-toc-modified-id=\"对各列进行处理-2\"><span class=\"toc-item-num\">2&nbsp;&nbsp;</span>对各列进行处理</a></span><ul class=\"toc-item\"><li><span><a href=\"#处理num_critic_for_reviews列\" data-toc-modified-id=\"处理num_critic_for_reviews列-2.1\"><span class=\"toc-item-num\">2.1&nbsp;&nbsp;</span>处理num_critic_for_reviews列</a></span></li><li><span><a href=\"#处理duration列\" data-toc-modified-id=\"处理duration列-2.2\"><span class=\"toc-item-num\">2.2&nbsp;&nbsp;</span>处理duration列</a></span></li><li><span><a href=\"#处理director_facebook_likes列\" data-toc-modified-id=\"处理director_facebook_likes列-2.3\"><span class=\"toc-item-num\">2.3&nbsp;&nbsp;</span>处理director_facebook_likes列</a></span></li><li><span><a href=\"#处理actor_3_facebook_likes-列\" data-toc-modified-id=\"处理actor_3_facebook_likes-列-2.4\"><span class=\"toc-item-num\">2.4&nbsp;&nbsp;</span>处理actor_3_facebook_likes 列</a></span></li><li><span><a href=\"#处理actor_1_facebook_likes列\" data-toc-modified-id=\"处理actor_1_facebook_likes列-2.5\"><span class=\"toc-item-num\">2.5&nbsp;&nbsp;</span>处理actor_1_facebook_likes列</a></span></li><li><span><a href=\"#处理gross列\" data-toc-modified-id=\"处理gross列-2.6\"><span class=\"toc-item-num\">2.6&nbsp;&nbsp;</span>处理gross列</a></span></li><li><span><a href=\"#处理facenumber_in_poster-列\" data-toc-modified-id=\"处理facenumber_in_poster-列-2.7\"><span class=\"toc-item-num\">2.7&nbsp;&nbsp;</span>处理facenumber_in_poster 列</a></span></li><li><span><a href=\"#处理num_user_for_reviews列\" data-toc-modified-id=\"处理num_user_for_reviews列-2.8\"><span class=\"toc-item-num\">2.8&nbsp;&nbsp;</span>处理num_user_for_reviews列</a></span></li><li><span><a href=\"#处理budget列\" data-toc-modified-id=\"处理budget列-2.9\"><span class=\"toc-item-num\">2.9&nbsp;&nbsp;</span>处理budget列</a></span></li><li><span><a href=\"#处理actor_2_facebook_likes列\" data-toc-modified-id=\"处理actor_2_facebook_likes列-2.10\"><span class=\"toc-item-num\">2.10&nbsp;&nbsp;</span>处理actor_2_facebook_likes列</a></span></li><li><span><a href=\"#处理aspect_ratio-列\" data-toc-modified-id=\"处理aspect_ratio-列-2.11\"><span class=\"toc-item-num\">2.11&nbsp;&nbsp;</span>处理aspect_ratio 列</a></span></li><li><span><a href=\"#处理color列\" data-toc-modified-id=\"处理color列-2.12\"><span class=\"toc-item-num\">2.12&nbsp;&nbsp;</span>处理color列</a></span></li><li><span><a href=\"#处理director_name列\" data-toc-modified-id=\"处理director_name列-2.13\"><span class=\"toc-item-num\">2.13&nbsp;&nbsp;</span>处理director_name列</a></span></li><li><span><a href=\"#删除空值太多，超过5%的列而无法补值的列\" data-toc-modified-id=\"删除空值太多，超过5%的列而无法补值的列-2.14\"><span class=\"toc-item-num\">2.14&nbsp;&nbsp;</span>删除空值太多，超过5%的列而无法补值的列</a></span></li></ul></li><li><span><a href=\"#数据类型整理\" data-toc-modified-id=\"数据类型整理-3\"><span class=\"toc-item-num\">3&nbsp;&nbsp;</span>数据类型整理</a></span></li><li><span><a href=\"#删除重复行\" data-toc-modified-id=\"删除重复行-4\"><span class=\"toc-item-num\">4&nbsp;&nbsp;</span>删除重复行</a></span></li></ul></div>"
   ]
  },
  {
   "cell_type": "code",
   "execution_count": 592,
   "metadata": {},
   "outputs": [],
   "source": [
    "import pandas as pd\n",
    "import numpy as np\n",
    "from scipy.interpolate import lagrange"
   ]
  },
  {
   "cell_type": "code",
   "execution_count": 322,
   "metadata": {
    "scrolled": true
   },
   "outputs": [
    {
     "name": "stdout",
     "output_type": "stream",
     "text": [
      "<class 'pandas.core.frame.DataFrame'>\n",
      "RangeIndex: 5043 entries, 0 to 5042\n",
      "Data columns (total 28 columns):\n",
      "color                        5024 non-null object\n",
      "director_name                4939 non-null object\n",
      "num_critic_for_reviews       4993 non-null float64\n",
      "duration                     5028 non-null float64\n",
      "director_facebook_likes      4939 non-null float64\n",
      "actor_3_facebook_likes       5020 non-null float64\n",
      "actor_2_name                 5030 non-null object\n",
      "actor_1_facebook_likes       5036 non-null float64\n",
      "gross                        4159 non-null float64\n",
      "genres                       5043 non-null object\n",
      "actor_1_name                 5036 non-null object\n",
      "movie_title                  5043 non-null object\n",
      "num_voted_users              5043 non-null int64\n",
      "cast_total_facebook_likes    5043 non-null int64\n",
      "actor_3_name                 5020 non-null object\n",
      "facenumber_in_poster         5030 non-null float64\n",
      "plot_keywords                4890 non-null object\n",
      "movie_imdb_link              5043 non-null object\n",
      "num_user_for_reviews         5022 non-null float64\n",
      "language                     5031 non-null object\n",
      "country                      5038 non-null object\n",
      "content_rating               4740 non-null object\n",
      "budget                       4551 non-null float64\n",
      "title_year                   4935 non-null float64\n",
      "actor_2_facebook_likes       5030 non-null float64\n",
      "imdb_score                   5043 non-null float64\n",
      "aspect_ratio                 4714 non-null float64\n",
      "movie_facebook_likes         5043 non-null int64\n",
      "dtypes: float64(13), int64(3), object(12)\n",
      "memory usage: 1.1+ MB\n"
     ]
    }
   ],
   "source": [
    "data = pd.read_csv(r'G:\\数据分析\\movie_metadata.csv')\n",
    "data.info()"
   ]
  },
  {
   "cell_type": "markdown",
   "metadata": {},
   "source": [
    "## 编好需要重复使用的函数"
   ]
  },
  {
   "cell_type": "markdown",
   "metadata": {},
   "source": [
    "### <font color='red'>自动利用拉格朗日补值、就近补值的函数（补出浮点数或整数）</font>"
   ]
  },
  {
   "cell_type": "code",
   "execution_count": 327,
   "metadata": {},
   "outputs": [],
   "source": [
    "def nan_fill(col_nan,n):\n",
    "    value_dict = {}\n",
    "    col = col_nan.copy()\n",
    "    for i in col.index:\n",
    "        if (np.isnan(col[i])) and (i-n in col.index) and (i+n in col.index) \\\n",
    "        and col[i-n:i+n+1].isnull().value_counts()[True]==1:\n",
    "            slice = col[i-n:i+n+1].copy()\n",
    "            slice1 = slice.dropna()\n",
    "            func = lagrange(list(slice1.index),slice1.values)\n",
    "            value_dict[i] = func(i)\n",
    "        else:\n",
    "            continue\n",
    "    col = col.fillna(value_dict) #将拉格朗日补值填充进去\n",
    "    if col.isnull().value_counts()[False] != col.shape[0]: #不能用True的个数判断，因为可能已经没空值了\n",
    "        col = col.fillna(method='bfill')\n",
    "        if col.isnull().value_counts()[False] != col.shape[0]:\n",
    "            col = col.fillna(method='ffill')\n",
    "    return col.apply(lambda x:'%.2f' % x) #设定数据格式（这里需要根据实际修改）\n"
   ]
  },
  {
   "cell_type": "markdown",
   "metadata": {},
   "source": [
    "### <font color='red'>自动利用拉格朗日补值、就近补值的函数（仅补出整数，符合业务逻辑）</font>"
   ]
  },
  {
   "cell_type": "code",
   "execution_count": 330,
   "metadata": {},
   "outputs": [],
   "source": [
    "def nan_fill_int(col_name,n):\n",
    "    value_dict = {}\n",
    "    col = data[col_name].copy()\n",
    "    for i in col.index:\n",
    "        if (np.isnan(col[i])) and (i-n in col.index) and (i+n in col.index) \\\n",
    "        and col[i-n:i+n+1].isnull().value_counts()[True]==1:\n",
    "            slice = col[i-n:i+n+1].copy()\n",
    "            slice1 = slice.dropna()\n",
    "            func = lagrange(list(slice1.index),slice1.values)\n",
    "            value_dict[i] = round(func(i)) #取整\n",
    "        else:\n",
    "            continue\n",
    "    col = col.fillna(value_dict) #将拉格朗日补值填充进去\n",
    "    if col.isnull().value_counts()[False] != col.shape[0]: #不能用True的个数判断，因为可能已经没空值了\n",
    "        col = col.fillna(method='bfill')\n",
    "        if col.isnull().value_counts()[False] != col.shape[0]:\n",
    "            col = col.fillna(method='ffill')\n",
    "    return col.apply(lambda x:'%d' % x)"
   ]
  },
  {
   "cell_type": "markdown",
   "metadata": {},
   "source": [
    "### <font color='red'>判断是否有必要进行补值操作</font>"
   ]
  },
  {
   "cell_type": "markdown",
   "metadata": {},
   "source": [
    "    在一列数据中空值的数量超过5%就没有补值的必要了"
   ]
  },
  {
   "cell_type": "code",
   "execution_count": 264,
   "metadata": {},
   "outputs": [],
   "source": [
    "def can_fill(col_name):\n",
    "    try:\n",
    "        nan_rows = data[col_name].isnull().value_counts()[True]\n",
    "        a = nan_rows/5043\n",
    "        if a< 0.05:\n",
    "            return '共有{}个空值，空值占比{:.4f},可以进行补值操作'.format(nan_rows,a)\n",
    "        else:\n",
    "            return '空值太多了，没有补的价值，共有{}个空值,空值占比{:.4f}'.format(nan_rows,a)\n",
    "    except:\n",
    "        return '这列没有空值' "
   ]
  },
  {
   "cell_type": "markdown",
   "metadata": {},
   "source": [
    "### <font color='red'>查看离散情况，选择补值方法</font>"
   ]
  },
  {
   "cell_type": "code",
   "execution_count": 331,
   "metadata": {},
   "outputs": [],
   "source": [
    "def mean_std_cv(col_name):\n",
    "    mean = data[col_name].mean(skipna=True)\n",
    "    std = data[col_name].std(skipna=True)\n",
    "    cv = std/mean\n",
    "    return '平均值{},标准差{},变异系数{}'.format(mean,std,cv)"
   ]
  },
  {
   "cell_type": "markdown",
   "metadata": {},
   "source": [
    "    变异系数=标准差/均值\n",
    "    变异系数最好小于1，变异系数越大，表示变异程度越大\n",
    "    小于0.1弱变异，0.1到1中等变异，大于1强变异\n",
    "    变异系数越大，说明标准差比较大，此时不能用平均值补值法，可以用bfill或ffill，lagrange进行补值\n",
    "    变异系数小，说明标准差比较小，优先使用中位数补值法，其次使用平均数补值"
   ]
  },
  {
   "cell_type": "markdown",
   "metadata": {},
   "source": [
    "### <font color='red'>空值行的所有索引列表</font>"
   ]
  },
  {
   "cell_type": "code",
   "execution_count": 570,
   "metadata": {},
   "outputs": [],
   "source": [
    "def lt_nan(col_name):\n",
    "    lt_nan = data[data[col_name].isnull()].index.tolist()\n",
    "    return lt_nan"
   ]
  },
  {
   "cell_type": "markdown",
   "metadata": {},
   "source": [
    "###  <font color='red'>就近补值函数</font>"
   ]
  },
  {
   "cell_type": "code",
   "execution_count": 378,
   "metadata": {},
   "outputs": [],
   "source": [
    "def nan_fill_bf(col_name):\n",
    "    col = data[col_name].copy()\n",
    "    col = col.fillna(method='bfill')\n",
    "    if col.isnull().value_counts()[False] != col.shape[0]:\n",
    "        col = col.fillna(method='ffill')\n",
    "    return col"
   ]
  },
  {
   "cell_type": "markdown",
   "metadata": {},
   "source": [
    "## 对各列进行处理"
   ]
  },
  {
   "cell_type": "markdown",
   "metadata": {},
   "source": [
    "###  处理num_critic_for_reviews列"
   ]
  },
  {
   "cell_type": "code",
   "execution_count": 348,
   "metadata": {},
   "outputs": [
    {
     "data": {
      "text/plain": [
       "'共有50个空值，空值占比0.0099,可以进行补值操作'"
      ]
     },
     "execution_count": 348,
     "metadata": {},
     "output_type": "execute_result"
    }
   ],
   "source": [
    "can_fill('num_critic_for_reviews')"
   ]
  },
  {
   "cell_type": "code",
   "execution_count": 349,
   "metadata": {},
   "outputs": [
    {
     "data": {
      "text/plain": [
       "'平均值140.1942719807731,标准差121.60167539623113,变异系数0.8673797700729753'"
      ]
     },
     "execution_count": 349,
     "metadata": {},
     "output_type": "execute_result"
    }
   ],
   "source": [
    "mean_std_cv('num_critic_for_reviews')"
   ]
  },
  {
   "cell_type": "code",
   "execution_count": 334,
   "metadata": {},
   "outputs": [],
   "source": [
    "# 标准差比较大，数据比较分散，不适合平均数补值，业务逻辑是：评论数只能是整数"
   ]
  },
  {
   "cell_type": "code",
   "execution_count": 368,
   "metadata": {},
   "outputs": [],
   "source": [
    "res = nan_fill_int('num_critic_for_reviews',2)"
   ]
  },
  {
   "cell_type": "markdown",
   "metadata": {},
   "source": [
    "    函数的第二个参数需要调节，直到没有异常值或很少有异常值出现，为什么选2，因为2的时候异常值最少，只有4个负值\n",
    "    其原因是lagrange方法的不稳定性造成的,这也是lagrange方法的最大缺点，并且无法消除。"
   ]
  },
  {
   "cell_type": "code",
   "execution_count": 369,
   "metadata": {
    "scrolled": true
   },
   "outputs": [
    {
     "data": {
      "text/plain": [
       "4       684\n",
       "279     502\n",
       "1510    220\n",
       "2257    239\n",
       "2342     43\n",
       "2345     92\n",
       "2351     24\n",
       "2370     75\n",
       "2710     41\n",
       "2765     57\n",
       "2870     61\n",
       "3806     28\n",
       "3811     45\n",
       "3816     11\n",
       "4087     94\n",
       "4129    311\n",
       "4227    206\n",
       "4243    162\n",
       "4323     24\n",
       "4354     41\n",
       "4372     37\n",
       "4436    129\n",
       "4444    -61\n",
       "4459     61\n",
       "4588     16\n",
       "4617     49\n",
       "4622     -3\n",
       "4634     51\n",
       "4711     18\n",
       "4713     22\n",
       "4716     17\n",
       "4763    105\n",
       "4767     17\n",
       "4787     85\n",
       "4854     53\n",
       "4859     59\n",
       "4865    145\n",
       "4878      2\n",
       "4882      8\n",
       "4924    -44\n",
       "4929     39\n",
       "4945     70\n",
       "4948    116\n",
       "4989    -12\n",
       "4996     68\n",
       "5006     47\n",
       "5016     31\n",
       "5020     61\n",
       "5030     57\n",
       "5036     41\n",
       "Name: num_critic_for_reviews, dtype: object"
      ]
     },
     "execution_count": 369,
     "metadata": {},
     "output_type": "execute_result"
    }
   ],
   "source": [
    "res[lt_nan('num_critic_for_reviews')] #根据空值行的所有索引查看补完后的值"
   ]
  },
  {
   "cell_type": "code",
   "execution_count": 373,
   "metadata": {},
   "outputs": [
    {
     "data": {
      "text/plain": [
       "[4444, 4622, 4924, 4989]"
      ]
     },
     "execution_count": 373,
     "metadata": {},
     "output_type": "execute_result"
    }
   ],
   "source": [
    "neg_lt = res[res.astype(np.float64)<0].index.tolist() # 发现 4444 4622 4924 4989这几行是负值,把它们挑出来，重新还原成空值\n",
    "neg_lt"
   ]
  },
  {
   "cell_type": "code",
   "execution_count": 374,
   "metadata": {},
   "outputs": [],
   "source": [
    "res[neg_lt] = np.nan"
   ]
  },
  {
   "cell_type": "code",
   "execution_count": 382,
   "metadata": {},
   "outputs": [],
   "source": [
    "res = nan_fill_bf('num_critic_for_reviews') #对其使用就近补值"
   ]
  },
  {
   "cell_type": "code",
   "execution_count": 383,
   "metadata": {},
   "outputs": [],
   "source": [
    "data['num_critic_for_reviews'] =res  #将补完值后的列替换进去"
   ]
  },
  {
   "cell_type": "code",
   "execution_count": 384,
   "metadata": {
    "scrolled": true
   },
   "outputs": [
    {
     "name": "stdout",
     "output_type": "stream",
     "text": [
      "<class 'pandas.core.frame.DataFrame'>\n",
      "RangeIndex: 5043 entries, 0 to 5042\n",
      "Data columns (total 28 columns):\n",
      "color                        5024 non-null object\n",
      "director_name                4939 non-null object\n",
      "num_critic_for_reviews       5043 non-null float64\n",
      "duration                     5028 non-null float64\n",
      "director_facebook_likes      4939 non-null float64\n",
      "actor_3_facebook_likes       5020 non-null float64\n",
      "actor_2_name                 5030 non-null object\n",
      "actor_1_facebook_likes       5036 non-null float64\n",
      "gross                        4159 non-null float64\n",
      "genres                       5043 non-null object\n",
      "actor_1_name                 5036 non-null object\n",
      "movie_title                  5043 non-null object\n",
      "num_voted_users              5043 non-null int64\n",
      "cast_total_facebook_likes    5043 non-null int64\n",
      "actor_3_name                 5020 non-null object\n",
      "facenumber_in_poster         5030 non-null float64\n",
      "plot_keywords                4890 non-null object\n",
      "movie_imdb_link              5043 non-null object\n",
      "num_user_for_reviews         5022 non-null float64\n",
      "language                     5031 non-null object\n",
      "country                      5038 non-null object\n",
      "content_rating               4740 non-null object\n",
      "budget                       4551 non-null float64\n",
      "title_year                   4935 non-null float64\n",
      "actor_2_facebook_likes       5030 non-null float64\n",
      "imdb_score                   5043 non-null float64\n",
      "aspect_ratio                 4714 non-null float64\n",
      "movie_facebook_likes         5043 non-null int64\n",
      "dtypes: float64(13), int64(3), object(12)\n",
      "memory usage: 1.1+ MB\n"
     ]
    }
   ],
   "source": [
    "data.info() #再次查看信息，发现这一列有5043个非空值了，补值成功！！！"
   ]
  },
  {
   "cell_type": "markdown",
   "metadata": {},
   "source": [
    "### 处理duration列"
   ]
  },
  {
   "cell_type": "code",
   "execution_count": 385,
   "metadata": {},
   "outputs": [
    {
     "data": {
      "text/plain": [
       "'共有15个空值，空值占比0.0030,可以进行补值操作'"
      ]
     },
     "execution_count": 385,
     "metadata": {},
     "output_type": "execute_result"
    }
   ],
   "source": [
    "can_fill('duration')"
   ]
  },
  {
   "cell_type": "code",
   "execution_count": 386,
   "metadata": {},
   "outputs": [
    {
     "data": {
      "text/plain": [
       "'平均值107.2010739856802,标准差25.19744080882403,变异系数0.23504839897583374'"
      ]
     },
     "execution_count": 386,
     "metadata": {},
     "output_type": "execute_result"
    }
   ],
   "source": [
    " mean_std_cv('duration')"
   ]
  },
  {
   "cell_type": "markdown",
   "metadata": {},
   "source": [
    "变异系数比较小，说明标准差比较小，优先使用中位数补值/平均数补值"
   ]
  },
  {
   "cell_type": "code",
   "execution_count": 387,
   "metadata": {},
   "outputs": [
    {
     "data": {
      "text/plain": [
       "[4,\n",
       " 199,\n",
       " 206,\n",
       " 1510,\n",
       " 3604,\n",
       " 3815,\n",
       " 3834,\n",
       " 4299,\n",
       " 4392,\n",
       " 4397,\n",
       " 4517,\n",
       " 4609,\n",
       " 4690,\n",
       " 4948,\n",
       " 4989]"
      ]
     },
     "execution_count": 387,
     "metadata": {},
     "output_type": "execute_result"
    }
   ],
   "source": [
    "lt_nan('duration')"
   ]
  },
  {
   "cell_type": "code",
   "execution_count": 389,
   "metadata": {},
   "outputs": [
    {
     "data": {
      "text/plain": [
       "4       103.0\n",
       "199     103.0\n",
       "206     103.0\n",
       "1510    103.0\n",
       "3604    103.0\n",
       "3815    103.0\n",
       "3834    103.0\n",
       "4299    103.0\n",
       "4392    103.0\n",
       "4397    103.0\n",
       "4517    103.0\n",
       "4609    103.0\n",
       "4690    103.0\n",
       "4948    103.0\n",
       "4989    103.0\n",
       "Name: duration, dtype: float64"
      ]
     },
     "execution_count": 389,
     "metadata": {},
     "output_type": "execute_result"
    }
   ],
   "source": [
    "res = data['duration'].fillna(data['duration'].median())\n",
    "res[lt_nan('duration')]"
   ]
  },
  {
   "cell_type": "code",
   "execution_count": 391,
   "metadata": {},
   "outputs": [],
   "source": [
    "data['duration'] = res"
   ]
  },
  {
   "cell_type": "code",
   "execution_count": 392,
   "metadata": {
    "scrolled": true
   },
   "outputs": [
    {
     "name": "stdout",
     "output_type": "stream",
     "text": [
      "<class 'pandas.core.frame.DataFrame'>\n",
      "RangeIndex: 5043 entries, 0 to 5042\n",
      "Data columns (total 28 columns):\n",
      "color                        5024 non-null object\n",
      "director_name                4939 non-null object\n",
      "num_critic_for_reviews       5043 non-null float64\n",
      "duration                     5043 non-null float64\n",
      "director_facebook_likes      4939 non-null float64\n",
      "actor_3_facebook_likes       5020 non-null float64\n",
      "actor_2_name                 5030 non-null object\n",
      "actor_1_facebook_likes       5036 non-null float64\n",
      "gross                        4159 non-null float64\n",
      "genres                       5043 non-null object\n",
      "actor_1_name                 5036 non-null object\n",
      "movie_title                  5043 non-null object\n",
      "num_voted_users              5043 non-null int64\n",
      "cast_total_facebook_likes    5043 non-null int64\n",
      "actor_3_name                 5020 non-null object\n",
      "facenumber_in_poster         5030 non-null float64\n",
      "plot_keywords                4890 non-null object\n",
      "movie_imdb_link              5043 non-null object\n",
      "num_user_for_reviews         5022 non-null float64\n",
      "language                     5031 non-null object\n",
      "country                      5038 non-null object\n",
      "content_rating               4740 non-null object\n",
      "budget                       4551 non-null float64\n",
      "title_year                   4935 non-null float64\n",
      "actor_2_facebook_likes       5030 non-null float64\n",
      "imdb_score                   5043 non-null float64\n",
      "aspect_ratio                 4714 non-null float64\n",
      "movie_facebook_likes         5043 non-null int64\n",
      "dtypes: float64(13), int64(3), object(12)\n",
      "memory usage: 1.1+ MB\n"
     ]
    }
   ],
   "source": [
    "data.info()"
   ]
  },
  {
   "cell_type": "markdown",
   "metadata": {},
   "source": [
    "### 处理director_facebook_likes列"
   ]
  },
  {
   "cell_type": "code",
   "execution_count": 393,
   "metadata": {},
   "outputs": [
    {
     "data": {
      "text/plain": [
       "'共有104个空值，空值占比0.0206,可以进行补值操作'"
      ]
     },
     "execution_count": 393,
     "metadata": {},
     "output_type": "execute_result"
    }
   ],
   "source": [
    "can_fill('director_facebook_likes')"
   ]
  },
  {
   "cell_type": "code",
   "execution_count": 394,
   "metadata": {},
   "outputs": [
    {
     "data": {
      "text/plain": [
       "'平均值686.5092123911724,标准差2813.328606865637,变异系数4.09802018106438'"
      ]
     },
     "execution_count": 394,
     "metadata": {},
     "output_type": "execute_result"
    }
   ],
   "source": [
    " mean_std_cv('director_facebook_likes')"
   ]
  },
  {
   "cell_type": "markdown",
   "metadata": {},
   "source": [
    "变异系数过大，且稀疏，用bfill或fill，空值太多，不适合拉格朗日"
   ]
  },
  {
   "cell_type": "code",
   "execution_count": 397,
   "metadata": {},
   "outputs": [],
   "source": [
    "res = nan_fill_bf('director_facebook_likes')"
   ]
  },
  {
   "cell_type": "code",
   "execution_count": 398,
   "metadata": {
    "scrolled": true
   },
   "outputs": [
    {
     "data": {
      "text/plain": [
       "177     14000.0\n",
       "260       263.0\n",
       "404        79.0\n",
       "459       165.0\n",
       "479        11.0\n",
       "537        87.0\n",
       "543       473.0\n",
       "593       488.0\n",
       "645        38.0\n",
       "685        36.0\n",
       "757        11.0\n",
       "816        70.0\n",
       "826       138.0\n",
       "833       163.0\n",
       "857     16000.0\n",
       "962         5.0\n",
       "994        31.0\n",
       "1007      663.0\n",
       "1023    12000.0\n",
       "1035      212.0\n",
       "1133      170.0\n",
       "1175        0.0\n",
       "1265       65.0\n",
       "1346        0.0\n",
       "1404        0.0\n",
       "1444       19.0\n",
       "1499      503.0\n",
       "1620      309.0\n",
       "1659       40.0\n",
       "1664       21.0\n",
       "         ...   \n",
       "3800      110.0\n",
       "3807        0.0\n",
       "3847        0.0\n",
       "3871      249.0\n",
       "3881       23.0\n",
       "3900      450.0\n",
       "3951       19.0\n",
       "3982      154.0\n",
       "3989       10.0\n",
       "4015        0.0\n",
       "4079      393.0\n",
       "4087      375.0\n",
       "4113       21.0\n",
       "4115       40.0\n",
       "4119        7.0\n",
       "4249    11000.0\n",
       "4281        0.0\n",
       "4288       90.0\n",
       "4304       32.0\n",
       "4327        0.0\n",
       "4460      346.0\n",
       "4467      135.0\n",
       "4482        0.0\n",
       "4517      155.0\n",
       "4634       12.0\n",
       "4798       20.0\n",
       "4803       12.0\n",
       "4819        0.0\n",
       "4869        5.0\n",
       "5039        0.0\n",
       "Name: director_facebook_likes, Length: 104, dtype: float64"
      ]
     },
     "execution_count": 398,
     "metadata": {},
     "output_type": "execute_result"
    }
   ],
   "source": [
    "res[lt_nan('director_facebook_likes')]"
   ]
  },
  {
   "cell_type": "code",
   "execution_count": 399,
   "metadata": {},
   "outputs": [],
   "source": [
    "data['director_facebook_likes'] =res"
   ]
  },
  {
   "cell_type": "code",
   "execution_count": 400,
   "metadata": {},
   "outputs": [
    {
     "name": "stdout",
     "output_type": "stream",
     "text": [
      "<class 'pandas.core.frame.DataFrame'>\n",
      "RangeIndex: 5043 entries, 0 to 5042\n",
      "Data columns (total 28 columns):\n",
      "color                        5024 non-null object\n",
      "director_name                4939 non-null object\n",
      "num_critic_for_reviews       5043 non-null float64\n",
      "duration                     5043 non-null float64\n",
      "director_facebook_likes      5043 non-null float64\n",
      "actor_3_facebook_likes       5020 non-null float64\n",
      "actor_2_name                 5030 non-null object\n",
      "actor_1_facebook_likes       5036 non-null float64\n",
      "gross                        4159 non-null float64\n",
      "genres                       5043 non-null object\n",
      "actor_1_name                 5036 non-null object\n",
      "movie_title                  5043 non-null object\n",
      "num_voted_users              5043 non-null int64\n",
      "cast_total_facebook_likes    5043 non-null int64\n",
      "actor_3_name                 5020 non-null object\n",
      "facenumber_in_poster         5030 non-null float64\n",
      "plot_keywords                4890 non-null object\n",
      "movie_imdb_link              5043 non-null object\n",
      "num_user_for_reviews         5022 non-null float64\n",
      "language                     5031 non-null object\n",
      "country                      5038 non-null object\n",
      "content_rating               4740 non-null object\n",
      "budget                       4551 non-null float64\n",
      "title_year                   4935 non-null float64\n",
      "actor_2_facebook_likes       5030 non-null float64\n",
      "imdb_score                   5043 non-null float64\n",
      "aspect_ratio                 4714 non-null float64\n",
      "movie_facebook_likes         5043 non-null int64\n",
      "dtypes: float64(13), int64(3), object(12)\n",
      "memory usage: 1.1+ MB\n"
     ]
    }
   ],
   "source": [
    "data.info()"
   ]
  },
  {
   "cell_type": "markdown",
   "metadata": {},
   "source": [
    "### 处理actor_3_facebook_likes 列"
   ]
  },
  {
   "cell_type": "code",
   "execution_count": 424,
   "metadata": {},
   "outputs": [
    {
     "data": {
      "text/plain": [
       "'共有23个空值，空值占比0.0046,可以进行补值操作'"
      ]
     },
     "execution_count": 424,
     "metadata": {},
     "output_type": "execute_result"
    }
   ],
   "source": [
    "can_fill('actor_3_facebook_likes')"
   ]
  },
  {
   "cell_type": "code",
   "execution_count": 425,
   "metadata": {},
   "outputs": [
    {
     "data": {
      "text/plain": [
       "'平均值645.0097609561753,标准差1665.0417284458572,变异系数2.581420978773354'"
      ]
     },
     "execution_count": 425,
     "metadata": {},
     "output_type": "execute_result"
    }
   ],
   "source": [
    " mean_std_cv('actor_3_facebook_likes')"
   ]
  },
  {
   "cell_type": "code",
   "execution_count": 426,
   "metadata": {},
   "outputs": [],
   "source": [
    "res = nan_fill_int('actor_3_facebook_likes',2)"
   ]
  },
  {
   "cell_type": "code",
   "execution_count": 427,
   "metadata": {},
   "outputs": [
    {
     "data": {
      "text/plain": [
       "4       14993\n",
       "279      2062\n",
       "1782      482\n",
       "2143      400\n",
       "2241      675\n",
       "3346      195\n",
       "3528     -275\n",
       "3610       81\n",
       "4225      192\n",
       "4460      224\n",
       "4502      568\n",
       "4519       62\n",
       "4548       89\n",
       "4720      578\n",
       "4815       54\n",
       "4836       87\n",
       "4837       87\n",
       "4945        9\n",
       "4946        9\n",
       "4948      405\n",
       "4990        5\n",
       "4992      236\n",
       "5009      135\n",
       "Name: actor_3_facebook_likes, dtype: object"
      ]
     },
     "execution_count": 427,
     "metadata": {},
     "output_type": "execute_result"
    }
   ],
   "source": [
    "res[lt_nan('actor_3_facebook_likes')]"
   ]
  },
  {
   "cell_type": "code",
   "execution_count": 428,
   "metadata": {},
   "outputs": [
    {
     "data": {
      "text/plain": [
       "[3528]"
      ]
     },
     "execution_count": 428,
     "metadata": {},
     "output_type": "execute_result"
    }
   ],
   "source": [
    "neg_lt = res[res.astype(np.float64)<0].index.tolist() # 判断小于0的行，将其挑出来，重新还原成空值\n",
    "neg_lt"
   ]
  },
  {
   "cell_type": "code",
   "execution_count": 430,
   "metadata": {},
   "outputs": [],
   "source": [
    "res[3528] = np.nan"
   ]
  },
  {
   "cell_type": "code",
   "execution_count": 431,
   "metadata": {},
   "outputs": [
    {
     "data": {
      "text/plain": [
       "4       14993\n",
       "279      2062\n",
       "1782      482\n",
       "2143      400\n",
       "2241      675\n",
       "3346      195\n",
       "3528      NaN\n",
       "3610       81\n",
       "4225      192\n",
       "4460      224\n",
       "4502      568\n",
       "4519       62\n",
       "4548       89\n",
       "4720      578\n",
       "4815       54\n",
       "4836       87\n",
       "4837       87\n",
       "4945        9\n",
       "4946        9\n",
       "4948      405\n",
       "4990        5\n",
       "4992      236\n",
       "5009      135\n",
       "Name: actor_3_facebook_likes, dtype: object"
      ]
     },
     "execution_count": 431,
     "metadata": {},
     "output_type": "execute_result"
    }
   ],
   "source": [
    "res[lt_nan('actor_3_facebook_likes')]"
   ]
  },
  {
   "cell_type": "code",
   "execution_count": 432,
   "metadata": {},
   "outputs": [],
   "source": [
    "data['actor_3_facebook_likes'] = res #把lagrange补完的先赋给data"
   ]
  },
  {
   "cell_type": "code",
   "execution_count": 433,
   "metadata": {},
   "outputs": [],
   "source": [
    "res = nan_fill_bf('actor_3_facebook_likes') #再对唯一的空值补值"
   ]
  },
  {
   "cell_type": "code",
   "execution_count": 436,
   "metadata": {},
   "outputs": [],
   "source": [
    "data['actor_3_facebook_likes'] = res"
   ]
  },
  {
   "cell_type": "code",
   "execution_count": 437,
   "metadata": {},
   "outputs": [
    {
     "name": "stdout",
     "output_type": "stream",
     "text": [
      "<class 'pandas.core.frame.DataFrame'>\n",
      "RangeIndex: 5043 entries, 0 to 5042\n",
      "Data columns (total 28 columns):\n",
      "color                        5024 non-null object\n",
      "director_name                4939 non-null object\n",
      "num_critic_for_reviews       5043 non-null float64\n",
      "duration                     5043 non-null float64\n",
      "director_facebook_likes      5043 non-null float64\n",
      "actor_3_facebook_likes       5043 non-null object\n",
      "actor_2_name                 5030 non-null object\n",
      "actor_1_facebook_likes       5036 non-null float64\n",
      "gross                        4159 non-null float64\n",
      "genres                       5043 non-null object\n",
      "actor_1_name                 5036 non-null object\n",
      "movie_title                  5043 non-null object\n",
      "num_voted_users              5043 non-null int64\n",
      "cast_total_facebook_likes    5043 non-null int64\n",
      "actor_3_name                 5020 non-null object\n",
      "facenumber_in_poster         5030 non-null float64\n",
      "plot_keywords                4890 non-null object\n",
      "movie_imdb_link              5043 non-null object\n",
      "num_user_for_reviews         5022 non-null float64\n",
      "language                     5031 non-null object\n",
      "country                      5038 non-null object\n",
      "content_rating               4740 non-null object\n",
      "budget                       4551 non-null float64\n",
      "title_year                   4935 non-null float64\n",
      "actor_2_facebook_likes       5030 non-null float64\n",
      "imdb_score                   5043 non-null float64\n",
      "aspect_ratio                 4714 non-null float64\n",
      "movie_facebook_likes         5043 non-null int64\n",
      "dtypes: float64(12), int64(3), object(13)\n",
      "memory usage: 1.1+ MB\n"
     ]
    }
   ],
   "source": [
    "data.info()"
   ]
  },
  {
   "cell_type": "markdown",
   "metadata": {},
   "source": [
    "### 处理actor_1_facebook_likes列"
   ]
  },
  {
   "cell_type": "code",
   "execution_count": 438,
   "metadata": {},
   "outputs": [
    {
     "data": {
      "text/plain": [
       "'共有7个空值，空值占比0.0014,可以进行补值操作'"
      ]
     },
     "execution_count": 438,
     "metadata": {},
     "output_type": "execute_result"
    }
   ],
   "source": [
    "can_fill('actor_1_facebook_likes')"
   ]
  },
  {
   "cell_type": "code",
   "execution_count": 439,
   "metadata": {},
   "outputs": [
    {
     "data": {
      "text/plain": [
       "'平均值6560.04706115965,标准差15020.759119983974,变异系数2.2897334394013757'"
      ]
     },
     "execution_count": 439,
     "metadata": {},
     "output_type": "execute_result"
    }
   ],
   "source": [
    "mean_std_cv('actor_1_facebook_likes')"
   ]
  },
  {
   "cell_type": "code",
   "execution_count": 224,
   "metadata": {},
   "outputs": [],
   "source": [
    "lt_nan = data[data['actor_1_facebook_likes'].isnull()].index.tolist()"
   ]
  },
  {
   "cell_type": "markdown",
   "metadata": {},
   "source": [
    "变异系数大，用bfill\\ffill\\lagrange"
   ]
  },
  {
   "cell_type": "code",
   "execution_count": 441,
   "metadata": {},
   "outputs": [
    {
     "data": {
      "text/plain": [
       "4502    32673\n",
       "4519      154\n",
       "4720     1759\n",
       "4837      217\n",
       "4945      830\n",
       "4946      830\n",
       "4990      556\n",
       "Name: actor_1_facebook_likes, dtype: object"
      ]
     },
     "execution_count": 441,
     "metadata": {},
     "output_type": "execute_result"
    }
   ],
   "source": [
    "res = nan_fill_int('actor_1_facebook_likes',2)\n",
    "res[lt_nan('actor_1_facebook_likes')]"
   ]
  },
  {
   "cell_type": "code",
   "execution_count": 442,
   "metadata": {},
   "outputs": [],
   "source": [
    "data['actor_1_facebook_likes'] = res"
   ]
  },
  {
   "cell_type": "code",
   "execution_count": 443,
   "metadata": {},
   "outputs": [
    {
     "name": "stdout",
     "output_type": "stream",
     "text": [
      "<class 'pandas.core.frame.DataFrame'>\n",
      "RangeIndex: 5043 entries, 0 to 5042\n",
      "Data columns (total 28 columns):\n",
      "color                        5024 non-null object\n",
      "director_name                4939 non-null object\n",
      "num_critic_for_reviews       5043 non-null float64\n",
      "duration                     5043 non-null float64\n",
      "director_facebook_likes      5043 non-null float64\n",
      "actor_3_facebook_likes       5043 non-null object\n",
      "actor_2_name                 5030 non-null object\n",
      "actor_1_facebook_likes       5043 non-null object\n",
      "gross                        4159 non-null float64\n",
      "genres                       5043 non-null object\n",
      "actor_1_name                 5036 non-null object\n",
      "movie_title                  5043 non-null object\n",
      "num_voted_users              5043 non-null int64\n",
      "cast_total_facebook_likes    5043 non-null int64\n",
      "actor_3_name                 5020 non-null object\n",
      "facenumber_in_poster         5030 non-null float64\n",
      "plot_keywords                4890 non-null object\n",
      "movie_imdb_link              5043 non-null object\n",
      "num_user_for_reviews         5022 non-null float64\n",
      "language                     5031 non-null object\n",
      "country                      5038 non-null object\n",
      "content_rating               4740 non-null object\n",
      "budget                       4551 non-null float64\n",
      "title_year                   4935 non-null float64\n",
      "actor_2_facebook_likes       5030 non-null float64\n",
      "imdb_score                   5043 non-null float64\n",
      "aspect_ratio                 4714 non-null float64\n",
      "movie_facebook_likes         5043 non-null int64\n",
      "dtypes: float64(11), int64(3), object(14)\n",
      "memory usage: 1.1+ MB\n"
     ]
    }
   ],
   "source": [
    "data.info()"
   ]
  },
  {
   "cell_type": "markdown",
   "metadata": {},
   "source": [
    "### 处理gross列"
   ]
  },
  {
   "cell_type": "code",
   "execution_count": 444,
   "metadata": {},
   "outputs": [
    {
     "data": {
      "text/plain": [
       "'空值太多了，没有补的价值，共有884个空值,空值占比0.1753'"
      ]
     },
     "execution_count": 444,
     "metadata": {},
     "output_type": "execute_result"
    }
   ],
   "source": [
    "can_fill('gross')"
   ]
  },
  {
   "cell_type": "code",
   "execution_count": 445,
   "metadata": {},
   "outputs": [
    {
     "data": {
      "text/plain": [
       "'平均值48468407.52680933,标准差68452990.43875286,变异系数1.4123218387336012'"
      ]
     },
     "execution_count": 445,
     "metadata": {},
     "output_type": "execute_result"
    }
   ],
   "source": [
    "mean_std_cv('gross')"
   ]
  },
  {
   "cell_type": "markdown",
   "metadata": {},
   "source": [
    "### 处理facenumber_in_poster 列"
   ]
  },
  {
   "cell_type": "code",
   "execution_count": 446,
   "metadata": {},
   "outputs": [
    {
     "data": {
      "text/plain": [
       "'共有13个空值，空值占比0.0026,可以进行补值操作'"
      ]
     },
     "execution_count": 446,
     "metadata": {},
     "output_type": "execute_result"
    }
   ],
   "source": [
    "can_fill('facenumber_in_poster')"
   ]
  },
  {
   "cell_type": "code",
   "execution_count": 266,
   "metadata": {},
   "outputs": [
    {
     "data": {
      "text/plain": [
       "count    5030.000000\n",
       "mean        1.371173\n",
       "std         2.013576\n",
       "min         0.000000\n",
       "25%         0.000000\n",
       "50%         1.000000\n",
       "75%         2.000000\n",
       "max        43.000000\n",
       "Name: facenumber_in_poster, dtype: float64"
      ]
     },
     "execution_count": 266,
     "metadata": {},
     "output_type": "execute_result"
    }
   ],
   "source": [
    "data['facenumber_in_poster'].describe() #查看一下这一列的情况"
   ]
  },
  {
   "cell_type": "code",
   "execution_count": 447,
   "metadata": {},
   "outputs": [
    {
     "data": {
      "text/plain": [
       "0.0     2152\n",
       "1.0     1251\n",
       "2.0      716\n",
       "3.0      380\n",
       "4.0      207\n",
       "5.0      114\n",
       "6.0       76\n",
       "7.0       48\n",
       "8.0       37\n",
       "9.0       18\n",
       "10.0      10\n",
       "15.0       6\n",
       "11.0       5\n",
       "12.0       4\n",
       "13.0       2\n",
       "19.0       1\n",
       "14.0       1\n",
       "31.0       1\n",
       "43.0       1\n",
       "Name: facenumber_in_poster, dtype: int64"
      ]
     },
     "execution_count": 447,
     "metadata": {},
     "output_type": "execute_result"
    }
   ],
   "source": [
    "data['facenumber_in_poster'].value_counts() #海报中的人脸数量，可能是离散变量，不能补值，这里当做连续变量看"
   ]
  },
  {
   "cell_type": "code",
   "execution_count": 274,
   "metadata": {},
   "outputs": [
    {
     "data": {
      "text/plain": [
       "'平均值1.3711729622266402,标准差2.0135759199960632,变异系数1.468506144349746'"
      ]
     },
     "execution_count": 274,
     "metadata": {},
     "output_type": "execute_result"
    }
   ],
   "source": [
    " mean_std_cv('facenumber_in_poster') #数据比较离散，标准差比较大，用bfill-lagrange"
   ]
  },
  {
   "cell_type": "code",
   "execution_count": 450,
   "metadata": {},
   "outputs": [
    {
     "data": {
      "text/plain": [
       "99         1\n",
       "248        2\n",
       "1948      -4\n",
       "3016      29\n",
       "3373      25\n",
       "3797     -80\n",
       "3853      80\n",
       "4307    -360\n",
       "4444     144\n",
       "4448     -88\n",
       "4453      56\n",
       "4692      40\n",
       "5031     -64\n",
       "Name: facenumber_in_poster, dtype: object"
      ]
     },
     "execution_count": 450,
     "metadata": {},
     "output_type": "execute_result"
    }
   ],
   "source": [
    "res = nan_fill_int('facenumber_in_poster',3)\n",
    "res[lt_nan('facenumber_in_poster')] #一共13个空值，给补出了5个负值"
   ]
  },
  {
   "cell_type": "code",
   "execution_count": 453,
   "metadata": {},
   "outputs": [],
   "source": [
    "neg_lt = res[res.astype(np.float64)<0].index.tolist() #值为负的索引\n",
    "res[neg_lt] = np.nan"
   ]
  },
  {
   "cell_type": "code",
   "execution_count": 455,
   "metadata": {},
   "outputs": [
    {
     "data": {
      "text/plain": [
       "1948    NaN\n",
       "3797    NaN\n",
       "4307    NaN\n",
       "4448    NaN\n",
       "5031    NaN\n",
       "Name: facenumber_in_poster, dtype: object"
      ]
     },
     "execution_count": 455,
     "metadata": {},
     "output_type": "execute_result"
    }
   ],
   "source": [
    "data['facenumber_in_poster'] = res\n",
    "res[lt_nan('facenumber_in_poster')]"
   ]
  },
  {
   "cell_type": "code",
   "execution_count": 458,
   "metadata": {},
   "outputs": [
    {
     "data": {
      "text/plain": [
       "1948    1\n",
       "3797    0\n",
       "4307    7\n",
       "4448    1\n",
       "5031    1\n",
       "Name: facenumber_in_poster, dtype: object"
      ]
     },
     "execution_count": 458,
     "metadata": {},
     "output_type": "execute_result"
    }
   ],
   "source": [
    "res = nan_fill_bf('facenumber_in_poster')\n",
    "res[lt_nan('facenumber_in_poster')]"
   ]
  },
  {
   "cell_type": "code",
   "execution_count": 459,
   "metadata": {},
   "outputs": [
    {
     "name": "stdout",
     "output_type": "stream",
     "text": [
      "<class 'pandas.core.frame.DataFrame'>\n",
      "RangeIndex: 5043 entries, 0 to 5042\n",
      "Data columns (total 28 columns):\n",
      "color                        5024 non-null object\n",
      "director_name                4939 non-null object\n",
      "num_critic_for_reviews       5043 non-null float64\n",
      "duration                     5043 non-null float64\n",
      "director_facebook_likes      5043 non-null float64\n",
      "actor_3_facebook_likes       5043 non-null object\n",
      "actor_2_name                 5030 non-null object\n",
      "actor_1_facebook_likes       5043 non-null object\n",
      "gross                        4159 non-null float64\n",
      "genres                       5043 non-null object\n",
      "actor_1_name                 5036 non-null object\n",
      "movie_title                  5043 non-null object\n",
      "num_voted_users              5043 non-null int64\n",
      "cast_total_facebook_likes    5043 non-null int64\n",
      "actor_3_name                 5020 non-null object\n",
      "facenumber_in_poster         5043 non-null object\n",
      "plot_keywords                4890 non-null object\n",
      "movie_imdb_link              5043 non-null object\n",
      "num_user_for_reviews         5022 non-null float64\n",
      "language                     5031 non-null object\n",
      "country                      5038 non-null object\n",
      "content_rating               4740 non-null object\n",
      "budget                       4551 non-null float64\n",
      "title_year                   4935 non-null float64\n",
      "actor_2_facebook_likes       5030 non-null float64\n",
      "imdb_score                   5043 non-null float64\n",
      "aspect_ratio                 4714 non-null float64\n",
      "movie_facebook_likes         5043 non-null int64\n",
      "dtypes: float64(10), int64(3), object(15)\n",
      "memory usage: 1.1+ MB\n"
     ]
    }
   ],
   "source": [
    "data['facenumber_in_poster'] = res\n",
    "data.info()"
   ]
  },
  {
   "cell_type": "markdown",
   "metadata": {},
   "source": [
    "### 处理num_user_for_reviews列"
   ]
  },
  {
   "cell_type": "code",
   "execution_count": 460,
   "metadata": {},
   "outputs": [
    {
     "data": {
      "text/plain": [
       "'共有21个空值，空值占比0.0042,可以进行补值操作'"
      ]
     },
     "execution_count": 460,
     "metadata": {},
     "output_type": "execute_result"
    }
   ],
   "source": [
    "can_fill('num_user_for_reviews')"
   ]
  },
  {
   "cell_type": "code",
   "execution_count": 461,
   "metadata": {},
   "outputs": [
    {
     "data": {
      "text/plain": [
       "'平均值272.77080844285143,标准差377.9828855657681,变异系数1.3857160438960967'"
      ]
     },
     "execution_count": 461,
     "metadata": {},
     "output_type": "execute_result"
    }
   ],
   "source": [
    "mean_std_cv('num_user_for_reviews')"
   ]
  },
  {
   "cell_type": "code",
   "execution_count": 466,
   "metadata": {},
   "outputs": [
    {
     "data": {
      "text/plain": [
       "4       1810\n",
       "279     1231\n",
       "1510     383\n",
       "2342      55\n",
       "2345      35\n",
       "2370      87\n",
       "2765     185\n",
       "2870     118\n",
       "3816     -24\n",
       "4323     102\n",
       "4372      71\n",
       "4436      88\n",
       "4617      36\n",
       "4713      11\n",
       "4767     -76\n",
       "4854      59\n",
       "4859     464\n",
       "4878     -17\n",
       "4929      41\n",
       "4945      40\n",
       "4948      63\n",
       "Name: num_user_for_reviews, dtype: object"
      ]
     },
     "execution_count": 466,
     "metadata": {},
     "output_type": "execute_result"
    }
   ],
   "source": [
    "res = nan_fill_int('num_user_for_reviews',2)\n",
    "res[lt_nan('num_user_for_reviews')]"
   ]
  },
  {
   "cell_type": "code",
   "execution_count": 467,
   "metadata": {},
   "outputs": [],
   "source": [
    "neg_lt = res[res.astype(np.float64)<0].index.tolist()\n",
    "res[neg_lt] = np.nan"
   ]
  },
  {
   "cell_type": "code",
   "execution_count": 468,
   "metadata": {},
   "outputs": [
    {
     "data": {
      "text/plain": [
       "4       1810\n",
       "279     1231\n",
       "1510     383\n",
       "2342      55\n",
       "2345      35\n",
       "2370      87\n",
       "2765     185\n",
       "2870     118\n",
       "3816     NaN\n",
       "4323     102\n",
       "4372      71\n",
       "4436      88\n",
       "4617      36\n",
       "4713      11\n",
       "4767     NaN\n",
       "4854      59\n",
       "4859     464\n",
       "4878     NaN\n",
       "4929      41\n",
       "4945      40\n",
       "4948      63\n",
       "Name: num_user_for_reviews, dtype: object"
      ]
     },
     "execution_count": 468,
     "metadata": {},
     "output_type": "execute_result"
    }
   ],
   "source": [
    "res[lt_nan('num_user_for_reviews')]"
   ]
  },
  {
   "cell_type": "code",
   "execution_count": 470,
   "metadata": {},
   "outputs": [
    {
     "data": {
      "text/plain": [
       "4       1810\n",
       "279     1231\n",
       "1510     383\n",
       "2342      55\n",
       "2345      35\n",
       "2370      87\n",
       "2765     185\n",
       "2870     118\n",
       "3816       4\n",
       "4323     102\n",
       "4372      71\n",
       "4436      88\n",
       "4617      36\n",
       "4713      11\n",
       "4767      16\n",
       "4854      59\n",
       "4859     464\n",
       "4878      18\n",
       "4929      41\n",
       "4945      40\n",
       "4948      63\n",
       "Name: num_user_for_reviews, dtype: object"
      ]
     },
     "execution_count": 470,
     "metadata": {},
     "output_type": "execute_result"
    }
   ],
   "source": [
    "res = res.fillna(method='bfill')\n",
    "res[lt_nan('num_user_for_reviews')]"
   ]
  },
  {
   "cell_type": "code",
   "execution_count": 487,
   "metadata": {},
   "outputs": [
    {
     "data": {
      "text/plain": [
       "True"
      ]
     },
     "execution_count": 487,
     "metadata": {},
     "output_type": "execute_result"
    }
   ],
   "source": [
    "(data['num_user_for_reviews'].astype(np.float64)>=0).all() #确实全部大于0"
   ]
  },
  {
   "cell_type": "code",
   "execution_count": 472,
   "metadata": {},
   "outputs": [
    {
     "name": "stdout",
     "output_type": "stream",
     "text": [
      "<class 'pandas.core.frame.DataFrame'>\n",
      "RangeIndex: 5043 entries, 0 to 5042\n",
      "Data columns (total 28 columns):\n",
      "color                        5024 non-null object\n",
      "director_name                4939 non-null object\n",
      "num_critic_for_reviews       5043 non-null float64\n",
      "duration                     5043 non-null float64\n",
      "director_facebook_likes      5043 non-null float64\n",
      "actor_3_facebook_likes       5043 non-null object\n",
      "actor_2_name                 5030 non-null object\n",
      "actor_1_facebook_likes       5043 non-null object\n",
      "gross                        4159 non-null float64\n",
      "genres                       5043 non-null object\n",
      "actor_1_name                 5036 non-null object\n",
      "movie_title                  5043 non-null object\n",
      "num_voted_users              5043 non-null int64\n",
      "cast_total_facebook_likes    5043 non-null int64\n",
      "actor_3_name                 5020 non-null object\n",
      "facenumber_in_poster         5043 non-null object\n",
      "plot_keywords                4890 non-null object\n",
      "movie_imdb_link              5043 non-null object\n",
      "num_user_for_reviews         5043 non-null object\n",
      "language                     5031 non-null object\n",
      "country                      5038 non-null object\n",
      "content_rating               4740 non-null object\n",
      "budget                       4551 non-null float64\n",
      "title_year                   4935 non-null float64\n",
      "actor_2_facebook_likes       5030 non-null float64\n",
      "imdb_score                   5043 non-null float64\n",
      "aspect_ratio                 4714 non-null float64\n",
      "movie_facebook_likes         5043 non-null int64\n",
      "dtypes: float64(9), int64(3), object(16)\n",
      "memory usage: 1.1+ MB\n"
     ]
    }
   ],
   "source": [
    "data['num_user_for_reviews'] =res\n",
    "data.info()"
   ]
  },
  {
   "cell_type": "markdown",
   "metadata": {},
   "source": [
    "### 处理budget列"
   ]
  },
  {
   "cell_type": "code",
   "execution_count": 473,
   "metadata": {},
   "outputs": [
    {
     "data": {
      "text/plain": [
       "'空值太多了，没有补的价值，共有492个空值,空值占比0.0976'"
      ]
     },
     "execution_count": 473,
     "metadata": {},
     "output_type": "execute_result"
    }
   ],
   "source": [
    "can_fill('budget')"
   ]
  },
  {
   "cell_type": "markdown",
   "metadata": {},
   "source": [
    "### 处理actor_2_facebook_likes列"
   ]
  },
  {
   "cell_type": "code",
   "execution_count": 474,
   "metadata": {},
   "outputs": [
    {
     "data": {
      "text/plain": [
       "'共有13个空值，空值占比0.0026,可以进行补值操作'"
      ]
     },
     "execution_count": 474,
     "metadata": {},
     "output_type": "execute_result"
    }
   ],
   "source": [
    "can_fill('actor_2_facebook_likes')"
   ]
  },
  {
   "cell_type": "code",
   "execution_count": 475,
   "metadata": {},
   "outputs": [
    {
     "data": {
      "text/plain": [
       "'平均值1651.7544731610337,标准差4042.4388626418645,变异系数2.4473606267314505'"
      ]
     },
     "execution_count": 475,
     "metadata": {},
     "output_type": "execute_result"
    }
   ],
   "source": [
    "mean_std_cv('actor_2_facebook_likes')"
   ]
  },
  {
   "cell_type": "code",
   "execution_count": 479,
   "metadata": {},
   "outputs": [
    {
     "data": {
      "text/plain": [
       "279     8333\n",
       "2143     420\n",
       "2241     753\n",
       "3346     206\n",
       "4502     590\n",
       "4519     202\n",
       "4720     697\n",
       "4815     225\n",
       "4837      -3\n",
       "4945     128\n",
       "4946     128\n",
       "4990       9\n",
       "4992     680\n",
       "Name: actor_2_facebook_likes, dtype: object"
      ]
     },
     "execution_count": 479,
     "metadata": {},
     "output_type": "execute_result"
    }
   ],
   "source": [
    "res = nan_fill_int('actor_2_facebook_likes',2)\n",
    "res[lt_nan('actor_2_facebook_likes')] #补完后出现一个负值"
   ]
  },
  {
   "cell_type": "code",
   "execution_count": 480,
   "metadata": {},
   "outputs": [],
   "source": [
    "res[4837] = np.nan"
   ]
  },
  {
   "cell_type": "code",
   "execution_count": 481,
   "metadata": {},
   "outputs": [],
   "source": [
    "res = res.fillna(method='bfill')"
   ]
  },
  {
   "cell_type": "code",
   "execution_count": 482,
   "metadata": {},
   "outputs": [
    {
     "data": {
      "text/plain": [
       "279     8333\n",
       "2143     420\n",
       "2241     753\n",
       "3346     206\n",
       "4502     590\n",
       "4519     202\n",
       "4720     697\n",
       "4815     225\n",
       "4837      99\n",
       "4945     128\n",
       "4946     128\n",
       "4990       9\n",
       "4992     680\n",
       "Name: actor_2_facebook_likes, dtype: object"
      ]
     },
     "execution_count": 482,
     "metadata": {},
     "output_type": "execute_result"
    }
   ],
   "source": [
    "res[lt_nan('actor_2_facebook_likes')]"
   ]
  },
  {
   "cell_type": "code",
   "execution_count": 483,
   "metadata": {},
   "outputs": [
    {
     "name": "stdout",
     "output_type": "stream",
     "text": [
      "<class 'pandas.core.frame.DataFrame'>\n",
      "RangeIndex: 5043 entries, 0 to 5042\n",
      "Data columns (total 28 columns):\n",
      "color                        5024 non-null object\n",
      "director_name                4939 non-null object\n",
      "num_critic_for_reviews       5043 non-null float64\n",
      "duration                     5043 non-null float64\n",
      "director_facebook_likes      5043 non-null float64\n",
      "actor_3_facebook_likes       5043 non-null object\n",
      "actor_2_name                 5030 non-null object\n",
      "actor_1_facebook_likes       5043 non-null object\n",
      "gross                        4159 non-null float64\n",
      "genres                       5043 non-null object\n",
      "actor_1_name                 5036 non-null object\n",
      "movie_title                  5043 non-null object\n",
      "num_voted_users              5043 non-null int64\n",
      "cast_total_facebook_likes    5043 non-null int64\n",
      "actor_3_name                 5020 non-null object\n",
      "facenumber_in_poster         5043 non-null object\n",
      "plot_keywords                4890 non-null object\n",
      "movie_imdb_link              5043 non-null object\n",
      "num_user_for_reviews         5043 non-null object\n",
      "language                     5031 non-null object\n",
      "country                      5038 non-null object\n",
      "content_rating               4740 non-null object\n",
      "budget                       4551 non-null float64\n",
      "title_year                   4935 non-null float64\n",
      "actor_2_facebook_likes       5043 non-null object\n",
      "imdb_score                   5043 non-null float64\n",
      "aspect_ratio                 4714 non-null float64\n",
      "movie_facebook_likes         5043 non-null int64\n",
      "dtypes: float64(8), int64(3), object(17)\n",
      "memory usage: 1.1+ MB\n"
     ]
    }
   ],
   "source": [
    "data['actor_2_facebook_likes'] = res\n",
    "data.info()"
   ]
  },
  {
   "cell_type": "markdown",
   "metadata": {},
   "source": [
    "### 处理aspect_ratio 列"
   ]
  },
  {
   "cell_type": "code",
   "execution_count": 484,
   "metadata": {},
   "outputs": [
    {
     "data": {
      "text/plain": [
       "'空值太多了，没有补的价值，共有329个空值,空值占比0.0652'"
      ]
     },
     "execution_count": 484,
     "metadata": {},
     "output_type": "execute_result"
    }
   ],
   "source": [
    "can_fill('aspect_ratio')"
   ]
  },
  {
   "cell_type": "code",
   "execution_count": 485,
   "metadata": {},
   "outputs": [],
   "source": [
    "# 空值占比6.52%，超过5%了"
   ]
  },
  {
   "cell_type": "markdown",
   "metadata": {},
   "source": [
    "---------------------以上，连续性数据空值处理完毕---------------------"
   ]
  },
  {
   "cell_type": "markdown",
   "metadata": {},
   "source": [
    "-------------------以下，处理离散数据----------------------"
   ]
  },
  {
   "cell_type": "markdown",
   "metadata": {},
   "source": [
    "### 处理color列"
   ]
  },
  {
   "cell_type": "code",
   "execution_count": 488,
   "metadata": {},
   "outputs": [
    {
     "data": {
      "text/plain": [
       "'共有19个空值，空值占比0.0038,可以进行补值操作'"
      ]
     },
     "execution_count": 488,
     "metadata": {},
     "output_type": "execute_result"
    }
   ],
   "source": [
    "can_fill('color')"
   ]
  },
  {
   "cell_type": "code",
   "execution_count": 491,
   "metadata": {},
   "outputs": [
    {
     "data": {
      "text/plain": [
       "Color               4815\n",
       " Black and White     209\n",
       "Name: color, dtype: int64"
      ]
     },
     "execution_count": 491,
     "metadata": {},
     "output_type": "execute_result"
    }
   ],
   "source": [
    "data['color'].value_counts()"
   ]
  },
  {
   "cell_type": "markdown",
   "metadata": {},
   "source": [
    "颜色是离散数据，不能补值，应该删除这些行，但是可以根据常识推断"
   ]
  },
  {
   "cell_type": "code",
   "execution_count": 497,
   "metadata": {},
   "outputs": [
    {
     "data": {
      "text/html": [
       "<div>\n",
       "<style scoped>\n",
       "    .dataframe tbody tr th:only-of-type {\n",
       "        vertical-align: middle;\n",
       "    }\n",
       "\n",
       "    .dataframe tbody tr th {\n",
       "        vertical-align: top;\n",
       "    }\n",
       "\n",
       "    .dataframe thead th {\n",
       "        text-align: right;\n",
       "    }\n",
       "</style>\n",
       "<table border=\"1\" class=\"dataframe\">\n",
       "  <thead>\n",
       "    <tr style=\"text-align: right;\">\n",
       "      <th></th>\n",
       "      <th>color</th>\n",
       "      <th>title_year</th>\n",
       "    </tr>\n",
       "  </thead>\n",
       "  <tbody>\n",
       "    <tr>\n",
       "      <th>4</th>\n",
       "      <td>NaN</td>\n",
       "      <td>NaN</td>\n",
       "    </tr>\n",
       "    <tr>\n",
       "      <th>279</th>\n",
       "      <td>NaN</td>\n",
       "      <td>NaN</td>\n",
       "    </tr>\n",
       "    <tr>\n",
       "      <th>459</th>\n",
       "      <td>NaN</td>\n",
       "      <td>NaN</td>\n",
       "    </tr>\n",
       "    <tr>\n",
       "      <th>1948</th>\n",
       "      <td>NaN</td>\n",
       "      <td>2010.0</td>\n",
       "    </tr>\n",
       "    <tr>\n",
       "      <th>2015</th>\n",
       "      <td>NaN</td>\n",
       "      <td>2014.0</td>\n",
       "    </tr>\n",
       "    <tr>\n",
       "      <th>2459</th>\n",
       "      <td>NaN</td>\n",
       "      <td>NaN</td>\n",
       "    </tr>\n",
       "    <tr>\n",
       "      <th>2753</th>\n",
       "      <td>NaN</td>\n",
       "      <td>2009.0</td>\n",
       "    </tr>\n",
       "    <tr>\n",
       "      <th>3272</th>\n",
       "      <td>NaN</td>\n",
       "      <td>2015.0</td>\n",
       "    </tr>\n",
       "    <tr>\n",
       "      <th>3539</th>\n",
       "      <td>NaN</td>\n",
       "      <td>2014.0</td>\n",
       "    </tr>\n",
       "    <tr>\n",
       "      <th>3638</th>\n",
       "      <td>NaN</td>\n",
       "      <td>2011.0</td>\n",
       "    </tr>\n",
       "    <tr>\n",
       "      <th>3656</th>\n",
       "      <td>NaN</td>\n",
       "      <td>2012.0</td>\n",
       "    </tr>\n",
       "    <tr>\n",
       "      <th>4138</th>\n",
       "      <td>NaN</td>\n",
       "      <td>2014.0</td>\n",
       "    </tr>\n",
       "    <tr>\n",
       "      <th>4215</th>\n",
       "      <td>NaN</td>\n",
       "      <td>2015.0</td>\n",
       "    </tr>\n",
       "    <tr>\n",
       "      <th>4331</th>\n",
       "      <td>NaN</td>\n",
       "      <td>2012.0</td>\n",
       "    </tr>\n",
       "    <tr>\n",
       "      <th>4409</th>\n",
       "      <td>NaN</td>\n",
       "      <td>2016.0</td>\n",
       "    </tr>\n",
       "    <tr>\n",
       "      <th>4441</th>\n",
       "      <td>NaN</td>\n",
       "      <td>2013.0</td>\n",
       "    </tr>\n",
       "    <tr>\n",
       "      <th>4630</th>\n",
       "      <td>NaN</td>\n",
       "      <td>2014.0</td>\n",
       "    </tr>\n",
       "    <tr>\n",
       "      <th>4846</th>\n",
       "      <td>NaN</td>\n",
       "      <td>1990.0</td>\n",
       "    </tr>\n",
       "    <tr>\n",
       "      <th>5020</th>\n",
       "      <td>NaN</td>\n",
       "      <td>2011.0</td>\n",
       "    </tr>\n",
       "  </tbody>\n",
       "</table>\n",
       "</div>"
      ],
      "text/plain": [
       "     color  title_year\n",
       "4      NaN         NaN\n",
       "279    NaN         NaN\n",
       "459    NaN         NaN\n",
       "1948   NaN      2010.0\n",
       "2015   NaN      2014.0\n",
       "2459   NaN         NaN\n",
       "2753   NaN      2009.0\n",
       "3272   NaN      2015.0\n",
       "3539   NaN      2014.0\n",
       "3638   NaN      2011.0\n",
       "3656   NaN      2012.0\n",
       "4138   NaN      2014.0\n",
       "4215   NaN      2015.0\n",
       "4331   NaN      2012.0\n",
       "4409   NaN      2016.0\n",
       "4441   NaN      2013.0\n",
       "4630   NaN      2014.0\n",
       "4846   NaN      1990.0\n",
       "5020   NaN      2011.0"
      ]
     },
     "execution_count": 497,
     "metadata": {},
     "output_type": "execute_result"
    }
   ],
   "source": [
    "data[data['color'].isnull()][['color','title_year']]\n",
    "#2000年以后应该不是黑白电影，所以这些行应该补为color\n",
    "#有的连年份都没有，所以删除这些行"
   ]
  },
  {
   "cell_type": "code",
   "execution_count": 498,
   "metadata": {},
   "outputs": [],
   "source": [
    "data = data.drop([4,279,459,2459],axis=0)"
   ]
  },
  {
   "cell_type": "code",
   "execution_count": 499,
   "metadata": {},
   "outputs": [
    {
     "data": {
      "text/html": [
       "<div>\n",
       "<style scoped>\n",
       "    .dataframe tbody tr th:only-of-type {\n",
       "        vertical-align: middle;\n",
       "    }\n",
       "\n",
       "    .dataframe tbody tr th {\n",
       "        vertical-align: top;\n",
       "    }\n",
       "\n",
       "    .dataframe thead th {\n",
       "        text-align: right;\n",
       "    }\n",
       "</style>\n",
       "<table border=\"1\" class=\"dataframe\">\n",
       "  <thead>\n",
       "    <tr style=\"text-align: right;\">\n",
       "      <th></th>\n",
       "      <th>color</th>\n",
       "      <th>title_year</th>\n",
       "    </tr>\n",
       "  </thead>\n",
       "  <tbody>\n",
       "    <tr>\n",
       "      <th>1948</th>\n",
       "      <td>NaN</td>\n",
       "      <td>2010.0</td>\n",
       "    </tr>\n",
       "    <tr>\n",
       "      <th>2015</th>\n",
       "      <td>NaN</td>\n",
       "      <td>2014.0</td>\n",
       "    </tr>\n",
       "    <tr>\n",
       "      <th>2753</th>\n",
       "      <td>NaN</td>\n",
       "      <td>2009.0</td>\n",
       "    </tr>\n",
       "    <tr>\n",
       "      <th>3272</th>\n",
       "      <td>NaN</td>\n",
       "      <td>2015.0</td>\n",
       "    </tr>\n",
       "    <tr>\n",
       "      <th>3539</th>\n",
       "      <td>NaN</td>\n",
       "      <td>2014.0</td>\n",
       "    </tr>\n",
       "    <tr>\n",
       "      <th>3638</th>\n",
       "      <td>NaN</td>\n",
       "      <td>2011.0</td>\n",
       "    </tr>\n",
       "    <tr>\n",
       "      <th>3656</th>\n",
       "      <td>NaN</td>\n",
       "      <td>2012.0</td>\n",
       "    </tr>\n",
       "    <tr>\n",
       "      <th>4138</th>\n",
       "      <td>NaN</td>\n",
       "      <td>2014.0</td>\n",
       "    </tr>\n",
       "    <tr>\n",
       "      <th>4215</th>\n",
       "      <td>NaN</td>\n",
       "      <td>2015.0</td>\n",
       "    </tr>\n",
       "    <tr>\n",
       "      <th>4331</th>\n",
       "      <td>NaN</td>\n",
       "      <td>2012.0</td>\n",
       "    </tr>\n",
       "    <tr>\n",
       "      <th>4409</th>\n",
       "      <td>NaN</td>\n",
       "      <td>2016.0</td>\n",
       "    </tr>\n",
       "    <tr>\n",
       "      <th>4441</th>\n",
       "      <td>NaN</td>\n",
       "      <td>2013.0</td>\n",
       "    </tr>\n",
       "    <tr>\n",
       "      <th>4630</th>\n",
       "      <td>NaN</td>\n",
       "      <td>2014.0</td>\n",
       "    </tr>\n",
       "    <tr>\n",
       "      <th>4846</th>\n",
       "      <td>NaN</td>\n",
       "      <td>1990.0</td>\n",
       "    </tr>\n",
       "    <tr>\n",
       "      <th>5020</th>\n",
       "      <td>NaN</td>\n",
       "      <td>2011.0</td>\n",
       "    </tr>\n",
       "  </tbody>\n",
       "</table>\n",
       "</div>"
      ],
      "text/plain": [
       "     color  title_year\n",
       "1948   NaN      2010.0\n",
       "2015   NaN      2014.0\n",
       "2753   NaN      2009.0\n",
       "3272   NaN      2015.0\n",
       "3539   NaN      2014.0\n",
       "3638   NaN      2011.0\n",
       "3656   NaN      2012.0\n",
       "4138   NaN      2014.0\n",
       "4215   NaN      2015.0\n",
       "4331   NaN      2012.0\n",
       "4409   NaN      2016.0\n",
       "4441   NaN      2013.0\n",
       "4630   NaN      2014.0\n",
       "4846   NaN      1990.0\n",
       "5020   NaN      2011.0"
      ]
     },
     "execution_count": 499,
     "metadata": {},
     "output_type": "execute_result"
    }
   ],
   "source": [
    "data[data['color'].isnull()][['color','title_year']] #查看情况"
   ]
  },
  {
   "cell_type": "code",
   "execution_count": 527,
   "metadata": {},
   "outputs": [
    {
     "data": {
      "text/plain": [
       "1948    NaN\n",
       "2015    NaN\n",
       "2753    NaN\n",
       "3272    NaN\n",
       "3539    NaN\n",
       "3638    NaN\n",
       "3656    NaN\n",
       "4138    NaN\n",
       "4215    NaN\n",
       "4331    NaN\n",
       "4409    NaN\n",
       "4441    NaN\n",
       "4630    NaN\n",
       "4846    NaN\n",
       "5020    NaN\n",
       "Name: color, dtype: object"
      ]
     },
     "execution_count": 527,
     "metadata": {},
     "output_type": "execute_result"
    }
   ],
   "source": [
    "col_color = data['color']\n",
    "col_color_nan = col_color[col_color.isnull()]\n",
    "col_color_nan"
   ]
  },
  {
   "cell_type": "code",
   "execution_count": 528,
   "metadata": {},
   "outputs": [],
   "source": [
    "col_color_nan[data['title_year']>=2000.0] = 'Color'"
   ]
  },
  {
   "cell_type": "code",
   "execution_count": 529,
   "metadata": {},
   "outputs": [],
   "source": [
    "col_color_nan[data['title_year']<2000.0] = 'Black and White'"
   ]
  },
  {
   "cell_type": "code",
   "execution_count": 533,
   "metadata": {},
   "outputs": [
    {
     "data": {
      "text/plain": [
       "1948              Color\n",
       "2015              Color\n",
       "2753              Color\n",
       "3272              Color\n",
       "3539              Color\n",
       "3638              Color\n",
       "3656              Color\n",
       "4138              Color\n",
       "4215              Color\n",
       "4331              Color\n",
       "4409              Color\n",
       "4441              Color\n",
       "4630              Color\n",
       "4846    Black and White\n",
       "5020              Color\n",
       "Name: color, dtype: object"
      ]
     },
     "execution_count": 533,
     "metadata": {},
     "output_type": "execute_result"
    }
   ],
   "source": [
    "col_color_nan"
   ]
  },
  {
   "cell_type": "code",
   "execution_count": 535,
   "metadata": {},
   "outputs": [
    {
     "name": "stderr",
     "output_type": "stream",
     "text": [
      "F:\\soft\\annaconda\\lib\\site-packages\\ipykernel_launcher.py:1: SettingWithCopyWarning: \n",
      "A value is trying to be set on a copy of a slice from a DataFrame\n",
      "\n",
      "See the caveats in the documentation: http://pandas.pydata.org/pandas-docs/stable/indexing.html#indexing-view-versus-copy\n",
      "  \"\"\"Entry point for launching an IPython kernel.\n"
     ]
    }
   ],
   "source": [
    "col_color[col_color.isnull()] = col_color_nan"
   ]
  },
  {
   "cell_type": "code",
   "execution_count": 538,
   "metadata": {},
   "outputs": [
    {
     "data": {
      "text/plain": [
       "False"
      ]
     },
     "execution_count": 538,
     "metadata": {},
     "output_type": "execute_result"
    }
   ],
   "source": [
    "col_color.isnull().any() #这一列不存在空值了，说明补好了"
   ]
  },
  {
   "cell_type": "code",
   "execution_count": 540,
   "metadata": {},
   "outputs": [],
   "source": [
    "data['color'] =  col_color #因为删了4行，所以剩余5039行"
   ]
  },
  {
   "cell_type": "code",
   "execution_count": 541,
   "metadata": {
    "scrolled": true
   },
   "outputs": [
    {
     "name": "stdout",
     "output_type": "stream",
     "text": [
      "<class 'pandas.core.frame.DataFrame'>\n",
      "Int64Index: 5039 entries, 0 to 5042\n",
      "Data columns (total 28 columns):\n",
      "color                        5039 non-null object\n",
      "director_name                4937 non-null object\n",
      "num_critic_for_reviews       5039 non-null float64\n",
      "duration                     5039 non-null float64\n",
      "director_facebook_likes      5039 non-null float64\n",
      "actor_3_facebook_likes       5039 non-null object\n",
      "actor_2_name                 5027 non-null object\n",
      "actor_1_facebook_likes       5039 non-null object\n",
      "gross                        4159 non-null float64\n",
      "genres                       5039 non-null object\n",
      "actor_1_name                 5032 non-null object\n",
      "movie_title                  5039 non-null object\n",
      "num_voted_users              5039 non-null int64\n",
      "cast_total_facebook_likes    5039 non-null int64\n",
      "actor_3_name                 5018 non-null object\n",
      "facenumber_in_poster         5039 non-null object\n",
      "plot_keywords                4888 non-null object\n",
      "movie_imdb_link              5039 non-null object\n",
      "num_user_for_reviews         5039 non-null object\n",
      "language                     5030 non-null object\n",
      "country                      5036 non-null object\n",
      "content_rating               4739 non-null object\n",
      "budget                       4551 non-null float64\n",
      "title_year                   4935 non-null float64\n",
      "actor_2_facebook_likes       5039 non-null object\n",
      "imdb_score                   5039 non-null float64\n",
      "aspect_ratio                 4713 non-null float64\n",
      "movie_facebook_likes         5039 non-null int64\n",
      "dtypes: float64(8), int64(3), object(17)\n",
      "memory usage: 1.3+ MB\n"
     ]
    }
   ],
   "source": [
    "data.info()"
   ]
  },
  {
   "cell_type": "markdown",
   "metadata": {},
   "source": [
    "### 处理director_name列"
   ]
  },
  {
   "cell_type": "code",
   "execution_count": 544,
   "metadata": {},
   "outputs": [
    {
     "data": {
      "text/plain": [
       "'共有102个空值，空值占比0.0202,可以进行补值操作'"
      ]
     },
     "execution_count": 544,
     "metadata": {},
     "output_type": "execute_result"
    }
   ],
   "source": [
    "can_fill('director_name')"
   ]
  },
  {
   "cell_type": "code",
   "execution_count": 546,
   "metadata": {},
   "outputs": [],
   "source": [
    "#删除这些行\n",
    "lt_nan = lt_nan('director_name') #空值行的索引"
   ]
  },
  {
   "cell_type": "code",
   "execution_count": 547,
   "metadata": {},
   "outputs": [],
   "source": [
    "data = data.drop(lt_nan,axis=0)"
   ]
  },
  {
   "cell_type": "code",
   "execution_count": 548,
   "metadata": {},
   "outputs": [
    {
     "name": "stdout",
     "output_type": "stream",
     "text": [
      "<class 'pandas.core.frame.DataFrame'>\n",
      "Int64Index: 4937 entries, 0 to 5042\n",
      "Data columns (total 28 columns):\n",
      "color                        4937 non-null object\n",
      "director_name                4937 non-null object\n",
      "num_critic_for_reviews       4937 non-null float64\n",
      "duration                     4937 non-null float64\n",
      "director_facebook_likes      4937 non-null float64\n",
      "actor_3_facebook_likes       4937 non-null object\n",
      "actor_2_name                 4927 non-null object\n",
      "actor_1_facebook_likes       4937 non-null object\n",
      "gross                        4156 non-null float64\n",
      "genres                       4937 non-null object\n",
      "actor_1_name                 4930 non-null object\n",
      "movie_title                  4937 non-null object\n",
      "num_voted_users              4937 non-null int64\n",
      "cast_total_facebook_likes    4937 non-null int64\n",
      "actor_3_name                 4919 non-null object\n",
      "facenumber_in_poster         4937 non-null object\n",
      "plot_keywords                4795 non-null object\n",
      "movie_imdb_link              4937 non-null object\n",
      "num_user_for_reviews         4937 non-null object\n",
      "language                     4928 non-null object\n",
      "country                      4936 non-null object\n",
      "content_rating               4674 non-null object\n",
      "budget                       4543 non-null float64\n",
      "title_year                   4935 non-null float64\n",
      "actor_2_facebook_likes       4937 non-null object\n",
      "imdb_score                   4937 non-null float64\n",
      "aspect_ratio                 4629 non-null float64\n",
      "movie_facebook_likes         4937 non-null int64\n",
      "dtypes: float64(8), int64(3), object(17)\n",
      "memory usage: 1.1+ MB\n"
     ]
    }
   ],
   "source": [
    "data.info()"
   ]
  },
  {
   "cell_type": "code",
   "execution_count": 549,
   "metadata": {},
   "outputs": [
    {
     "data": {
      "text/plain": [
       "4937"
      ]
     },
     "execution_count": 549,
     "metadata": {},
     "output_type": "execute_result"
    }
   ],
   "source": [
    "5039-102"
   ]
  },
  {
   "cell_type": "markdown",
   "metadata": {},
   "source": [
    "对于剩余特征，我们可以查找相关信息补全，或者直接逐一删除空值所处行,这里选择第二种方案"
   ]
  },
  {
   "cell_type": "code",
   "execution_count": 567,
   "metadata": {},
   "outputs": [],
   "source": [
    "discrete_lt = ['actor_2_name','actor_1_name','actor_3_name','plot_keywords','language','country','content_rating','title_year']"
   ]
  },
  {
   "cell_type": "code",
   "execution_count": 572,
   "metadata": {},
   "outputs": [],
   "source": [
    "lt_del = []\n",
    "for i in discrete_lt:\n",
    "    lt_del.extend(lt_nan(i))"
   ]
  },
  {
   "cell_type": "code",
   "execution_count": 573,
   "metadata": {},
   "outputs": [],
   "source": [
    "lt_del = list(set(lt_del))"
   ]
  },
  {
   "cell_type": "code",
   "execution_count": 574,
   "metadata": {},
   "outputs": [],
   "source": [
    "data = data.drop(lt_del,axis=0)"
   ]
  },
  {
   "cell_type": "code",
   "execution_count": 575,
   "metadata": {
    "scrolled": false
   },
   "outputs": [
    {
     "name": "stdout",
     "output_type": "stream",
     "text": [
      "<class 'pandas.core.frame.DataFrame'>\n",
      "Int64Index: 4590 entries, 0 to 5042\n",
      "Data columns (total 28 columns):\n",
      "color                        4590 non-null object\n",
      "director_name                4590 non-null object\n",
      "num_critic_for_reviews       4590 non-null float64\n",
      "duration                     4590 non-null float64\n",
      "director_facebook_likes      4590 non-null float64\n",
      "actor_3_facebook_likes       4590 non-null object\n",
      "actor_2_name                 4590 non-null object\n",
      "actor_1_facebook_likes       4590 non-null object\n",
      "gross                        4055 non-null float64\n",
      "genres                       4590 non-null object\n",
      "actor_1_name                 4590 non-null object\n",
      "movie_title                  4590 non-null object\n",
      "num_voted_users              4590 non-null int64\n",
      "cast_total_facebook_likes    4590 non-null int64\n",
      "actor_3_name                 4590 non-null object\n",
      "facenumber_in_poster         4590 non-null object\n",
      "plot_keywords                4590 non-null object\n",
      "movie_imdb_link              4590 non-null object\n",
      "num_user_for_reviews         4590 non-null object\n",
      "language                     4590 non-null object\n",
      "country                      4590 non-null object\n",
      "content_rating               4590 non-null object\n",
      "budget                       4272 non-null float64\n",
      "title_year                   4590 non-null float64\n",
      "actor_2_facebook_likes       4590 non-null object\n",
      "imdb_score                   4590 non-null float64\n",
      "aspect_ratio                 4430 non-null float64\n",
      "movie_facebook_likes         4590 non-null int64\n",
      "dtypes: float64(8), int64(3), object(17)\n",
      "memory usage: 1.0+ MB\n"
     ]
    }
   ],
   "source": [
    "data.info()"
   ]
  },
  {
   "cell_type": "markdown",
   "metadata": {},
   "source": [
    "### 删除空值太多，超过5%的列而无法补值的列"
   ]
  },
  {
   "cell_type": "code",
   "execution_count": 576,
   "metadata": {},
   "outputs": [],
   "source": [
    "data = data.drop(['gross','budget','aspect_ratio'],axis=1)"
   ]
  },
  {
   "cell_type": "code",
   "execution_count": 577,
   "metadata": {},
   "outputs": [
    {
     "name": "stdout",
     "output_type": "stream",
     "text": [
      "<class 'pandas.core.frame.DataFrame'>\n",
      "Int64Index: 4590 entries, 0 to 5042\n",
      "Data columns (total 25 columns):\n",
      "color                        4590 non-null object\n",
      "director_name                4590 non-null object\n",
      "num_critic_for_reviews       4590 non-null float64\n",
      "duration                     4590 non-null float64\n",
      "director_facebook_likes      4590 non-null float64\n",
      "actor_3_facebook_likes       4590 non-null object\n",
      "actor_2_name                 4590 non-null object\n",
      "actor_1_facebook_likes       4590 non-null object\n",
      "genres                       4590 non-null object\n",
      "actor_1_name                 4590 non-null object\n",
      "movie_title                  4590 non-null object\n",
      "num_voted_users              4590 non-null int64\n",
      "cast_total_facebook_likes    4590 non-null int64\n",
      "actor_3_name                 4590 non-null object\n",
      "facenumber_in_poster         4590 non-null object\n",
      "plot_keywords                4590 non-null object\n",
      "movie_imdb_link              4590 non-null object\n",
      "num_user_for_reviews         4590 non-null object\n",
      "language                     4590 non-null object\n",
      "country                      4590 non-null object\n",
      "content_rating               4590 non-null object\n",
      "title_year                   4590 non-null float64\n",
      "actor_2_facebook_likes       4590 non-null object\n",
      "imdb_score                   4590 non-null float64\n",
      "movie_facebook_likes         4590 non-null int64\n",
      "dtypes: float64(5), int64(3), object(17)\n",
      "memory usage: 932.3+ KB\n"
     ]
    }
   ],
   "source": [
    "data.info()"
   ]
  },
  {
   "cell_type": "markdown",
   "metadata": {},
   "source": [
    "## 数据类型整理"
   ]
  },
  {
   "cell_type": "code",
   "execution_count": 579,
   "metadata": {},
   "outputs": [
    {
     "data": {
      "text/plain": [
       "Index(['color', 'director_name', 'num_critic_for_reviews', 'duration',\n",
       "       'director_facebook_likes', 'actor_3_facebook_likes', 'actor_2_name',\n",
       "       'actor_1_facebook_likes', 'genres', 'actor_1_name', 'movie_title',\n",
       "       'num_voted_users', 'cast_total_facebook_likes', 'actor_3_name',\n",
       "       'facenumber_in_poster', 'plot_keywords', 'movie_imdb_link',\n",
       "       'num_user_for_reviews', 'language', 'country', 'content_rating',\n",
       "       'title_year', 'actor_2_facebook_likes', 'imdb_score',\n",
       "       'movie_facebook_likes'],\n",
       "      dtype='object')"
      ]
     },
     "execution_count": 579,
     "metadata": {},
     "output_type": "execute_result"
    }
   ],
   "source": [
    "data.columns"
   ]
  },
  {
   "cell_type": "code",
   "execution_count": 580,
   "metadata": {},
   "outputs": [],
   "source": [
    "data[['num_critic_for_reviews','duration', 'director_facebook_likes', 'actor_3_facebook_likes', 'actor_1_facebook_likes',\\\n",
    "     'facenumber_in_poster','num_user_for_reviews','actor_2_facebook_likes',]] = data[['num_critic_for_reviews','duration', 'director_facebook_likes', 'actor_3_facebook_likes', 'actor_1_facebook_likes',\\\n",
    "     'facenumber_in_poster','num_user_for_reviews','actor_2_facebook_likes',]].astype(np.int64)"
   ]
  },
  {
   "cell_type": "code",
   "execution_count": 581,
   "metadata": {},
   "outputs": [
    {
     "name": "stdout",
     "output_type": "stream",
     "text": [
      "<class 'pandas.core.frame.DataFrame'>\n",
      "Int64Index: 4590 entries, 0 to 5042\n",
      "Data columns (total 25 columns):\n",
      "color                        4590 non-null object\n",
      "director_name                4590 non-null object\n",
      "num_critic_for_reviews       4590 non-null int64\n",
      "duration                     4590 non-null int64\n",
      "director_facebook_likes      4590 non-null int64\n",
      "actor_3_facebook_likes       4590 non-null int64\n",
      "actor_2_name                 4590 non-null object\n",
      "actor_1_facebook_likes       4590 non-null int64\n",
      "genres                       4590 non-null object\n",
      "actor_1_name                 4590 non-null object\n",
      "movie_title                  4590 non-null object\n",
      "num_voted_users              4590 non-null int64\n",
      "cast_total_facebook_likes    4590 non-null int64\n",
      "actor_3_name                 4590 non-null object\n",
      "facenumber_in_poster         4590 non-null int64\n",
      "plot_keywords                4590 non-null object\n",
      "movie_imdb_link              4590 non-null object\n",
      "num_user_for_reviews         4590 non-null int64\n",
      "language                     4590 non-null object\n",
      "country                      4590 non-null object\n",
      "content_rating               4590 non-null object\n",
      "title_year                   4590 non-null float64\n",
      "actor_2_facebook_likes       4590 non-null int64\n",
      "imdb_score                   4590 non-null float64\n",
      "movie_facebook_likes         4590 non-null int64\n",
      "dtypes: float64(2), int64(11), object(12)\n",
      "memory usage: 932.3+ KB\n"
     ]
    }
   ],
   "source": [
    "data.info()"
   ]
  },
  {
   "cell_type": "code",
   "execution_count": 605,
   "metadata": {},
   "outputs": [],
   "source": [
    "data['title_year']= data['title_year'].astype(np.object).astype(np.datetime64)"
   ]
  },
  {
   "cell_type": "code",
   "execution_count": 606,
   "metadata": {},
   "outputs": [
    {
     "name": "stdout",
     "output_type": "stream",
     "text": [
      "<class 'pandas.core.frame.DataFrame'>\n",
      "Int64Index: 4590 entries, 0 to 5042\n",
      "Data columns (total 25 columns):\n",
      "color                        4590 non-null object\n",
      "director_name                4590 non-null object\n",
      "num_critic_for_reviews       4590 non-null int64\n",
      "duration                     4590 non-null int64\n",
      "director_facebook_likes      4590 non-null int64\n",
      "actor_3_facebook_likes       4590 non-null int64\n",
      "actor_2_name                 4590 non-null object\n",
      "actor_1_facebook_likes       4590 non-null int64\n",
      "genres                       4590 non-null object\n",
      "actor_1_name                 4590 non-null object\n",
      "movie_title                  4590 non-null object\n",
      "num_voted_users              4590 non-null int64\n",
      "cast_total_facebook_likes    4590 non-null int64\n",
      "actor_3_name                 4590 non-null object\n",
      "facenumber_in_poster         4590 non-null int64\n",
      "plot_keywords                4590 non-null object\n",
      "movie_imdb_link              4590 non-null object\n",
      "num_user_for_reviews         4590 non-null int64\n",
      "language                     4590 non-null object\n",
      "country                      4590 non-null object\n",
      "content_rating               4590 non-null object\n",
      "title_year                   4590 non-null datetime64[ns]\n",
      "actor_2_facebook_likes       4590 non-null int64\n",
      "imdb_score                   4590 non-null float64\n",
      "movie_facebook_likes         4590 non-null int64\n",
      "dtypes: datetime64[ns](1), float64(1), int64(11), object(12)\n",
      "memory usage: 932.3+ KB\n"
     ]
    }
   ],
   "source": [
    "data.info()"
   ]
  },
  {
   "cell_type": "markdown",
   "metadata": {},
   "source": [
    "## 删除重复行"
   ]
  },
  {
   "cell_type": "code",
   "execution_count": 609,
   "metadata": {
    "scrolled": true
   },
   "outputs": [
    {
     "data": {
      "text/html": [
       "<div>\n",
       "<style scoped>\n",
       "    .dataframe tbody tr th:only-of-type {\n",
       "        vertical-align: middle;\n",
       "    }\n",
       "\n",
       "    .dataframe tbody tr th {\n",
       "        vertical-align: top;\n",
       "    }\n",
       "\n",
       "    .dataframe thead th {\n",
       "        text-align: right;\n",
       "    }\n",
       "</style>\n",
       "<table border=\"1\" class=\"dataframe\">\n",
       "  <thead>\n",
       "    <tr style=\"text-align: right;\">\n",
       "      <th></th>\n",
       "      <th>color</th>\n",
       "      <th>director_name</th>\n",
       "      <th>num_critic_for_reviews</th>\n",
       "      <th>duration</th>\n",
       "      <th>director_facebook_likes</th>\n",
       "      <th>actor_3_facebook_likes</th>\n",
       "      <th>actor_2_name</th>\n",
       "      <th>actor_1_facebook_likes</th>\n",
       "      <th>genres</th>\n",
       "      <th>actor_1_name</th>\n",
       "      <th>...</th>\n",
       "      <th>plot_keywords</th>\n",
       "      <th>movie_imdb_link</th>\n",
       "      <th>num_user_for_reviews</th>\n",
       "      <th>language</th>\n",
       "      <th>country</th>\n",
       "      <th>content_rating</th>\n",
       "      <th>title_year</th>\n",
       "      <th>actor_2_facebook_likes</th>\n",
       "      <th>imdb_score</th>\n",
       "      <th>movie_facebook_likes</th>\n",
       "    </tr>\n",
       "  </thead>\n",
       "  <tbody>\n",
       "    <tr>\n",
       "      <th>137</th>\n",
       "      <td>Color</td>\n",
       "      <td>David Yates</td>\n",
       "      <td>248</td>\n",
       "      <td>110</td>\n",
       "      <td>282</td>\n",
       "      <td>103</td>\n",
       "      <td>Alexander Skarsgård</td>\n",
       "      <td>11000</td>\n",
       "      <td>Action|Adventure|Drama|Romance</td>\n",
       "      <td>Christoph Waltz</td>\n",
       "      <td>...</td>\n",
       "      <td>africa|capture|jungle|male objectification|tarzan</td>\n",
       "      <td>http://www.imdb.com/title/tt0918940/?ref_=fn_t...</td>\n",
       "      <td>239</td>\n",
       "      <td>English</td>\n",
       "      <td>USA</td>\n",
       "      <td>PG-13</td>\n",
       "      <td>1970-01-01 00:00:00.000002016</td>\n",
       "      <td>10000</td>\n",
       "      <td>6.6</td>\n",
       "      <td>29000</td>\n",
       "    </tr>\n",
       "    <tr>\n",
       "      <th>187</th>\n",
       "      <td>Color</td>\n",
       "      <td>Bill Condon</td>\n",
       "      <td>322</td>\n",
       "      <td>115</td>\n",
       "      <td>386</td>\n",
       "      <td>12000</td>\n",
       "      <td>Kristen Stewart</td>\n",
       "      <td>21000</td>\n",
       "      <td>Adventure|Drama|Fantasy|Romance</td>\n",
       "      <td>Robert Pattinson</td>\n",
       "      <td>...</td>\n",
       "      <td>battle|friend|super strength|vampire|vision</td>\n",
       "      <td>http://www.imdb.com/title/tt1673434/?ref_=fn_t...</td>\n",
       "      <td>329</td>\n",
       "      <td>English</td>\n",
       "      <td>USA</td>\n",
       "      <td>PG-13</td>\n",
       "      <td>1970-01-01 00:00:00.000002012</td>\n",
       "      <td>17000</td>\n",
       "      <td>5.5</td>\n",
       "      <td>65000</td>\n",
       "    </tr>\n",
       "    <tr>\n",
       "      <th>303</th>\n",
       "      <td>Color</td>\n",
       "      <td>Joe Wright</td>\n",
       "      <td>256</td>\n",
       "      <td>111</td>\n",
       "      <td>456</td>\n",
       "      <td>394</td>\n",
       "      <td>Cara Delevingne</td>\n",
       "      <td>20000</td>\n",
       "      <td>Adventure|Family|Fantasy</td>\n",
       "      <td>Hugh Jackman</td>\n",
       "      <td>...</td>\n",
       "      <td>1940s|child hero|fantasy world|orphan|referenc...</td>\n",
       "      <td>http://www.imdb.com/title/tt3332064/?ref_=fn_t...</td>\n",
       "      <td>186</td>\n",
       "      <td>English</td>\n",
       "      <td>USA</td>\n",
       "      <td>PG</td>\n",
       "      <td>1970-01-01 00:00:00.000002015</td>\n",
       "      <td>548</td>\n",
       "      <td>5.8</td>\n",
       "      <td>24000</td>\n",
       "    </tr>\n",
       "    <tr>\n",
       "      <th>389</th>\n",
       "      <td>Color</td>\n",
       "      <td>Josh Trank</td>\n",
       "      <td>369</td>\n",
       "      <td>100</td>\n",
       "      <td>128</td>\n",
       "      <td>78</td>\n",
       "      <td>Reg E. Cathey</td>\n",
       "      <td>596</td>\n",
       "      <td>Action|Adventure|Sci-Fi</td>\n",
       "      <td>Tim Blake Nelson</td>\n",
       "      <td>...</td>\n",
       "      <td>box office flop|critically bashed|portal|telep...</td>\n",
       "      <td>http://www.imdb.com/title/tt1502712/?ref_=fn_t...</td>\n",
       "      <td>695</td>\n",
       "      <td>English</td>\n",
       "      <td>USA</td>\n",
       "      <td>PG-13</td>\n",
       "      <td>1970-01-01 00:00:00.000002015</td>\n",
       "      <td>360</td>\n",
       "      <td>4.3</td>\n",
       "      <td>41000</td>\n",
       "    </tr>\n",
       "    <tr>\n",
       "      <th>395</th>\n",
       "      <td>Color</td>\n",
       "      <td>Rob Cohen</td>\n",
       "      <td>187</td>\n",
       "      <td>106</td>\n",
       "      <td>357</td>\n",
       "      <td>4000</td>\n",
       "      <td>Vin Diesel</td>\n",
       "      <td>23000</td>\n",
       "      <td>Action|Crime|Thriller</td>\n",
       "      <td>Paul Walker</td>\n",
       "      <td>...</td>\n",
       "      <td>eighteen wheeler|illegal street racing|truck|t...</td>\n",
       "      <td>http://www.imdb.com/title/tt0232500/?ref_=fn_t...</td>\n",
       "      <td>988</td>\n",
       "      <td>English</td>\n",
       "      <td>USA</td>\n",
       "      <td>PG-13</td>\n",
       "      <td>1970-01-01 00:00:00.000002001</td>\n",
       "      <td>14000</td>\n",
       "      <td>6.7</td>\n",
       "      <td>14000</td>\n",
       "    </tr>\n",
       "    <tr>\n",
       "      <th>590</th>\n",
       "      <td>Color</td>\n",
       "      <td>Brett Ratner</td>\n",
       "      <td>245</td>\n",
       "      <td>101</td>\n",
       "      <td>420</td>\n",
       "      <td>467</td>\n",
       "      <td>Rufus Sewell</td>\n",
       "      <td>12000</td>\n",
       "      <td>Action|Adventure</td>\n",
       "      <td>Dwayne Johnson</td>\n",
       "      <td>...</td>\n",
       "      <td>army|greek mythology|hercules|king|mercenary</td>\n",
       "      <td>http://www.imdb.com/title/tt1267297/?ref_=fn_t...</td>\n",
       "      <td>269</td>\n",
       "      <td>English</td>\n",
       "      <td>USA</td>\n",
       "      <td>PG-13</td>\n",
       "      <td>1970-01-01 00:00:00.000002014</td>\n",
       "      <td>3000</td>\n",
       "      <td>6.0</td>\n",
       "      <td>21000</td>\n",
       "    </tr>\n",
       "    <tr>\n",
       "      <th>656</th>\n",
       "      <td>Color</td>\n",
       "      <td>Paul Verhoeven</td>\n",
       "      <td>196</td>\n",
       "      <td>113</td>\n",
       "      <td>719</td>\n",
       "      <td>217</td>\n",
       "      <td>Rachel Ticotin</td>\n",
       "      <td>605</td>\n",
       "      <td>Action|Sci-Fi</td>\n",
       "      <td>Ronny Cox</td>\n",
       "      <td>...</td>\n",
       "      <td>ambiguous ending|false memory|implanted memory...</td>\n",
       "      <td>http://www.imdb.com/title/tt0100802/?ref_=fn_t...</td>\n",
       "      <td>391</td>\n",
       "      <td>English</td>\n",
       "      <td>USA</td>\n",
       "      <td>R</td>\n",
       "      <td>1970-01-01 00:00:00.000001990</td>\n",
       "      <td>308</td>\n",
       "      <td>7.5</td>\n",
       "      <td>0</td>\n",
       "    </tr>\n",
       "    <tr>\n",
       "      <th>794</th>\n",
       "      <td>Color</td>\n",
       "      <td>Joss Whedon</td>\n",
       "      <td>703</td>\n",
       "      <td>173</td>\n",
       "      <td>0</td>\n",
       "      <td>19000</td>\n",
       "      <td>Robert Downey Jr.</td>\n",
       "      <td>26000</td>\n",
       "      <td>Action|Adventure|Sci-Fi</td>\n",
       "      <td>Chris Hemsworth</td>\n",
       "      <td>...</td>\n",
       "      <td>alien invasion|assassin|battle|iron man|soldier</td>\n",
       "      <td>http://www.imdb.com/title/tt0848228/?ref_=fn_t...</td>\n",
       "      <td>1722</td>\n",
       "      <td>English</td>\n",
       "      <td>USA</td>\n",
       "      <td>PG-13</td>\n",
       "      <td>1970-01-01 00:00:00.000002012</td>\n",
       "      <td>21000</td>\n",
       "      <td>8.1</td>\n",
       "      <td>123000</td>\n",
       "    </tr>\n",
       "    <tr>\n",
       "      <th>1220</th>\n",
       "      <td>Color</td>\n",
       "      <td>Angelina Jolie Pitt</td>\n",
       "      <td>322</td>\n",
       "      <td>137</td>\n",
       "      <td>11000</td>\n",
       "      <td>465</td>\n",
       "      <td>Jack O'Connell</td>\n",
       "      <td>769</td>\n",
       "      <td>Biography|Drama|Sport|War</td>\n",
       "      <td>Finn Wittrock</td>\n",
       "      <td>...</td>\n",
       "      <td>emaciation|male nudity|plane crash|prisoner of...</td>\n",
       "      <td>http://www.imdb.com/title/tt1809398/?ref_=fn_t...</td>\n",
       "      <td>351</td>\n",
       "      <td>English</td>\n",
       "      <td>USA</td>\n",
       "      <td>PG-13</td>\n",
       "      <td>1970-01-01 00:00:00.000002014</td>\n",
       "      <td>698</td>\n",
       "      <td>7.2</td>\n",
       "      <td>35000</td>\n",
       "    </tr>\n",
       "    <tr>\n",
       "      <th>1305</th>\n",
       "      <td>Color</td>\n",
       "      <td>Paul McGuigan</td>\n",
       "      <td>159</td>\n",
       "      <td>110</td>\n",
       "      <td>118</td>\n",
       "      <td>287</td>\n",
       "      <td>Spencer Wilding</td>\n",
       "      <td>11000</td>\n",
       "      <td>Drama|Horror|Sci-Fi|Thriller</td>\n",
       "      <td>Daniel Radcliffe</td>\n",
       "      <td>...</td>\n",
       "      <td>assistant|experiment|frankenstein|medical stud...</td>\n",
       "      <td>http://www.imdb.com/title/tt1976009/?ref_=fn_t...</td>\n",
       "      <td>91</td>\n",
       "      <td>English</td>\n",
       "      <td>USA</td>\n",
       "      <td>PG-13</td>\n",
       "      <td>1970-01-01 00:00:00.000002015</td>\n",
       "      <td>1000</td>\n",
       "      <td>6.0</td>\n",
       "      <td>11000</td>\n",
       "    </tr>\n",
       "    <tr>\n",
       "      <th>1449</th>\n",
       "      <td>Color</td>\n",
       "      <td>Albert Hughes</td>\n",
       "      <td>208</td>\n",
       "      <td>122</td>\n",
       "      <td>117</td>\n",
       "      <td>140</td>\n",
       "      <td>Jason Flemyng</td>\n",
       "      <td>40000</td>\n",
       "      <td>Horror|Mystery|Thriller</td>\n",
       "      <td>Johnny Depp</td>\n",
       "      <td>...</td>\n",
       "      <td>freemason|jack the ripper|opium|prostitute|vic...</td>\n",
       "      <td>http://www.imdb.com/title/tt0120681/?ref_=fn_t...</td>\n",
       "      <td>541</td>\n",
       "      <td>English</td>\n",
       "      <td>USA</td>\n",
       "      <td>R</td>\n",
       "      <td>1970-01-01 00:00:00.000002001</td>\n",
       "      <td>1000</td>\n",
       "      <td>6.8</td>\n",
       "      <td>0</td>\n",
       "    </tr>\n",
       "    <tr>\n",
       "      <th>2169</th>\n",
       "      <td>Color</td>\n",
       "      <td>Paul McGuigan</td>\n",
       "      <td>98</td>\n",
       "      <td>114</td>\n",
       "      <td>118</td>\n",
       "      <td>40</td>\n",
       "      <td>Christopher Cousins</td>\n",
       "      <td>489</td>\n",
       "      <td>Drama|Mystery|Romance|Thriller</td>\n",
       "      <td>Jessica Paré</td>\n",
       "      <td>...</td>\n",
       "      <td>flashback|flashback within a flashback|multipl...</td>\n",
       "      <td>http://www.imdb.com/title/tt0324554/?ref_=fn_t...</td>\n",
       "      <td>298</td>\n",
       "      <td>English</td>\n",
       "      <td>USA</td>\n",
       "      <td>PG-13</td>\n",
       "      <td>1970-01-01 00:00:00.000002004</td>\n",
       "      <td>93</td>\n",
       "      <td>7.0</td>\n",
       "      <td>0</td>\n",
       "    </tr>\n",
       "    <tr>\n",
       "      <th>2292</th>\n",
       "      <td>Color</td>\n",
       "      <td>Frank Oz</td>\n",
       "      <td>168</td>\n",
       "      <td>87</td>\n",
       "      <td>0</td>\n",
       "      <td>548</td>\n",
       "      <td>Ewen Bremner</td>\n",
       "      <td>22000</td>\n",
       "      <td>Comedy</td>\n",
       "      <td>Peter Dinklage</td>\n",
       "      <td>...</td>\n",
       "      <td>end credits roll call|four word title|funeral|...</td>\n",
       "      <td>http://www.imdb.com/title/tt0795368/?ref_=fn_t...</td>\n",
       "      <td>199</td>\n",
       "      <td>English</td>\n",
       "      <td>USA</td>\n",
       "      <td>R</td>\n",
       "      <td>1970-01-01 00:00:00.000002007</td>\n",
       "      <td>557</td>\n",
       "      <td>7.4</td>\n",
       "      <td>0</td>\n",
       "    </tr>\n",
       "    <tr>\n",
       "      <th>2493</th>\n",
       "      <td>Black and White</td>\n",
       "      <td>Yimou Zhang</td>\n",
       "      <td>283</td>\n",
       "      <td>80</td>\n",
       "      <td>611</td>\n",
       "      <td>576</td>\n",
       "      <td>Tony Chiu Wai Leung</td>\n",
       "      <td>5000</td>\n",
       "      <td>Action|Adventure|History</td>\n",
       "      <td>Jet Li</td>\n",
       "      <td>...</td>\n",
       "      <td>china|flying|king|palace|sword</td>\n",
       "      <td>http://www.imdb.com/title/tt0299977/?ref_=fn_t...</td>\n",
       "      <td>841</td>\n",
       "      <td>Mandarin</td>\n",
       "      <td>China</td>\n",
       "      <td>PG-13</td>\n",
       "      <td>1970-01-01 00:00:00.000002002</td>\n",
       "      <td>643</td>\n",
       "      <td>7.9</td>\n",
       "      <td>0</td>\n",
       "    </tr>\n",
       "    <tr>\n",
       "      <th>2533</th>\n",
       "      <td>Color</td>\n",
       "      <td>Neil Burger</td>\n",
       "      <td>236</td>\n",
       "      <td>110</td>\n",
       "      <td>168</td>\n",
       "      <td>96</td>\n",
       "      <td>Eddie Marsan</td>\n",
       "      <td>3000</td>\n",
       "      <td>Drama|Mystery|Romance|Thriller</td>\n",
       "      <td>Rufus Sewell</td>\n",
       "      <td>...</td>\n",
       "      <td>duchess|illusionist|magician|prince|supernatur...</td>\n",
       "      <td>http://www.imdb.com/title/tt0443543/?ref_=fn_t...</td>\n",
       "      <td>645</td>\n",
       "      <td>English</td>\n",
       "      <td>USA</td>\n",
       "      <td>PG-13</td>\n",
       "      <td>1970-01-01 00:00:00.000002006</td>\n",
       "      <td>979</td>\n",
       "      <td>7.6</td>\n",
       "      <td>15000</td>\n",
       "    </tr>\n",
       "    <tr>\n",
       "      <th>2562</th>\n",
       "      <td>Color</td>\n",
       "      <td>Jon Lucas</td>\n",
       "      <td>81</td>\n",
       "      <td>100</td>\n",
       "      <td>24</td>\n",
       "      <td>851</td>\n",
       "      <td>Jay Hernandez</td>\n",
       "      <td>15000</td>\n",
       "      <td>Comedy</td>\n",
       "      <td>Mila Kunis</td>\n",
       "      <td>...</td>\n",
       "      <td>lesbian kiss|mom|pta|reference to mad max|scen...</td>\n",
       "      <td>http://www.imdb.com/title/tt4651520/?ref_=fn_t...</td>\n",
       "      <td>46</td>\n",
       "      <td>English</td>\n",
       "      <td>USA</td>\n",
       "      <td>R</td>\n",
       "      <td>1970-01-01 00:00:00.000002016</td>\n",
       "      <td>1000</td>\n",
       "      <td>6.7</td>\n",
       "      <td>18000</td>\n",
       "    </tr>\n",
       "    <tr>\n",
       "      <th>2568</th>\n",
       "      <td>Color</td>\n",
       "      <td>Vic Armstrong</td>\n",
       "      <td>169</td>\n",
       "      <td>110</td>\n",
       "      <td>179</td>\n",
       "      <td>734</td>\n",
       "      <td>Lea Thompson</td>\n",
       "      <td>12000</td>\n",
       "      <td>Action|Drama|Fantasy|Mystery|Thriller</td>\n",
       "      <td>Nicolas Cage</td>\n",
       "      <td>...</td>\n",
       "      <td>bible quote|chaos|faith|riot|shrine</td>\n",
       "      <td>http://www.imdb.com/title/tt2467046/?ref_=fn_t...</td>\n",
       "      <td>374</td>\n",
       "      <td>English</td>\n",
       "      <td>USA</td>\n",
       "      <td>PG-13</td>\n",
       "      <td>1970-01-01 00:00:00.000002014</td>\n",
       "      <td>1000</td>\n",
       "      <td>3.1</td>\n",
       "      <td>31000</td>\n",
       "    </tr>\n",
       "    <tr>\n",
       "      <th>2619</th>\n",
       "      <td>Color</td>\n",
       "      <td>John Carpenter</td>\n",
       "      <td>318</td>\n",
       "      <td>101</td>\n",
       "      <td>0</td>\n",
       "      <td>598</td>\n",
       "      <td>Donald Pleasence</td>\n",
       "      <td>2000</td>\n",
       "      <td>Horror|Thriller</td>\n",
       "      <td>Jamie Lee Curtis</td>\n",
       "      <td>...</td>\n",
       "      <td>halloween|masked killer|michael myers|slasher|...</td>\n",
       "      <td>http://www.imdb.com/title/tt0077651/?ref_=fn_t...</td>\n",
       "      <td>1191</td>\n",
       "      <td>English</td>\n",
       "      <td>USA</td>\n",
       "      <td>R</td>\n",
       "      <td>1970-01-01 00:00:00.000001978</td>\n",
       "      <td>742</td>\n",
       "      <td>7.9</td>\n",
       "      <td>12000</td>\n",
       "    </tr>\n",
       "    <tr>\n",
       "      <th>2771</th>\n",
       "      <td>Color</td>\n",
       "      <td>Ole Bornedal</td>\n",
       "      <td>264</td>\n",
       "      <td>92</td>\n",
       "      <td>30</td>\n",
       "      <td>309</td>\n",
       "      <td>Madison Davenport</td>\n",
       "      <td>941</td>\n",
       "      <td>Horror|Thriller</td>\n",
       "      <td>Kyra Sedgwick</td>\n",
       "      <td>...</td>\n",
       "      <td>basketball coach|box|jewish|rabbi|yard sale</td>\n",
       "      <td>http://www.imdb.com/title/tt0431021/?ref_=fn_t...</td>\n",
       "      <td>162</td>\n",
       "      <td>English</td>\n",
       "      <td>USA</td>\n",
       "      <td>PG-13</td>\n",
       "      <td>1970-01-01 00:00:00.000002012</td>\n",
       "      <td>459</td>\n",
       "      <td>5.9</td>\n",
       "      <td>17000</td>\n",
       "    </tr>\n",
       "    <tr>\n",
       "      <th>2777</th>\n",
       "      <td>Color</td>\n",
       "      <td>Stephen Frears</td>\n",
       "      <td>51</td>\n",
       "      <td>119</td>\n",
       "      <td>350</td>\n",
       "      <td>418</td>\n",
       "      <td>Peter Capaldi</td>\n",
       "      <td>18000</td>\n",
       "      <td>Drama|Romance</td>\n",
       "      <td>Keanu Reeves</td>\n",
       "      <td>...</td>\n",
       "      <td>catholic|corruption|emotional abuse|france|sed...</td>\n",
       "      <td>http://www.imdb.com/title/tt0094947/?ref_=fn_t...</td>\n",
       "      <td>143</td>\n",
       "      <td>English</td>\n",
       "      <td>USA</td>\n",
       "      <td>R</td>\n",
       "      <td>1970-01-01 00:00:00.000001988</td>\n",
       "      <td>17000</td>\n",
       "      <td>7.7</td>\n",
       "      <td>0</td>\n",
       "    </tr>\n",
       "    <tr>\n",
       "      <th>2798</th>\n",
       "      <td>Color</td>\n",
       "      <td>Shawn Levy</td>\n",
       "      <td>69</td>\n",
       "      <td>88</td>\n",
       "      <td>189</td>\n",
       "      <td>799</td>\n",
       "      <td>Donald Faison</td>\n",
       "      <td>934</td>\n",
       "      <td>Adventure|Comedy|Family</td>\n",
       "      <td>Frankie Muniz</td>\n",
       "      <td>...</td>\n",
       "      <td>brunette|film producer|liar|prank|stunt</td>\n",
       "      <td>http://www.imdb.com/title/tt0265298/?ref_=fn_t...</td>\n",
       "      <td>99</td>\n",
       "      <td>English</td>\n",
       "      <td>USA</td>\n",
       "      <td>PG</td>\n",
       "      <td>1970-01-01 00:00:00.000002002</td>\n",
       "      <td>927</td>\n",
       "      <td>5.4</td>\n",
       "      <td>896</td>\n",
       "    </tr>\n",
       "    <tr>\n",
       "      <th>2971</th>\n",
       "      <td>Color</td>\n",
       "      <td>John Lee Hancock</td>\n",
       "      <td>106</td>\n",
       "      <td>137</td>\n",
       "      <td>102</td>\n",
       "      <td>877</td>\n",
       "      <td>Marc Blucas</td>\n",
       "      <td>2000</td>\n",
       "      <td>Drama|History|War|Western</td>\n",
       "      <td>Dennis Quaid</td>\n",
       "      <td>...</td>\n",
       "      <td>army|dictator|general|texan|texas</td>\n",
       "      <td>http://www.imdb.com/title/tt0318974/?ref_=fn_t...</td>\n",
       "      <td>267</td>\n",
       "      <td>English</td>\n",
       "      <td>USA</td>\n",
       "      <td>PG-13</td>\n",
       "      <td>1970-01-01 00:00:00.000002004</td>\n",
       "      <td>973</td>\n",
       "      <td>6.0</td>\n",
       "      <td>701</td>\n",
       "    </tr>\n",
       "    <tr>\n",
       "      <th>3117</th>\n",
       "      <td>Color</td>\n",
       "      <td>Guy Ritchie</td>\n",
       "      <td>151</td>\n",
       "      <td>104</td>\n",
       "      <td>0</td>\n",
       "      <td>1000</td>\n",
       "      <td>Brad Pitt</td>\n",
       "      <td>26000</td>\n",
       "      <td>Comedy|Crime</td>\n",
       "      <td>Jason Statham</td>\n",
       "      <td>...</td>\n",
       "      <td>boxer|boxing|diamond|fight|gypsy</td>\n",
       "      <td>http://www.imdb.com/title/tt0208092/?ref_=fn_t...</td>\n",
       "      <td>726</td>\n",
       "      <td>English</td>\n",
       "      <td>UK</td>\n",
       "      <td>R</td>\n",
       "      <td>1970-01-01 00:00:00.000002000</td>\n",
       "      <td>11000</td>\n",
       "      <td>8.3</td>\n",
       "      <td>27000</td>\n",
       "    </tr>\n",
       "    <tr>\n",
       "      <th>3345</th>\n",
       "      <td>Color</td>\n",
       "      <td>Herbert Ross</td>\n",
       "      <td>60</td>\n",
       "      <td>107</td>\n",
       "      <td>71</td>\n",
       "      <td>304</td>\n",
       "      <td>Chris Penn</td>\n",
       "      <td>967</td>\n",
       "      <td>Drama|Music|Romance</td>\n",
       "      <td>Dianne Wiest</td>\n",
       "      <td>...</td>\n",
       "      <td>church|cowboy boots|dancing|high school dance|...</td>\n",
       "      <td>http://www.imdb.com/title/tt0087277/?ref_=fn_t...</td>\n",
       "      <td>113</td>\n",
       "      <td>English</td>\n",
       "      <td>USA</td>\n",
       "      <td>PG</td>\n",
       "      <td>1970-01-01 00:00:00.000001984</td>\n",
       "      <td>455</td>\n",
       "      <td>6.5</td>\n",
       "      <td>0</td>\n",
       "    </tr>\n",
       "    <tr>\n",
       "      <th>3452</th>\n",
       "      <td>Color</td>\n",
       "      <td>Paul Haggis</td>\n",
       "      <td>287</td>\n",
       "      <td>115</td>\n",
       "      <td>549</td>\n",
       "      <td>911</td>\n",
       "      <td>Loretta Devine</td>\n",
       "      <td>3000</td>\n",
       "      <td>Crime|Drama|Thriller</td>\n",
       "      <td>Don Cheadle</td>\n",
       "      <td>...</td>\n",
       "      <td>race relations|racism|racist|social problem|st...</td>\n",
       "      <td>http://www.imdb.com/title/tt0375679/?ref_=fn_t...</td>\n",
       "      <td>1624</td>\n",
       "      <td>English</td>\n",
       "      <td>Germany</td>\n",
       "      <td>R</td>\n",
       "      <td>1970-01-01 00:00:00.000002004</td>\n",
       "      <td>912</td>\n",
       "      <td>7.9</td>\n",
       "      <td>18000</td>\n",
       "    </tr>\n",
       "    <tr>\n",
       "      <th>3480</th>\n",
       "      <td>Color</td>\n",
       "      <td>Michael Winterbottom</td>\n",
       "      <td>71</td>\n",
       "      <td>115</td>\n",
       "      <td>187</td>\n",
       "      <td>887</td>\n",
       "      <td>Sarah Polley</td>\n",
       "      <td>14000</td>\n",
       "      <td>Drama|Romance|Western</td>\n",
       "      <td>Milla Jovovich</td>\n",
       "      <td>...</td>\n",
       "      <td>gold|gold mine|miner|railroad|surveyor</td>\n",
       "      <td>http://www.imdb.com/title/tt0218378/?ref_=fn_t...</td>\n",
       "      <td>92</td>\n",
       "      <td>English</td>\n",
       "      <td>UK</td>\n",
       "      <td>R</td>\n",
       "      <td>1970-01-01 00:00:00.000002000</td>\n",
       "      <td>900</td>\n",
       "      <td>6.5</td>\n",
       "      <td>141</td>\n",
       "    </tr>\n",
       "    <tr>\n",
       "      <th>3729</th>\n",
       "      <td>Color</td>\n",
       "      <td>Tim Blake Nelson</td>\n",
       "      <td>92</td>\n",
       "      <td>95</td>\n",
       "      <td>596</td>\n",
       "      <td>697</td>\n",
       "      <td>Andrew Keegan</td>\n",
       "      <td>1000</td>\n",
       "      <td>Drama|Romance|Thriller</td>\n",
       "      <td>Mekhi Phifer</td>\n",
       "      <td>...</td>\n",
       "      <td>basketball|basketball player|boarding school|l...</td>\n",
       "      <td>http://www.imdb.com/title/tt0184791/?ref_=fn_t...</td>\n",
       "      <td>153</td>\n",
       "      <td>English</td>\n",
       "      <td>USA</td>\n",
       "      <td>R</td>\n",
       "      <td>1970-01-01 00:00:00.000002001</td>\n",
       "      <td>835</td>\n",
       "      <td>6.2</td>\n",
       "      <td>0</td>\n",
       "    </tr>\n",
       "    <tr>\n",
       "      <th>3915</th>\n",
       "      <td>Color</td>\n",
       "      <td>Wes Craven</td>\n",
       "      <td>160</td>\n",
       "      <td>107</td>\n",
       "      <td>0</td>\n",
       "      <td>255</td>\n",
       "      <td>Emily Meade</td>\n",
       "      <td>798</td>\n",
       "      <td>Horror|Mystery|Thriller</td>\n",
       "      <td>Frank Grillo</td>\n",
       "      <td>...</td>\n",
       "      <td>evil|killer|murder|psychopath|serial killer</td>\n",
       "      <td>http://www.imdb.com/title/tt0872230/?ref_=fn_t...</td>\n",
       "      <td>136</td>\n",
       "      <td>English</td>\n",
       "      <td>USA</td>\n",
       "      <td>R</td>\n",
       "      <td>1970-01-01 00:00:00.000002010</td>\n",
       "      <td>374</td>\n",
       "      <td>4.8</td>\n",
       "      <td>0</td>\n",
       "    </tr>\n",
       "    <tr>\n",
       "      <th>4182</th>\n",
       "      <td>Color</td>\n",
       "      <td>Rob Zombie</td>\n",
       "      <td>220</td>\n",
       "      <td>119</td>\n",
       "      <td>0</td>\n",
       "      <td>593</td>\n",
       "      <td>Tyler Mane</td>\n",
       "      <td>908</td>\n",
       "      <td>Horror</td>\n",
       "      <td>Scout Taylor-Compton</td>\n",
       "      <td>...</td>\n",
       "      <td>halloween|hospital|michael myers|rampage|vomiting</td>\n",
       "      <td>http://www.imdb.com/title/tt1311067/?ref_=fn_t...</td>\n",
       "      <td>491</td>\n",
       "      <td>English</td>\n",
       "      <td>USA</td>\n",
       "      <td>R</td>\n",
       "      <td>1970-01-01 00:00:00.000002009</td>\n",
       "      <td>764</td>\n",
       "      <td>4.9</td>\n",
       "      <td>3000</td>\n",
       "    </tr>\n",
       "    <tr>\n",
       "      <th>4226</th>\n",
       "      <td>Color</td>\n",
       "      <td>William Friedkin</td>\n",
       "      <td>138</td>\n",
       "      <td>104</td>\n",
       "      <td>607</td>\n",
       "      <td>109</td>\n",
       "      <td>Fernando Rey</td>\n",
       "      <td>813</td>\n",
       "      <td>Action|Crime|Drama|Thriller</td>\n",
       "      <td>Roy Scheider</td>\n",
       "      <td>...</td>\n",
       "      <td>crime boss|drug smuggling|heroin|mafia boss|or...</td>\n",
       "      <td>http://www.imdb.com/title/tt0067116/?ref_=fn_t...</td>\n",
       "      <td>280</td>\n",
       "      <td>English</td>\n",
       "      <td>USA</td>\n",
       "      <td>R</td>\n",
       "      <td>1970-01-01 00:00:00.000001971</td>\n",
       "      <td>165</td>\n",
       "      <td>7.8</td>\n",
       "      <td>0</td>\n",
       "    </tr>\n",
       "    <tr>\n",
       "      <th>4282</th>\n",
       "      <td>Color</td>\n",
       "      <td>Kenneth Branagh</td>\n",
       "      <td>85</td>\n",
       "      <td>150</td>\n",
       "      <td>0</td>\n",
       "      <td>401</td>\n",
       "      <td>Brian Blessed</td>\n",
       "      <td>597</td>\n",
       "      <td>Drama</td>\n",
       "      <td>Julie Christie</td>\n",
       "      <td>...</td>\n",
       "      <td>classic literature|denmark|funeral|madness|prince</td>\n",
       "      <td>http://www.imdb.com/title/tt0116477/?ref_=fn_t...</td>\n",
       "      <td>224</td>\n",
       "      <td>English</td>\n",
       "      <td>UK</td>\n",
       "      <td>PG-13</td>\n",
       "      <td>1970-01-01 00:00:00.000001996</td>\n",
       "      <td>591</td>\n",
       "      <td>7.8</td>\n",
       "      <td>0</td>\n",
       "    </tr>\n",
       "    <tr>\n",
       "      <th>4313</th>\n",
       "      <td>Color</td>\n",
       "      <td>Bruce McCulloch</td>\n",
       "      <td>52</td>\n",
       "      <td>85</td>\n",
       "      <td>54</td>\n",
       "      <td>455</td>\n",
       "      <td>Megan Mullally</td>\n",
       "      <td>985</td>\n",
       "      <td>Comedy|Crime</td>\n",
       "      <td>Martin Starr</td>\n",
       "      <td>...</td>\n",
       "      <td>black humor|crying during sex|harvard|humor|ma...</td>\n",
       "      <td>http://www.imdb.com/title/tt0265808/?ref_=fn_t...</td>\n",
       "      <td>92</td>\n",
       "      <td>English</td>\n",
       "      <td>USA</td>\n",
       "      <td>PG-13</td>\n",
       "      <td>1970-01-01 00:00:00.000002002</td>\n",
       "      <td>637</td>\n",
       "      <td>5.1</td>\n",
       "      <td>215</td>\n",
       "    </tr>\n",
       "    <tr>\n",
       "      <th>4408</th>\n",
       "      <td>Color</td>\n",
       "      <td>Yimou Zhang</td>\n",
       "      <td>101</td>\n",
       "      <td>95</td>\n",
       "      <td>611</td>\n",
       "      <td>3</td>\n",
       "      <td>Ni Yan</td>\n",
       "      <td>9</td>\n",
       "      <td>Comedy|Drama</td>\n",
       "      <td>Honglei Sun</td>\n",
       "      <td>...</td>\n",
       "      <td>betrayal|husband wife relationship|murder|nood...</td>\n",
       "      <td>http://www.imdb.com/title/tt1428556/?ref_=fn_t...</td>\n",
       "      <td>20</td>\n",
       "      <td>Mandarin</td>\n",
       "      <td>China</td>\n",
       "      <td>R</td>\n",
       "      <td>1970-01-01 00:00:00.000002009</td>\n",
       "      <td>4</td>\n",
       "      <td>5.7</td>\n",
       "      <td>784</td>\n",
       "    </tr>\n",
       "    <tr>\n",
       "      <th>4565</th>\n",
       "      <td>Color</td>\n",
       "      <td>Peter Cattaneo</td>\n",
       "      <td>122</td>\n",
       "      <td>91</td>\n",
       "      <td>11</td>\n",
       "      <td>121</td>\n",
       "      <td>Mark Addy</td>\n",
       "      <td>1000</td>\n",
       "      <td>Comedy|Drama|Music</td>\n",
       "      <td>Tom Wilkinson</td>\n",
       "      <td>...</td>\n",
       "      <td>dole|male stripper|northern england|steel work...</td>\n",
       "      <td>http://www.imdb.com/title/tt0119164/?ref_=fn_t...</td>\n",
       "      <td>174</td>\n",
       "      <td>English</td>\n",
       "      <td>UK</td>\n",
       "      <td>R</td>\n",
       "      <td>1970-01-01 00:00:00.000001997</td>\n",
       "      <td>891</td>\n",
       "      <td>7.2</td>\n",
       "      <td>0</td>\n",
       "    </tr>\n",
       "    <tr>\n",
       "      <th>4573</th>\n",
       "      <td>Color</td>\n",
       "      <td>Mel Brooks</td>\n",
       "      <td>48</td>\n",
       "      <td>92</td>\n",
       "      <td>0</td>\n",
       "      <td>842</td>\n",
       "      <td>Sid Caesar</td>\n",
       "      <td>1000</td>\n",
       "      <td>Comedy</td>\n",
       "      <td>Madeline Kahn</td>\n",
       "      <td>...</td>\n",
       "      <td>french revolution|old testament|part of an unf...</td>\n",
       "      <td>http://www.imdb.com/title/tt0082517/?ref_=fn_t...</td>\n",
       "      <td>131</td>\n",
       "      <td>English</td>\n",
       "      <td>USA</td>\n",
       "      <td>R</td>\n",
       "      <td>1970-01-01 00:00:00.000001981</td>\n",
       "      <td>898</td>\n",
       "      <td>6.9</td>\n",
       "      <td>0</td>\n",
       "    </tr>\n",
       "    <tr>\n",
       "      <th>4631</th>\n",
       "      <td>Color</td>\n",
       "      <td>Danny Boyle</td>\n",
       "      <td>393</td>\n",
       "      <td>101</td>\n",
       "      <td>0</td>\n",
       "      <td>888</td>\n",
       "      <td>Spencer Wilding</td>\n",
       "      <td>3000</td>\n",
       "      <td>Crime|Drama|Mystery|Thriller</td>\n",
       "      <td>Rosario Dawson</td>\n",
       "      <td>...</td>\n",
       "      <td>amnesia|criminal|heist|hypnotherapy|lost painting</td>\n",
       "      <td>http://www.imdb.com/title/tt1924429/?ref_=fn_t...</td>\n",
       "      <td>212</td>\n",
       "      <td>English</td>\n",
       "      <td>UK</td>\n",
       "      <td>R</td>\n",
       "      <td>1970-01-01 00:00:00.000002013</td>\n",
       "      <td>1000</td>\n",
       "      <td>7.0</td>\n",
       "      <td>23000</td>\n",
       "    </tr>\n",
       "    <tr>\n",
       "      <th>4769</th>\n",
       "      <td>Color</td>\n",
       "      <td>Tamra Davis</td>\n",
       "      <td>111</td>\n",
       "      <td>93</td>\n",
       "      <td>33</td>\n",
       "      <td>135</td>\n",
       "      <td>Katherine Boecher</td>\n",
       "      <td>1000</td>\n",
       "      <td>Comedy|Drama</td>\n",
       "      <td>Britney Spears</td>\n",
       "      <td>...</td>\n",
       "      <td>audition|friendship|graduation|high school gra...</td>\n",
       "      <td>http://www.imdb.com/title/tt0275022/?ref_=fn_t...</td>\n",
       "      <td>578</td>\n",
       "      <td>English</td>\n",
       "      <td>USA</td>\n",
       "      <td>PG-13</td>\n",
       "      <td>1970-01-01 00:00:00.000002002</td>\n",
       "      <td>188</td>\n",
       "      <td>3.3</td>\n",
       "      <td>0</td>\n",
       "    </tr>\n",
       "    <tr>\n",
       "      <th>4927</th>\n",
       "      <td>Color</td>\n",
       "      <td>Jason Stone</td>\n",
       "      <td>48</td>\n",
       "      <td>108</td>\n",
       "      <td>14</td>\n",
       "      <td>826</td>\n",
       "      <td>Ellen Burstyn</td>\n",
       "      <td>2000</td>\n",
       "      <td>Thriller</td>\n",
       "      <td>Topher Grace</td>\n",
       "      <td>...</td>\n",
       "      <td>bouquet|house fire|praying|serial killer|tied ...</td>\n",
       "      <td>http://www.imdb.com/title/tt1666335/?ref_=fn_t...</td>\n",
       "      <td>28</td>\n",
       "      <td>English</td>\n",
       "      <td>USA</td>\n",
       "      <td>R</td>\n",
       "      <td>1970-01-01 00:00:00.000002014</td>\n",
       "      <td>1000</td>\n",
       "      <td>5.8</td>\n",
       "      <td>0</td>\n",
       "    </tr>\n",
       "    <tr>\n",
       "      <th>4942</th>\n",
       "      <td>Color</td>\n",
       "      <td>Paul Schrader</td>\n",
       "      <td>130</td>\n",
       "      <td>93</td>\n",
       "      <td>261</td>\n",
       "      <td>697</td>\n",
       "      <td>Ruby Dee</td>\n",
       "      <td>783</td>\n",
       "      <td>Fantasy|Horror|Thriller</td>\n",
       "      <td>Ed Begley Jr.</td>\n",
       "      <td>...</td>\n",
       "      <td>cat|cat people|leopard|love|slip the undergarment</td>\n",
       "      <td>http://www.imdb.com/title/tt0083722/?ref_=fn_t...</td>\n",
       "      <td>106</td>\n",
       "      <td>English</td>\n",
       "      <td>USA</td>\n",
       "      <td>R</td>\n",
       "      <td>1970-01-01 00:00:00.000001982</td>\n",
       "      <td>782</td>\n",
       "      <td>6.1</td>\n",
       "      <td>0</td>\n",
       "    </tr>\n",
       "    <tr>\n",
       "      <th>4951</th>\n",
       "      <td>Black and White</td>\n",
       "      <td>George A. Romero</td>\n",
       "      <td>284</td>\n",
       "      <td>96</td>\n",
       "      <td>0</td>\n",
       "      <td>56</td>\n",
       "      <td>Duane Jones</td>\n",
       "      <td>125</td>\n",
       "      <td>Drama|Horror|Mystery</td>\n",
       "      <td>Judith O'Dea</td>\n",
       "      <td>...</td>\n",
       "      <td>cemetery|farmhouse|radiation|running out of ga...</td>\n",
       "      <td>http://www.imdb.com/title/tt0063350/?ref_=fn_t...</td>\n",
       "      <td>580</td>\n",
       "      <td>English</td>\n",
       "      <td>USA</td>\n",
       "      <td>Unrated</td>\n",
       "      <td>1970-01-01 00:00:00.000001968</td>\n",
       "      <td>108</td>\n",
       "      <td>8.0</td>\n",
       "      <td>0</td>\n",
       "    </tr>\n",
       "  </tbody>\n",
       "</table>\n",
       "<p>40 rows × 25 columns</p>\n",
       "</div>"
      ],
      "text/plain": [
       "                 color         director_name  num_critic_for_reviews  \\\n",
       "137              Color           David Yates                     248   \n",
       "187              Color           Bill Condon                     322   \n",
       "303              Color            Joe Wright                     256   \n",
       "389              Color            Josh Trank                     369   \n",
       "395              Color             Rob Cohen                     187   \n",
       "590              Color          Brett Ratner                     245   \n",
       "656              Color        Paul Verhoeven                     196   \n",
       "794              Color           Joss Whedon                     703   \n",
       "1220             Color   Angelina Jolie Pitt                     322   \n",
       "1305             Color         Paul McGuigan                     159   \n",
       "1449             Color         Albert Hughes                     208   \n",
       "2169             Color         Paul McGuigan                      98   \n",
       "2292             Color              Frank Oz                     168   \n",
       "2493   Black and White           Yimou Zhang                     283   \n",
       "2533             Color           Neil Burger                     236   \n",
       "2562             Color             Jon Lucas                      81   \n",
       "2568             Color         Vic Armstrong                     169   \n",
       "2619             Color        John Carpenter                     318   \n",
       "2771             Color          Ole Bornedal                     264   \n",
       "2777             Color        Stephen Frears                      51   \n",
       "2798             Color            Shawn Levy                      69   \n",
       "2971             Color      John Lee Hancock                     106   \n",
       "3117             Color           Guy Ritchie                     151   \n",
       "3345             Color          Herbert Ross                      60   \n",
       "3452             Color           Paul Haggis                     287   \n",
       "3480             Color  Michael Winterbottom                      71   \n",
       "3729             Color      Tim Blake Nelson                      92   \n",
       "3915             Color            Wes Craven                     160   \n",
       "4182             Color            Rob Zombie                     220   \n",
       "4226             Color      William Friedkin                     138   \n",
       "4282             Color       Kenneth Branagh                      85   \n",
       "4313             Color       Bruce McCulloch                      52   \n",
       "4408             Color           Yimou Zhang                     101   \n",
       "4565             Color        Peter Cattaneo                     122   \n",
       "4573             Color            Mel Brooks                      48   \n",
       "4631             Color           Danny Boyle                     393   \n",
       "4769             Color           Tamra Davis                     111   \n",
       "4927             Color           Jason Stone                      48   \n",
       "4942             Color         Paul Schrader                     130   \n",
       "4951   Black and White      George A. Romero                     284   \n",
       "\n",
       "      duration  director_facebook_likes  actor_3_facebook_likes  \\\n",
       "137        110                      282                     103   \n",
       "187        115                      386                   12000   \n",
       "303        111                      456                     394   \n",
       "389        100                      128                      78   \n",
       "395        106                      357                    4000   \n",
       "590        101                      420                     467   \n",
       "656        113                      719                     217   \n",
       "794        173                        0                   19000   \n",
       "1220       137                    11000                     465   \n",
       "1305       110                      118                     287   \n",
       "1449       122                      117                     140   \n",
       "2169       114                      118                      40   \n",
       "2292        87                        0                     548   \n",
       "2493        80                      611                     576   \n",
       "2533       110                      168                      96   \n",
       "2562       100                       24                     851   \n",
       "2568       110                      179                     734   \n",
       "2619       101                        0                     598   \n",
       "2771        92                       30                     309   \n",
       "2777       119                      350                     418   \n",
       "2798        88                      189                     799   \n",
       "2971       137                      102                     877   \n",
       "3117       104                        0                    1000   \n",
       "3345       107                       71                     304   \n",
       "3452       115                      549                     911   \n",
       "3480       115                      187                     887   \n",
       "3729        95                      596                     697   \n",
       "3915       107                        0                     255   \n",
       "4182       119                        0                     593   \n",
       "4226       104                      607                     109   \n",
       "4282       150                        0                     401   \n",
       "4313        85                       54                     455   \n",
       "4408        95                      611                       3   \n",
       "4565        91                       11                     121   \n",
       "4573        92                        0                     842   \n",
       "4631       101                        0                     888   \n",
       "4769        93                       33                     135   \n",
       "4927       108                       14                     826   \n",
       "4942        93                      261                     697   \n",
       "4951        96                        0                      56   \n",
       "\n",
       "             actor_2_name  actor_1_facebook_likes  \\\n",
       "137   Alexander Skarsgård                   11000   \n",
       "187       Kristen Stewart                   21000   \n",
       "303       Cara Delevingne                   20000   \n",
       "389         Reg E. Cathey                     596   \n",
       "395            Vin Diesel                   23000   \n",
       "590          Rufus Sewell                   12000   \n",
       "656        Rachel Ticotin                     605   \n",
       "794     Robert Downey Jr.                   26000   \n",
       "1220       Jack O'Connell                     769   \n",
       "1305      Spencer Wilding                   11000   \n",
       "1449        Jason Flemyng                   40000   \n",
       "2169  Christopher Cousins                     489   \n",
       "2292         Ewen Bremner                   22000   \n",
       "2493  Tony Chiu Wai Leung                    5000   \n",
       "2533         Eddie Marsan                    3000   \n",
       "2562        Jay Hernandez                   15000   \n",
       "2568         Lea Thompson                   12000   \n",
       "2619     Donald Pleasence                    2000   \n",
       "2771    Madison Davenport                     941   \n",
       "2777        Peter Capaldi                   18000   \n",
       "2798        Donald Faison                     934   \n",
       "2971          Marc Blucas                    2000   \n",
       "3117            Brad Pitt                   26000   \n",
       "3345           Chris Penn                     967   \n",
       "3452       Loretta Devine                    3000   \n",
       "3480         Sarah Polley                   14000   \n",
       "3729        Andrew Keegan                    1000   \n",
       "3915          Emily Meade                     798   \n",
       "4182           Tyler Mane                     908   \n",
       "4226         Fernando Rey                     813   \n",
       "4282        Brian Blessed                     597   \n",
       "4313       Megan Mullally                     985   \n",
       "4408               Ni Yan                       9   \n",
       "4565            Mark Addy                    1000   \n",
       "4573           Sid Caesar                    1000   \n",
       "4631      Spencer Wilding                    3000   \n",
       "4769    Katherine Boecher                    1000   \n",
       "4927        Ellen Burstyn                    2000   \n",
       "4942             Ruby Dee                     783   \n",
       "4951          Duane Jones                     125   \n",
       "\n",
       "                                     genres          actor_1_name  ...  \\\n",
       "137          Action|Adventure|Drama|Romance       Christoph Waltz  ...   \n",
       "187         Adventure|Drama|Fantasy|Romance      Robert Pattinson  ...   \n",
       "303                Adventure|Family|Fantasy          Hugh Jackman  ...   \n",
       "389                 Action|Adventure|Sci-Fi      Tim Blake Nelson  ...   \n",
       "395                   Action|Crime|Thriller           Paul Walker  ...   \n",
       "590                        Action|Adventure        Dwayne Johnson  ...   \n",
       "656                           Action|Sci-Fi             Ronny Cox  ...   \n",
       "794                 Action|Adventure|Sci-Fi       Chris Hemsworth  ...   \n",
       "1220              Biography|Drama|Sport|War         Finn Wittrock  ...   \n",
       "1305           Drama|Horror|Sci-Fi|Thriller      Daniel Radcliffe  ...   \n",
       "1449                Horror|Mystery|Thriller           Johnny Depp  ...   \n",
       "2169         Drama|Mystery|Romance|Thriller          Jessica Paré  ...   \n",
       "2292                                 Comedy        Peter Dinklage  ...   \n",
       "2493               Action|Adventure|History                Jet Li  ...   \n",
       "2533         Drama|Mystery|Romance|Thriller          Rufus Sewell  ...   \n",
       "2562                                 Comedy            Mila Kunis  ...   \n",
       "2568  Action|Drama|Fantasy|Mystery|Thriller          Nicolas Cage  ...   \n",
       "2619                        Horror|Thriller      Jamie Lee Curtis  ...   \n",
       "2771                        Horror|Thriller         Kyra Sedgwick  ...   \n",
       "2777                          Drama|Romance          Keanu Reeves  ...   \n",
       "2798                Adventure|Comedy|Family         Frankie Muniz  ...   \n",
       "2971              Drama|History|War|Western          Dennis Quaid  ...   \n",
       "3117                           Comedy|Crime         Jason Statham  ...   \n",
       "3345                    Drama|Music|Romance          Dianne Wiest  ...   \n",
       "3452                   Crime|Drama|Thriller           Don Cheadle  ...   \n",
       "3480                  Drama|Romance|Western        Milla Jovovich  ...   \n",
       "3729                 Drama|Romance|Thriller          Mekhi Phifer  ...   \n",
       "3915                Horror|Mystery|Thriller          Frank Grillo  ...   \n",
       "4182                                 Horror  Scout Taylor-Compton  ...   \n",
       "4226            Action|Crime|Drama|Thriller          Roy Scheider  ...   \n",
       "4282                                  Drama        Julie Christie  ...   \n",
       "4313                           Comedy|Crime          Martin Starr  ...   \n",
       "4408                           Comedy|Drama           Honglei Sun  ...   \n",
       "4565                     Comedy|Drama|Music         Tom Wilkinson  ...   \n",
       "4573                                 Comedy         Madeline Kahn  ...   \n",
       "4631           Crime|Drama|Mystery|Thriller        Rosario Dawson  ...   \n",
       "4769                           Comedy|Drama        Britney Spears  ...   \n",
       "4927                               Thriller          Topher Grace  ...   \n",
       "4942                Fantasy|Horror|Thriller         Ed Begley Jr.  ...   \n",
       "4951                   Drama|Horror|Mystery          Judith O'Dea  ...   \n",
       "\n",
       "                                          plot_keywords  \\\n",
       "137   africa|capture|jungle|male objectification|tarzan   \n",
       "187         battle|friend|super strength|vampire|vision   \n",
       "303   1940s|child hero|fantasy world|orphan|referenc...   \n",
       "389   box office flop|critically bashed|portal|telep...   \n",
       "395   eighteen wheeler|illegal street racing|truck|t...   \n",
       "590        army|greek mythology|hercules|king|mercenary   \n",
       "656   ambiguous ending|false memory|implanted memory...   \n",
       "794     alien invasion|assassin|battle|iron man|soldier   \n",
       "1220  emaciation|male nudity|plane crash|prisoner of...   \n",
       "1305  assistant|experiment|frankenstein|medical stud...   \n",
       "1449  freemason|jack the ripper|opium|prostitute|vic...   \n",
       "2169  flashback|flashback within a flashback|multipl...   \n",
       "2292  end credits roll call|four word title|funeral|...   \n",
       "2493                     china|flying|king|palace|sword   \n",
       "2533  duchess|illusionist|magician|prince|supernatur...   \n",
       "2562  lesbian kiss|mom|pta|reference to mad max|scen...   \n",
       "2568                bible quote|chaos|faith|riot|shrine   \n",
       "2619  halloween|masked killer|michael myers|slasher|...   \n",
       "2771        basketball coach|box|jewish|rabbi|yard sale   \n",
       "2777  catholic|corruption|emotional abuse|france|sed...   \n",
       "2798            brunette|film producer|liar|prank|stunt   \n",
       "2971                  army|dictator|general|texan|texas   \n",
       "3117                   boxer|boxing|diamond|fight|gypsy   \n",
       "3345  church|cowboy boots|dancing|high school dance|...   \n",
       "3452  race relations|racism|racist|social problem|st...   \n",
       "3480             gold|gold mine|miner|railroad|surveyor   \n",
       "3729  basketball|basketball player|boarding school|l...   \n",
       "3915        evil|killer|murder|psychopath|serial killer   \n",
       "4182  halloween|hospital|michael myers|rampage|vomiting   \n",
       "4226  crime boss|drug smuggling|heroin|mafia boss|or...   \n",
       "4282  classic literature|denmark|funeral|madness|prince   \n",
       "4313  black humor|crying during sex|harvard|humor|ma...   \n",
       "4408  betrayal|husband wife relationship|murder|nood...   \n",
       "4565  dole|male stripper|northern england|steel work...   \n",
       "4573  french revolution|old testament|part of an unf...   \n",
       "4631  amnesia|criminal|heist|hypnotherapy|lost painting   \n",
       "4769  audition|friendship|graduation|high school gra...   \n",
       "4927  bouquet|house fire|praying|serial killer|tied ...   \n",
       "4942  cat|cat people|leopard|love|slip the undergarment   \n",
       "4951  cemetery|farmhouse|radiation|running out of ga...   \n",
       "\n",
       "                                        movie_imdb_link  num_user_for_reviews  \\\n",
       "137   http://www.imdb.com/title/tt0918940/?ref_=fn_t...                   239   \n",
       "187   http://www.imdb.com/title/tt1673434/?ref_=fn_t...                   329   \n",
       "303   http://www.imdb.com/title/tt3332064/?ref_=fn_t...                   186   \n",
       "389   http://www.imdb.com/title/tt1502712/?ref_=fn_t...                   695   \n",
       "395   http://www.imdb.com/title/tt0232500/?ref_=fn_t...                   988   \n",
       "590   http://www.imdb.com/title/tt1267297/?ref_=fn_t...                   269   \n",
       "656   http://www.imdb.com/title/tt0100802/?ref_=fn_t...                   391   \n",
       "794   http://www.imdb.com/title/tt0848228/?ref_=fn_t...                  1722   \n",
       "1220  http://www.imdb.com/title/tt1809398/?ref_=fn_t...                   351   \n",
       "1305  http://www.imdb.com/title/tt1976009/?ref_=fn_t...                    91   \n",
       "1449  http://www.imdb.com/title/tt0120681/?ref_=fn_t...                   541   \n",
       "2169  http://www.imdb.com/title/tt0324554/?ref_=fn_t...                   298   \n",
       "2292  http://www.imdb.com/title/tt0795368/?ref_=fn_t...                   199   \n",
       "2493  http://www.imdb.com/title/tt0299977/?ref_=fn_t...                   841   \n",
       "2533  http://www.imdb.com/title/tt0443543/?ref_=fn_t...                   645   \n",
       "2562  http://www.imdb.com/title/tt4651520/?ref_=fn_t...                    46   \n",
       "2568  http://www.imdb.com/title/tt2467046/?ref_=fn_t...                   374   \n",
       "2619  http://www.imdb.com/title/tt0077651/?ref_=fn_t...                  1191   \n",
       "2771  http://www.imdb.com/title/tt0431021/?ref_=fn_t...                   162   \n",
       "2777  http://www.imdb.com/title/tt0094947/?ref_=fn_t...                   143   \n",
       "2798  http://www.imdb.com/title/tt0265298/?ref_=fn_t...                    99   \n",
       "2971  http://www.imdb.com/title/tt0318974/?ref_=fn_t...                   267   \n",
       "3117  http://www.imdb.com/title/tt0208092/?ref_=fn_t...                   726   \n",
       "3345  http://www.imdb.com/title/tt0087277/?ref_=fn_t...                   113   \n",
       "3452  http://www.imdb.com/title/tt0375679/?ref_=fn_t...                  1624   \n",
       "3480  http://www.imdb.com/title/tt0218378/?ref_=fn_t...                    92   \n",
       "3729  http://www.imdb.com/title/tt0184791/?ref_=fn_t...                   153   \n",
       "3915  http://www.imdb.com/title/tt0872230/?ref_=fn_t...                   136   \n",
       "4182  http://www.imdb.com/title/tt1311067/?ref_=fn_t...                   491   \n",
       "4226  http://www.imdb.com/title/tt0067116/?ref_=fn_t...                   280   \n",
       "4282  http://www.imdb.com/title/tt0116477/?ref_=fn_t...                   224   \n",
       "4313  http://www.imdb.com/title/tt0265808/?ref_=fn_t...                    92   \n",
       "4408  http://www.imdb.com/title/tt1428556/?ref_=fn_t...                    20   \n",
       "4565  http://www.imdb.com/title/tt0119164/?ref_=fn_t...                   174   \n",
       "4573  http://www.imdb.com/title/tt0082517/?ref_=fn_t...                   131   \n",
       "4631  http://www.imdb.com/title/tt1924429/?ref_=fn_t...                   212   \n",
       "4769  http://www.imdb.com/title/tt0275022/?ref_=fn_t...                   578   \n",
       "4927  http://www.imdb.com/title/tt1666335/?ref_=fn_t...                    28   \n",
       "4942  http://www.imdb.com/title/tt0083722/?ref_=fn_t...                   106   \n",
       "4951  http://www.imdb.com/title/tt0063350/?ref_=fn_t...                   580   \n",
       "\n",
       "      language  country content_rating                    title_year  \\\n",
       "137    English      USA          PG-13 1970-01-01 00:00:00.000002016   \n",
       "187    English      USA          PG-13 1970-01-01 00:00:00.000002012   \n",
       "303    English      USA             PG 1970-01-01 00:00:00.000002015   \n",
       "389    English      USA          PG-13 1970-01-01 00:00:00.000002015   \n",
       "395    English      USA          PG-13 1970-01-01 00:00:00.000002001   \n",
       "590    English      USA          PG-13 1970-01-01 00:00:00.000002014   \n",
       "656    English      USA              R 1970-01-01 00:00:00.000001990   \n",
       "794    English      USA          PG-13 1970-01-01 00:00:00.000002012   \n",
       "1220   English      USA          PG-13 1970-01-01 00:00:00.000002014   \n",
       "1305   English      USA          PG-13 1970-01-01 00:00:00.000002015   \n",
       "1449   English      USA              R 1970-01-01 00:00:00.000002001   \n",
       "2169   English      USA          PG-13 1970-01-01 00:00:00.000002004   \n",
       "2292   English      USA              R 1970-01-01 00:00:00.000002007   \n",
       "2493  Mandarin    China          PG-13 1970-01-01 00:00:00.000002002   \n",
       "2533   English      USA          PG-13 1970-01-01 00:00:00.000002006   \n",
       "2562   English      USA              R 1970-01-01 00:00:00.000002016   \n",
       "2568   English      USA          PG-13 1970-01-01 00:00:00.000002014   \n",
       "2619   English      USA              R 1970-01-01 00:00:00.000001978   \n",
       "2771   English      USA          PG-13 1970-01-01 00:00:00.000002012   \n",
       "2777   English      USA              R 1970-01-01 00:00:00.000001988   \n",
       "2798   English      USA             PG 1970-01-01 00:00:00.000002002   \n",
       "2971   English      USA          PG-13 1970-01-01 00:00:00.000002004   \n",
       "3117   English       UK              R 1970-01-01 00:00:00.000002000   \n",
       "3345   English      USA             PG 1970-01-01 00:00:00.000001984   \n",
       "3452   English  Germany              R 1970-01-01 00:00:00.000002004   \n",
       "3480   English       UK              R 1970-01-01 00:00:00.000002000   \n",
       "3729   English      USA              R 1970-01-01 00:00:00.000002001   \n",
       "3915   English      USA              R 1970-01-01 00:00:00.000002010   \n",
       "4182   English      USA              R 1970-01-01 00:00:00.000002009   \n",
       "4226   English      USA              R 1970-01-01 00:00:00.000001971   \n",
       "4282   English       UK          PG-13 1970-01-01 00:00:00.000001996   \n",
       "4313   English      USA          PG-13 1970-01-01 00:00:00.000002002   \n",
       "4408  Mandarin    China              R 1970-01-01 00:00:00.000002009   \n",
       "4565   English       UK              R 1970-01-01 00:00:00.000001997   \n",
       "4573   English      USA              R 1970-01-01 00:00:00.000001981   \n",
       "4631   English       UK              R 1970-01-01 00:00:00.000002013   \n",
       "4769   English      USA          PG-13 1970-01-01 00:00:00.000002002   \n",
       "4927   English      USA              R 1970-01-01 00:00:00.000002014   \n",
       "4942   English      USA              R 1970-01-01 00:00:00.000001982   \n",
       "4951   English      USA        Unrated 1970-01-01 00:00:00.000001968   \n",
       "\n",
       "      actor_2_facebook_likes imdb_score movie_facebook_likes  \n",
       "137                    10000        6.6                29000  \n",
       "187                    17000        5.5                65000  \n",
       "303                      548        5.8                24000  \n",
       "389                      360        4.3                41000  \n",
       "395                    14000        6.7                14000  \n",
       "590                     3000        6.0                21000  \n",
       "656                      308        7.5                    0  \n",
       "794                    21000        8.1               123000  \n",
       "1220                     698        7.2                35000  \n",
       "1305                    1000        6.0                11000  \n",
       "1449                    1000        6.8                    0  \n",
       "2169                      93        7.0                    0  \n",
       "2292                     557        7.4                    0  \n",
       "2493                     643        7.9                    0  \n",
       "2533                     979        7.6                15000  \n",
       "2562                    1000        6.7                18000  \n",
       "2568                    1000        3.1                31000  \n",
       "2619                     742        7.9                12000  \n",
       "2771                     459        5.9                17000  \n",
       "2777                   17000        7.7                    0  \n",
       "2798                     927        5.4                  896  \n",
       "2971                     973        6.0                  701  \n",
       "3117                   11000        8.3                27000  \n",
       "3345                     455        6.5                    0  \n",
       "3452                     912        7.9                18000  \n",
       "3480                     900        6.5                  141  \n",
       "3729                     835        6.2                    0  \n",
       "3915                     374        4.8                    0  \n",
       "4182                     764        4.9                 3000  \n",
       "4226                     165        7.8                    0  \n",
       "4282                     591        7.8                    0  \n",
       "4313                     637        5.1                  215  \n",
       "4408                       4        5.7                  784  \n",
       "4565                     891        7.2                    0  \n",
       "4573                     898        6.9                    0  \n",
       "4631                    1000        7.0                23000  \n",
       "4769                     188        3.3                    0  \n",
       "4927                    1000        5.8                    0  \n",
       "4942                     782        6.1                    0  \n",
       "4951                     108        8.0                    0  \n",
       "\n",
       "[40 rows x 25 columns]"
      ]
     },
     "execution_count": 609,
     "metadata": {},
     "output_type": "execute_result"
    }
   ],
   "source": [
    "data[data.duplicated()==True]"
   ]
  },
  {
   "cell_type": "code",
   "execution_count": 611,
   "metadata": {},
   "outputs": [],
   "source": [
    "data.drop_duplicates(inplace=True)"
   ]
  },
  {
   "cell_type": "code",
   "execution_count": 612,
   "metadata": {},
   "outputs": [
    {
     "name": "stdout",
     "output_type": "stream",
     "text": [
      "<class 'pandas.core.frame.DataFrame'>\n",
      "Int64Index: 4550 entries, 0 to 5042\n",
      "Data columns (total 25 columns):\n",
      "color                        4550 non-null object\n",
      "director_name                4550 non-null object\n",
      "num_critic_for_reviews       4550 non-null int64\n",
      "duration                     4550 non-null int64\n",
      "director_facebook_likes      4550 non-null int64\n",
      "actor_3_facebook_likes       4550 non-null int64\n",
      "actor_2_name                 4550 non-null object\n",
      "actor_1_facebook_likes       4550 non-null int64\n",
      "genres                       4550 non-null object\n",
      "actor_1_name                 4550 non-null object\n",
      "movie_title                  4550 non-null object\n",
      "num_voted_users              4550 non-null int64\n",
      "cast_total_facebook_likes    4550 non-null int64\n",
      "actor_3_name                 4550 non-null object\n",
      "facenumber_in_poster         4550 non-null int64\n",
      "plot_keywords                4550 non-null object\n",
      "movie_imdb_link              4550 non-null object\n",
      "num_user_for_reviews         4550 non-null int64\n",
      "language                     4550 non-null object\n",
      "country                      4550 non-null object\n",
      "content_rating               4550 non-null object\n",
      "title_year                   4550 non-null datetime64[ns]\n",
      "actor_2_facebook_likes       4550 non-null int64\n",
      "imdb_score                   4550 non-null float64\n",
      "movie_facebook_likes         4550 non-null int64\n",
      "dtypes: datetime64[ns](1), float64(1), int64(11), object(12)\n",
      "memory usage: 924.2+ KB\n"
     ]
    }
   ],
   "source": [
    "data.info() #4590-4550=40，有40行重复数据"
   ]
  },
  {
   "cell_type": "markdown",
   "metadata": {},
   "source": [
    "数据清洗整理完毕"
   ]
  },
  {
   "cell_type": "code",
   "execution_count": null,
   "metadata": {},
   "outputs": [],
   "source": []
  }
 ],
 "metadata": {
  "kernelspec": {
   "display_name": "Python 3",
   "language": "python",
   "name": "python3"
  },
  "language_info": {
   "codemirror_mode": {
    "name": "ipython",
    "version": 3
   },
   "file_extension": ".py",
   "mimetype": "text/x-python",
   "name": "python",
   "nbconvert_exporter": "python",
   "pygments_lexer": "ipython3",
   "version": "3.7.3"
  },
  "toc": {
   "base_numbering": 1,
   "nav_menu": {},
   "number_sections": true,
   "sideBar": true,
   "skip_h1_title": false,
   "title_cell": "Table of Contents",
   "title_sidebar": "Contents",
   "toc_cell": true,
   "toc_position": {
    "height": "calc(100% - 180px)",
    "left": "10px",
    "top": "150px",
    "width": "273.2px"
   },
   "toc_section_display": true,
   "toc_window_display": true
  }
 },
 "nbformat": 4,
 "nbformat_minor": 2
}
